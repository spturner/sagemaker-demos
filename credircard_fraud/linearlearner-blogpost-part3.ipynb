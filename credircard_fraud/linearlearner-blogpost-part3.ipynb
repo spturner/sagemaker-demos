{
 "cells": [
  {
   "cell_type": "markdown",
   "metadata": {
    "nbpresent": {
     "id": "9b84e6dd-6ee6-4127-a73d-03d1c37ab143"
    }
   },
   "source": [
    "# Excel in tuning models using Amazon LinearLearner Algorithm"
   ]
  },
  {
   "cell_type": "markdown",
   "metadata": {
    "nbpresent": {
     "id": "8ed12894-bed7-47e0-ba3f-2d9df457f6e4"
    }
   },
   "source": [
    "# Assumptions and Disclaimers\n",
    "This blogpost assumes that you have already completed the following tutorials from Amazon SageMaker docuemntation:\n",
    "- [Setting up](https://docs.aws.amazon.com/sagemaker/latest/dg/gs-set-up.html)\n",
    "- [Create am Amazon SageMaker Notebook Instance](https://docs.aws.amazon.com/sagemaker/latest/dg/gs-setup-working-env.html)\n",
    "- I have included 'sagemaker' in the name of my S3 bucket, \"cyrusmv-sagemaker-demos' and have chosen to let any SageMaker notebook instance to access any S3 bucket with the term 'sagemaker' included in the name. This is however is not a recommended security option for production and is only useful for simplifying the flow of the blog.\n",
    "- It is assumed that the reader is familiar with linear regression. If not please read part 1 of this post, Linear Regression and Binary Classification, a Friendly Introduction.\n",
    "\n"
   ]
  },
  {
   "cell_type": "markdown",
   "metadata": {
    "nbpresent": {
     "id": "815e8f41-fa98-495d-90a1-ee0fa9f3c0ef"
    }
   },
   "source": [
    "# Hyperparameter Tuning\n",
    "In the previous part we used default hyperparameters:\n",
    "u'epochs': u'10', u'init_bias': u'0.0', u'lr_scheduler_factor': u'0.99', **u'num_calibration_samples': u'10000000'**, u'_num_kv_servers': u'auto', u'use_bias': u'true', u'num_point_for_scaler': u'10000', u'_log_level': u'info', u'bias_lr_mult': u'10', u'lr_scheduler_step': u'100', u'init_method': u'uniform', u'init_sigma': u'0.01', u'lr_scheduler_minimum_lr': u'0.00001', **u'target_recall': u'0.8'**, **u'num_models': u'32'**, u'momentum': u'0.0', u'unbias_label': u'auto', u'wd': u'0.0', u'optimizer': u'adam', u'learning_rate': u'auto', u'_kvstore': u'auto', **u'normalize_data': u'true'**, **u'binary_classifier_model_selection_criteria': u'accuracy'**, u'use_lr_scheduler': u'true', **u'target_precision': u'0.8'**, u'force_dense': u'true', u'unbias_data': u'auto', u'init_scale': u'0.07', u'bias_wd_mult': u'0', u'mini_batch_size': u'1000', u'beta_1': u'0.9', u'loss': u'auto', u'beta_2': u'0.999', u'normalize_label': u'auto', u'_num_gpus': u'auto', u'_data_format': u'record', u'positive_example_weight_mult': u'1.0', u'l1': u'0.0'}\n",
    "\n",
    "Let us highlight a few of these parameters:\n",
    "- **target_recall and target_accuracy** are both set to 80%\n",
    "- **normalize_data** is already true.\n",
    "- **binary_classifier_model_selection_criteria** is accuracy. I will change it to **recall_at_target_precision**. This forces the model to optimizefor highest recall at a given precision target.\n",
    "- **num_models** is 32 so we know that HPO is running 32 models in parallel.\n",
    "- **num_calibration_samples** is Number of observations to use from the validation dataset for model calibration (finding the best threshold).It is set to 1000000. \n",
    "\n",
    "for more information on linear learner hyperparmetyers pleaese refer to [Amazon SageMaker Documentaiton](https://docs.aws.amazon.com/sagemaker/latest/dg/ll_hyperparameters.html)\n"
   ]
  },
  {
   "cell_type": "code",
   "execution_count": 272,
   "metadata": {
    "collapsed": true,
    "nbpresent": {
     "id": "bc856947-4e65-4ef7-b406-05f468854471"
    }
   },
   "outputs": [],
   "source": [
    "#imports\n",
    "import boto3 #AWS python SDK for accessing AWS services\n",
    "import numpy as np #Array libraru with probability and statistics capabilities\n",
    "import io\n",
    "import sagemaker.amazon.common as smac # Amazon Sagemaker common library that includes data formats\n",
    "import sagemaker #sagemaker python sdk\n",
    "import os\n",
    "from sagemaker.predictor import csv_serializer, json_deserializer #sagemaker prediction sdk\n",
    "from sagemaker import get_execution_role\n"
   ]
  },
  {
   "cell_type": "code",
   "execution_count": 273,
   "metadata": {
    "nbpresent": {
     "id": "1629436c-65dd-44ac-8b08-86a5790620c3"
    }
   },
   "outputs": [
    {
     "name": "stdout",
     "output_type": "stream",
     "text": [
      "arn:aws:iam::475933981307:role/service-role/AmazonSageMaker-ExecutionRole-20180102T172706\n"
     ]
    }
   ],
   "source": [
    "bucket = 'cyrusmv-sagemaker-demos'     #replace this with your own bucket\n",
    "local = 'data/processed'               #replace with your local destination\n",
    "dist = 'visa-kaggle/data/'             #replace with your top directory in S3 for all the data files\n",
    "files = {}\n",
    "\n",
    "role = get_execution_role() #this is SageMaker role that would be later used for authorizing SageMaker to access S3\n",
    "print(role) \n",
    "\n",
    "sagemaker_session = sagemaker.Session()"
   ]
  },
  {
   "cell_type": "markdown",
   "metadata": {},
   "source": [
    "# Downloading Data Files from S3\n",
    "We iterate over S3 subfolders recursively and when reaching a leaf, we download the file. We also append the location of the file and key to files array, so the code can be generalized based on your folder structure in S3. \n",
    "\n",
    "*Disclaimer: The code here is based on [this stackoverflow reference](https://stackoverflow.com/questions/31918960/boto3-to-download-all-files-from-a-s3-bucket) plus exception handling and creating a dictionary of files.*"
   ]
  },
  {
   "cell_type": "code",
   "execution_count": 274,
   "metadata": {},
   "outputs": [
    {
     "name": "stdout",
     "output_type": "stream",
     "text": [
      "bucket: cyrusmv-sagemaker-demos source file: visa-kaggle/data/output/linear-learner-2018-02-13-13-57-11-769/output/model.tar.gz; ==> local: data/processed/visa-kaggle/data/output/linear-learner-2018-02-13-13-57-11-769/output/model.tar.gz \n",
      "\n",
      "bucket: cyrusmv-sagemaker-demos source file: visa-kaggle/data/output/linear-learner-2018-02-13-13-57-48-247/output/model.tar.gz; ==> local: data/processed/visa-kaggle/data/output/linear-learner-2018-02-13-13-57-48-247/output/model.tar.gz \n",
      "\n",
      "bucket: cyrusmv-sagemaker-demos source file: visa-kaggle/data/test/val_data.npy; ==> local: data/processed/visa-kaggle/data/test/val_data.npy \n",
      "\n",
      "bucket: cyrusmv-sagemaker-demos source file: visa-kaggle/data/test/val_label.npy; ==> local: data/processed/visa-kaggle/data/test/val_label.npy \n",
      "\n",
      "bucket: cyrusmv-sagemaker-demos source file: visa-kaggle/data/train/train_data.npy; ==> local: data/processed/visa-kaggle/data/train/train_data.npy \n",
      "\n",
      "bucket: cyrusmv-sagemaker-demos source file: visa-kaggle/data/train/train_label.npy; ==> local: data/processed/visa-kaggle/data/train/train_label.npy \n",
      "\n",
      "bucket: cyrusmv-sagemaker-demos source file: visa-kaggle/data/; ==> local: data/processed/visa-kaggle/data/ \n",
      "\n",
      "WARNING: cyrusmv-sagemaker-demos/visa-kaggle/data/ is a directory, skipping download operation\n",
      "bucket: cyrusmv-sagemaker-demos source file: visa-kaggle/data/recordio-pb-data; ==> local: data/processed/visa-kaggle/data/recordio-pb-data \n",
      "\n",
      "\n",
      "download completed.\n"
     ]
    },
    {
     "data": {
      "text/plain": [
       "{'model.tar': 'data/processed/visa-kaggle/data/output/linear-learner-2018-02-13-13-57-48-247/output/model.tar.gz',\n",
       " 'recordio-pb-data': 'data/processed/visa-kaggle/data/recordio-pb-data',\n",
       " 'train_data': 'data/processed/visa-kaggle/data/train/train_data.npy',\n",
       " 'train_label': 'data/processed/visa-kaggle/data/train/train_label.npy',\n",
       " 'val_data': 'data/processed/visa-kaggle/data/test/val_data.npy',\n",
       " 'val_label': 'data/processed/visa-kaggle/data/test/val_label.npy'}"
      ]
     },
     "execution_count": 274,
     "metadata": {},
     "output_type": "execute_result"
    }
   ],
   "source": [
    "def download_dir(client, resource, dist, local, bucket):\n",
    "    paginator = client.get_paginator('list_objects')\n",
    "    for result in paginator.paginate(Bucket=bucket, Delimiter='/', Prefix=dist):\n",
    "        if result.get('CommonPrefixes') is not None:\n",
    "            for subdir in result.get('CommonPrefixes'):\n",
    "                download_dir(client, resource, subdir.get('Prefix'), local, bucket)\n",
    "        if result.get('Contents') is not None:\n",
    "            for file in result.get('Contents'):\n",
    "                if not os.path.exists(os.path.dirname(local + os.sep + file.get('Key'))):\n",
    "                    os.makedirs(os.path.dirname(local + os.sep + file.get('Key')))\n",
    "                print('bucket: {} source file: {}; ==> local: {} \\n'.format(bucket, file.get('Key'), local + os.sep + file.get('Key')))\n",
    "                try:\n",
    "                    dest = local + os.sep + file.get('Key')\n",
    "                    key = dest.rsplit('/',1)[-1]\n",
    "                    key = key.rsplit('.', 1)[0]\n",
    "                    resource.meta.client.download_file(bucket, file.get('Key'),dest)\n",
    "                    files[key] = dest\n",
    "                except (IsADirectoryError, NotADirectoryError):\n",
    "                    print('WARNING: {}/{} is a directory, skipping download operation'.format(bucket, file.get('Key')))\n",
    "\n",
    "                    \n",
    "def _start():\n",
    "    client = boto3.client('s3')\n",
    "    resource = boto3.resource('s3')\n",
    "    download_dir(client, resource, local=local, bucket=bucket, dist=dist)\n",
    "    print('\\ndownload completed.')\n",
    "    \n",
    "_start()\n",
    "\n",
    "files\n"
   ]
  },
  {
   "cell_type": "markdown",
   "metadata": {},
   "source": [
    "# Loading Data into Vectors\n",
    "We will need to have the train and validation data to be loaded into numpy vectors before oriessing them."
   ]
  },
  {
   "cell_type": "code",
   "execution_count": 275,
   "metadata": {
    "nbpresent": {
     "id": "ccfe3dd1-05b2-4f80-b070-23f0d21e5acf"
    }
   },
   "outputs": [
    {
     "name": "stdout",
     "output_type": "stream",
     "text": [
      "training data shape= (199364, 30); training label shape = (199364,) \n",
      "Validation data shape= (85443, 30); validation label shape = (85443,)\n"
     ]
    }
   ],
   "source": [
    "train_data = np.load(files['train_data'])\n",
    "train_label = np.load(files['train_label'])\n",
    "\n",
    "val_data = np.load(files['val_data'])\n",
    "val_label = np.load(files['val_label'])\n",
    "\n",
    "print(\"training data shape= {}; training label shape = {} \\nValidation data shape= {}; validation label shape = {}\".format(train_data.shape, \n",
    "                                                                        train_label.shape,\n",
    "                                                                        val_data.shape,\n",
    "                                                                        val_label.shape))\n",
    "train_set = (train_data, train_label)\n",
    "test_set = (val_data, val_label)\n"
   ]
  },
  {
   "cell_type": "markdown",
   "metadata": {
    "nbpresent": {
     "id": "86f20fc8-c59a-48fe-aca5-c6606b35c928"
    }
   },
   "source": [
    "# Converting the Data\n",
    "Amazon Algorithms support csv and recordio/protobuf. recordio is faster than CSV and specially in algorithms that deal with sparse matrices.\n",
    "In the below snippet I am using sagemaker.amazon.core library in order to convert my numpy arrays into protobuf recordIO."
   ]
  },
  {
   "cell_type": "code",
   "execution_count": 276,
   "metadata": {
    "nbpresent": {
     "id": "2d5e169e-0b87-4156-b6dd-7abf5c8dbda8"
    }
   },
   "outputs": [
    {
     "data": {
      "text/plain": [
       "0"
      ]
     },
     "execution_count": 276,
     "metadata": {},
     "output_type": "execute_result"
    }
   ],
   "source": [
    "vectors = np.array([t.tolist() for t in train_set[0]]).astype('float32')\n",
    "labels = np.array([t.tolist() for t in train_set[1]]).astype('float32')\n",
    "\n",
    "buf = io.BytesIO()\n",
    "smac.write_numpy_to_dense_tensor(buf, vectors, labels)\n",
    "buf.seek(0)"
   ]
  },
  {
   "cell_type": "markdown",
   "metadata": {
    "nbpresent": {
     "id": "7bc9634c-7db3-4406-8f45-dfc64069a2c7"
    }
   },
   "source": [
    "# Upload Training Data to S3\n",
    "Now that we've created our recordIO-wrapped protobuf, we'll need to upload it to S3, so that Amazon SageMaker training can use it."
   ]
  },
  {
   "cell_type": "code",
   "execution_count": 277,
   "metadata": {
    "nbpresent": {
     "id": "b7bfb4f2-b339-4dce-a1ac-6ce97d66967a"
    }
   },
   "outputs": [
    {
     "name": "stdout",
     "output_type": "stream",
     "text": [
      "uploaded training data location: s3://cyrusmv-sagemaker-demos/visa-kaggle/data/recordio-pb-data\n"
     ]
    }
   ],
   "source": [
    "key = 'recordio-pb-data'\n",
    "boto3.resource('s3').Bucket(bucket).Object(os.path.join(dist, key)).upload_fileobj(buf)\n",
    "s3_train_data = 's3://{}/{}{}'.format(bucket, dist, key)\n",
    "print('uploaded training data location: {}'.format(s3_train_data))"
   ]
  },
  {
   "cell_type": "markdown",
   "metadata": {
    "nbpresent": {
     "id": "bacac4be-72cb-492c-9963-a3d1a750ba64"
    }
   },
   "source": [
    "Let's also setup an output S3 location for the model artifact to be uploaded to after training in complete."
   ]
  },
  {
   "cell_type": "code",
   "execution_count": 278,
   "metadata": {
    "nbpresent": {
     "id": "959f7129-dd4d-40c2-b025-98f334c52182"
    }
   },
   "outputs": [
    {
     "name": "stdout",
     "output_type": "stream",
     "text": [
      "training artifacts will be uploaded to: s3://cyrusmv-sagemaker-demos/visa-kaggle/data/output\n"
     ]
    }
   ],
   "source": [
    "output_location = 's3://{}/{}output'.format(bucket, prefix)\n",
    "print('training artifacts will be uploaded to: {}'.format(output_location))"
   ]
  },
  {
   "cell_type": "markdown",
   "metadata": {
    "nbpresent": {
     "id": "79ba5925-4fba-46fa-ae24-58c0139d5427"
    }
   },
   "source": [
    "# Training the Model with New Hyper Parameters"
   ]
  },
  {
   "cell_type": "code",
   "execution_count": 255,
   "metadata": {
    "collapsed": true,
    "nbpresent": {
     "id": "b3df9c71-d576-43e9-9c7c-1880055d0f6b"
    }
   },
   "outputs": [],
   "source": [
    "containers = {'us-west-2': '174872318107.dkr.ecr.us-west-2.amazonaws.com/linear-learner:latest',\n",
    "              'us-east-1': '382416733822.dkr.ecr.us-east-1.amazonaws.com/linear-learner:latest',\n",
    "              'us-east-2': '404615174143.dkr.ecr.us-east-2.amazonaws.com/linear-learner:latest',\n",
    "              'eu-west-1': '438346466558.dkr.ecr.eu-west-1.amazonaws.com/linear-learner:latest'}"
   ]
  },
  {
   "cell_type": "code",
   "execution_count": 284,
   "metadata": {},
   "outputs": [
    {
     "name": "stderr",
     "output_type": "stream",
     "text": [
      "INFO:sagemaker:Creating training-job with name: linear-learner-2018-02-13-16-42-33-379\n"
     ]
    },
    {
     "name": "stdout",
     "output_type": "stream",
     "text": [
      "...................................................................\n",
      "\u001b[31mDocker entrypoint called with argument(s): train\u001b[0m\n",
      "\u001b[31m[02/13/2018 16:48:03 INFO 140683661657920] Reading default configuration from /opt/amazon/lib/python2.7/site-packages/algorithm/default-input.json: {u'epochs': u'10', u'init_bias': u'0.0', u'lr_scheduler_factor': u'0.99', u'num_calibration_samples': u'10000000', u'_num_kv_servers': u'auto', u'use_bias': u'true', u'num_point_for_scaler': u'10000', u'_log_level': u'info', u'bias_lr_mult': u'10', u'lr_scheduler_step': u'100', u'init_method': u'uniform', u'init_sigma': u'0.01', u'lr_scheduler_minimum_lr': u'0.00001', u'target_recall': u'0.8', u'num_models': u'32', u'momentum': u'0.0', u'unbias_label': u'auto', u'wd': u'0.0', u'optimizer': u'adam', u'learning_rate': u'auto', u'_kvstore': u'auto', u'normalize_data': u'true', u'binary_classifier_model_selection_criteria': u'accuracy', u'use_lr_scheduler': u'true', u'target_precision': u'0.8', u'force_dense': u'true', u'unbias_data': u'auto', u'init_scale': u'0.07', u'bias_wd_mult': u'0', u'mini_batch_size': u'1000', u'beta_1': u'0.9', u'loss': u'auto', u'beta_2': u'0.999', u'normalize_label': u'auto', u'_num_gpus': u'auto', u'_data_format': u'record', u'positive_example_weight_mult': u'1.0', u'l1': u'0.0'}\u001b[0m\n",
      "\u001b[31m[02/13/2018 16:48:03 INFO 140683661657920] Reading provided configuration from /opt/ml/input/config/hyperparameters.json: {u'feature_dim': u'30', u'mini_batch_size': u'200', u'predictor_type': u'binary_classifier', u'binary_classifier_model_selection_criteria': u'recall_at_target_precision'}\u001b[0m\n",
      "\u001b[31m[02/13/2018 16:48:03 INFO 140683661657920] Final configuration: {u'epochs': u'10', u'feature_dim': u'30', u'init_bias': u'0.0', u'lr_scheduler_factor': u'0.99', u'num_calibration_samples': u'10000000', u'_num_kv_servers': u'auto', u'use_bias': u'true', u'num_point_for_scaler': u'10000', u'_log_level': u'info', u'bias_lr_mult': u'10', u'lr_scheduler_step': u'100', u'init_method': u'uniform', u'init_sigma': u'0.01', u'lr_scheduler_minimum_lr': u'0.00001', u'target_recall': u'0.8', u'num_models': u'32', u'momentum': u'0.0', u'unbias_label': u'auto', u'wd': u'0.0', u'optimizer': u'adam', u'learning_rate': u'auto', u'_kvstore': u'auto', u'normalize_data': u'true', u'binary_classifier_model_selection_criteria': u'recall_at_target_precision', u'use_lr_scheduler': u'true', u'target_precision': u'0.8', u'force_dense': u'true', u'unbias_data': u'auto', u'init_scale': u'0.07', u'bias_wd_mult': u'0', u'mini_batch_size': u'200', u'beta_1': u'0.9', u'loss': u'auto', u'beta_2': u'0.999', u'predictor_type': u'binary_classifier', u'normalize_label': u'auto', u'_num_gpus': u'auto', u'_data_format': u'record', u'positive_example_weight_mult': u'1.0', u'l1': u'0.0'}\u001b[0m\n",
      "\u001b[31m[02/13/2018 16:48:03 WARNING 140683661657920] Loggers have already been setup.\u001b[0m\n",
      "\u001b[31m[02/13/2018 16:48:03 INFO 140683661657920] Detected entry point for worker worker\u001b[0m\n",
      "\u001b[31m[02/13/2018 16:48:03 INFO 140683661657920] Loaded iterator creator application/x-recordio-protobuf for content type ('application/x-recordio-protobuf', '1.0')\u001b[0m\n",
      "\u001b[31m[02/13/2018 16:48:03 INFO 140683661657920] Create Store: local\u001b[0m\n",
      "\u001b[31m[02/13/2018 16:48:03 WARNING 140683661657920] wait_for_all_workers will not sync workers since the kv store is not running distributed\u001b[0m\n",
      "\u001b[31m[02/13/2018 16:48:03 INFO 140683661657920] nvidia-smi took: 0.0251598358154 secs to identify 0 gpus\u001b[0m\n",
      "\u001b[31m[02/13/2018 16:48:03 INFO 140683661657920] Number of GPUs being used: 0\u001b[0m\n",
      "\u001b[31m#metrics {\"Metrics\": {\"training_binary_classification_cross_entropy\": {\"count\": 1, \"max\": 0.03263368721856889, \"sum\": 0.03263368721856889, \"min\": 0.03263368721856889}, \"validation_binary_classification_cross_entropy\": {\"count\": 1, \"max\": -Infinity, \"sum\": NaN, \"min\": Infinity}}, \"EndTime\": 1518540504.044215, \"Dimensions\": {\"model\": 0, \"Host\": \"algo-1\", \"Operation\": \"training\", \"Algorithm\": \"Linear Learner\", \"epoch\": 1}, \"StartTime\": 1518540504.044105}\n",
      "\u001b[0m\n",
      "\u001b[31m#metrics {\"Metrics\": {\"training_binary_classification_cross_entropy\": {\"count\": 1, \"max\": 0.03097438685132198, \"sum\": 0.03097438685132198, \"min\": 0.03097438685132198}, \"validation_binary_classification_cross_entropy\": {\"count\": 1, \"max\": -Infinity, \"sum\": NaN, \"min\": Infinity}}, \"EndTime\": 1518540504.044323, \"Dimensions\": {\"model\": 1, \"Host\": \"algo-1\", \"Operation\": \"training\", \"Algorithm\": \"Linear Learner\", \"epoch\": 1}, \"StartTime\": 1518540504.044308}\n",
      "\u001b[0m\n",
      "\u001b[31m#metrics {\"Metrics\": {\"training_binary_classification_cross_entropy\": {\"count\": 1, \"max\": 0.032773738992082545, \"sum\": 0.032773738992082545, \"min\": 0.032773738992082545}, \"validation_binary_classification_cross_entropy\": {\"count\": 1, \"max\": -Infinity, \"sum\": NaN, \"min\": Infinity}}, \"EndTime\": 1518540504.044363, \"Dimensions\": {\"model\": 2, \"Host\": \"algo-1\", \"Operation\": \"training\", \"Algorithm\": \"Linear Learner\", \"epoch\": 1}, \"StartTime\": 1518540504.044352}\n",
      "\u001b[0m\n",
      "\u001b[31m#metrics {\"Metrics\": {\"training_binary_classification_cross_entropy\": {\"count\": 1, \"max\": 0.030927742073634062, \"sum\": 0.030927742073634062, \"min\": 0.030927742073634062}, \"validation_binary_classification_cross_entropy\": {\"count\": 1, \"max\": -Infinity, \"sum\": NaN, \"min\": Infinity}}, \"EndTime\": 1518540504.044397, \"Dimensions\": {\"model\": 3, \"Host\": \"algo-1\", \"Operation\": \"training\", \"Algorithm\": \"Linear Learner\", \"epoch\": 1}, \"StartTime\": 1518540504.044387}\n",
      "\u001b[0m\n",
      "\u001b[31m#metrics {\"Metrics\": {\"training_binary_classification_cross_entropy\": {\"count\": 1, \"max\": 0.008452754719743886, \"sum\": 0.008452754719743886, \"min\": 0.008452754719743886}, \"validation_binary_classification_cross_entropy\": {\"count\": 1, \"max\": -Infinity, \"sum\": NaN, \"min\": Infinity}}, \"EndTime\": 1518540504.044429, \"Dimensions\": {\"model\": 4, \"Host\": \"algo-1\", \"Operation\": \"training\", \"Algorithm\": \"Linear Learner\", \"epoch\": 1}, \"StartTime\": 1518540504.04442}\n",
      "\u001b[0m\n",
      "\u001b[31m#metrics {\"Metrics\": {\"training_binary_classification_cross_entropy\": {\"count\": 1, \"max\": 0.009712150798777183, \"sum\": 0.009712150798777183, \"min\": 0.009712150798777183}, \"validation_binary_classification_cross_entropy\": {\"count\": 1, \"max\": -Infinity, \"sum\": NaN, \"min\": Infinity}}, \"EndTime\": 1518540504.044459, \"Dimensions\": {\"model\": 5, \"Host\": \"algo-1\", \"Operation\": \"training\", \"Algorithm\": \"Linear Learner\", \"epoch\": 1}, \"StartTime\": 1518540504.04445}\n",
      "\u001b[0m\n",
      "\u001b[31m#metrics {\"Metrics\": {\"training_binary_classification_cross_entropy\": {\"count\": 1, \"max\": 0.008114106326521072, \"sum\": 0.008114106326521072, \"min\": 0.008114106326521072}, \"validation_binary_classification_cross_entropy\": {\"count\": 1, \"max\": -Infinity, \"sum\": NaN, \"min\": Infinity}}, \"EndTime\": 1518540504.044489, \"Dimensions\": {\"model\": 6, \"Host\": \"algo-1\", \"Operation\": \"training\", \"Algorithm\": \"Linear Learner\", \"epoch\": 1}, \"StartTime\": 1518540504.04448}\n",
      "\u001b[0m\n",
      "\u001b[31m#metrics {\"Metrics\": {\"training_binary_classification_cross_entropy\": {\"count\": 1, \"max\": 0.009226878187539669, \"sum\": 0.009226878187539669, \"min\": 0.009226878187539669}, \"validation_binary_classification_cross_entropy\": {\"count\": 1, \"max\": -Infinity, \"sum\": NaN, \"min\": Infinity}}, \"EndTime\": 1518540504.044518, \"Dimensions\": {\"model\": 7, \"Host\": \"algo-1\", \"Operation\": \"training\", \"Algorithm\": \"Linear Learner\", \"epoch\": 1}, \"StartTime\": 1518540504.04451}\n",
      "\u001b[0m\n",
      "\u001b[31m#metrics {\"Metrics\": {\"training_binary_classification_cross_entropy\": {\"count\": 1, \"max\": 0.032869489538262645, \"sum\": 0.032869489538262645, \"min\": 0.032869489538262645}, \"validation_binary_classification_cross_entropy\": {\"count\": 1, \"max\": -Infinity, \"sum\": NaN, \"min\": Infinity}}, \"EndTime\": 1518540504.044547, \"Dimensions\": {\"model\": 8, \"Host\": \"algo-1\", \"Operation\": \"training\", \"Algorithm\": \"Linear Learner\", \"epoch\": 1}, \"StartTime\": 1518540504.044538}\n",
      "\u001b[0m\n",
      "\u001b[31m#metrics {\"Metrics\": {\"training_binary_classification_cross_entropy\": {\"count\": 1, \"max\": 0.031155571191754924, \"sum\": 0.031155571191754924, \"min\": 0.031155571191754924}, \"validation_binary_classification_cross_entropy\": {\"count\": 1, \"max\": -Infinity, \"sum\": NaN, \"min\": Infinity}}, \"EndTime\": 1518540504.044575, \"Dimensions\": {\"model\": 9, \"Host\": \"algo-1\", \"Operation\": \"training\", \"Algorithm\": \"Linear Learner\", \"epoch\": 1}, \"StartTime\": 1518540504.044566}\n",
      "\u001b[0m\n",
      "\u001b[31m#metrics {\"Metrics\": {\"training_binary_classification_cross_entropy\": {\"count\": 1, \"max\": 0.032897585283620766, \"sum\": 0.032897585283620766, \"min\": 0.032897585283620766}, \"validation_binary_classification_cross_entropy\": {\"count\": 1, \"max\": -Infinity, \"sum\": NaN, \"min\": Infinity}}, \"EndTime\": 1518540504.044602, \"Dimensions\": {\"model\": 10, \"Host\": \"algo-1\", \"Operation\": \"training\", \"Algorithm\": \"Linear Learner\", \"epoch\": 1}, \"StartTime\": 1518540504.044594}\n",
      "\u001b[0m\n",
      "\u001b[31m#metrics {\"Metrics\": {\"training_binary_classification_cross_entropy\": {\"count\": 1, \"max\": 0.03116643935471893, \"sum\": 0.03116643935471893, \"min\": 0.03116643935471893}, \"validation_binary_classification_cross_entropy\": {\"count\": 1, \"max\": -Infinity, \"sum\": NaN, \"min\": Infinity}}, \"EndTime\": 1518540504.044631, \"Dimensions\": {\"model\": 11, \"Host\": \"algo-1\", \"Operation\": \"training\", \"Algorithm\": \"Linear Learner\", \"epoch\": 1}, \"StartTime\": 1518540504.044622}\n",
      "\u001b[0m\n",
      "\u001b[31m#metrics {\"Metrics\": {\"training_binary_classification_cross_entropy\": {\"count\": 1, \"max\": 0.007926066940412839, \"sum\": 0.007926066940412839, \"min\": 0.007926066940412839}, \"validation_binary_classification_cross_entropy\": {\"count\": 1, \"max\": -Infinity, \"sum\": NaN, \"min\": Infinity}}, \"EndTime\": 1518540504.044659, \"Dimensions\": {\"model\": 12, \"Host\": \"algo-1\", \"Operation\": \"training\", \"Algorithm\": \"Linear Learner\", \"epoch\": 1}, \"StartTime\": 1518540504.04465}\n",
      "\u001b[0m\n",
      "\u001b[31m#metrics {\"Metrics\": {\"training_binary_classification_cross_entropy\": {\"count\": 1, \"max\": 0.008717467358464891, \"sum\": 0.008717467358464891, \"min\": 0.008717467358464891}, \"validation_binary_classification_cross_entropy\": {\"count\": 1, \"max\": -Infinity, \"sum\": NaN, \"min\": Infinity}}, \"EndTime\": 1518540504.044686, \"Dimensions\": {\"model\": 13, \"Host\": \"algo-1\", \"Operation\": \"training\", \"Algorithm\": \"Linear Learner\", \"epoch\": 1}, \"StartTime\": 1518540504.044678}\n",
      "\u001b[0m\n",
      "\u001b[31m#metrics {\"Metrics\": {\"training_binary_classification_cross_entropy\": {\"count\": 1, \"max\": 0.007969700393166924, \"sum\": 0.007969700393166924, \"min\": 0.007969700393166924}, \"validation_binary_classification_cross_entropy\": {\"count\": 1, \"max\": -Infinity, \"sum\": NaN, \"min\": Infinity}}, \"EndTime\": 1518540504.044714, \"Dimensions\": {\"model\": 14, \"Host\": \"algo-1\", \"Operation\": \"training\", \"Algorithm\": \"Linear Learner\", \"epoch\": 1}, \"StartTime\": 1518540504.044705}\n",
      "\u001b[0m\n",
      "\u001b[31m#metrics {\"Metrics\": {\"training_binary_classification_cross_entropy\": {\"count\": 1, \"max\": 0.00866009896701991, \"sum\": 0.00866009896701991, \"min\": 0.00866009896701991}, \"validation_binary_classification_cross_entropy\": {\"count\": 1, \"max\": -Infinity, \"sum\": NaN, \"min\": Infinity}}, \"EndTime\": 1518540504.044754, \"Dimensions\": {\"model\": 15, \"Host\": \"algo-1\", \"Operation\": \"training\", \"Algorithm\": \"Linear Learner\", \"epoch\": 1}, \"StartTime\": 1518540504.044745}\n",
      "\u001b[0m\n",
      "\u001b[31m#metrics {\"Metrics\": {\"training_binary_classification_cross_entropy\": {\"count\": 1, \"max\": 0.03715733311801071, \"sum\": 0.03715733311801071, \"min\": 0.03715733311801071}, \"validation_binary_classification_cross_entropy\": {\"count\": 1, \"max\": -Infinity, \"sum\": NaN, \"min\": Infinity}}, \"EndTime\": 1518540504.044781, \"Dimensions\": {\"model\": 16, \"Host\": \"algo-1\", \"Operation\": \"training\", \"Algorithm\": \"Linear Learner\", \"epoch\": 1}, \"StartTime\": 1518540504.044772}\n",
      "\u001b[0m\n",
      "\u001b[31m#metrics {\"Metrics\": {\"training_binary_classification_cross_entropy\": {\"count\": 1, \"max\": 0.035650733820046764, \"sum\": 0.035650733820046764, \"min\": 0.035650733820046764}, \"validation_binary_classification_cross_entropy\": {\"count\": 1, \"max\": -Infinity, \"sum\": NaN, \"min\": Infinity}}, \"EndTime\": 1518540504.044809, \"Dimensions\": {\"model\": 17, \"Host\": \"algo-1\", \"Operation\": \"training\", \"Algorithm\": \"Linear Learner\", \"epoch\": 1}, \"StartTime\": 1518540504.0448}\n",
      "\u001b[0m\n",
      "\u001b[31m#metrics {\"Metrics\": {\"training_binary_classification_cross_entropy\": {\"count\": 1, \"max\": 0.03709540682175313, \"sum\": 0.03709540682175313, \"min\": 0.03709540682175313}, \"validation_binary_classification_cross_entropy\": {\"count\": 1, \"max\": -Infinity, \"sum\": NaN, \"min\": Infinity}}, \"EndTime\": 1518540504.044837, \"Dimensions\": {\"model\": 18, \"Host\": \"algo-1\", \"Operation\": \"training\", \"Algorithm\": \"Linear Learner\", \"epoch\": 1}, \"StartTime\": 1518540504.044829}\n",
      "\u001b[0m\n",
      "\u001b[31m#metrics {\"Metrics\": {\"training_binary_classification_cross_entropy\": {\"count\": 1, \"max\": 0.035670092640571804, \"sum\": 0.035670092640571804, \"min\": 0.035670092640571804}, \"validation_binary_classification_cross_entropy\": {\"count\": 1, \"max\": -Infinity, \"sum\": NaN, \"min\": Infinity}}, \"EndTime\": 1518540504.044866, \"Dimensions\": {\"model\": 19, \"Host\": \"algo-1\", \"Operation\": \"training\", \"Algorithm\": \"Linear Learner\", \"epoch\": 1}, \"StartTime\": 1518540504.044857}\n",
      "\u001b[0m\n",
      "\u001b[31m#metrics {\"Metrics\": {\"training_binary_classification_cross_entropy\": {\"count\": 1, \"max\": 0.013384296401164468, \"sum\": 0.013384296401164468, \"min\": 0.013384296401164468}, \"validation_binary_classification_cross_entropy\": {\"count\": 1, \"max\": -Infinity, \"sum\": NaN, \"min\": Infinity}}, \"EndTime\": 1518540504.044894, \"Dimensions\": {\"model\": 20, \"Host\": \"algo-1\", \"Operation\": \"training\", \"Algorithm\": \"Linear Learner\", \"epoch\": 1}, \"StartTime\": 1518540504.044886}\n",
      "\u001b[0m\n",
      "\u001b[31m#metrics {\"Metrics\": {\"training_binary_classification_cross_entropy\": {\"count\": 1, \"max\": 0.013402316727045265, \"sum\": 0.013402316727045265, \"min\": 0.013402316727045265}, \"validation_binary_classification_cross_entropy\": {\"count\": 1, \"max\": -Infinity, \"sum\": NaN, \"min\": Infinity}}, \"EndTime\": 1518540504.044923, \"Dimensions\": {\"model\": 21, \"Host\": \"algo-1\", \"Operation\": \"training\", \"Algorithm\": \"Linear Learner\", \"epoch\": 1}, \"StartTime\": 1518540504.044914}\n",
      "\u001b[0m\n",
      "\u001b[31m#metrics {\"Metrics\": {\"training_binary_classification_cross_entropy\": {\"count\": 1, \"max\": 0.013345349924255491, \"sum\": 0.013345349924255491, \"min\": 0.013345349924255491}, \"validation_binary_classification_cross_entropy\": {\"count\": 1, \"max\": -Infinity, \"sum\": NaN, \"min\": Infinity}}, \"EndTime\": 1518540504.044952, \"Dimensions\": {\"model\": 22, \"Host\": \"algo-1\", \"Operation\": \"training\", \"Algorithm\": \"Linear Learner\", \"epoch\": 1}, \"StartTime\": 1518540504.044943}\n",
      "\u001b[0m\n",
      "\u001b[31m#metrics {\"Metrics\": {\"training_binary_classification_cross_entropy\": {\"count\": 1, \"max\": 0.013416417274740057, \"sum\": 0.013416417274740057, \"min\": 0.013416417274740057}, \"validation_binary_classification_cross_entropy\": {\"count\": 1, \"max\": -Infinity, \"sum\": NaN, \"min\": Infinity}}, \"EndTime\": 1518540504.04498, \"Dimensions\": {\"model\": 23, \"Host\": \"algo-1\", \"Operation\": \"training\", \"Algorithm\": \"Linear Learner\", \"epoch\": 1}, \"StartTime\": 1518540504.044972}\n",
      "\u001b[0m\n",
      "\u001b[31m#metrics {\"Metrics\": {\"training_binary_classification_cross_entropy\": {\"count\": 1, \"max\": 0.03799945135791618, \"sum\": 0.03799945135791618, \"min\": 0.03799945135791618}, \"validation_binary_classification_cross_entropy\": {\"count\": 1, \"max\": -Infinity, \"sum\": NaN, \"min\": Infinity}}, \"EndTime\": 1518540504.045008, \"Dimensions\": {\"model\": 24, \"Host\": \"algo-1\", \"Operation\": \"training\", \"Algorithm\": \"Linear Learner\", \"epoch\": 1}, \"StartTime\": 1518540504.045}\n",
      "\u001b[0m\n",
      "\u001b[31m#metrics {\"Metrics\": {\"training_binary_classification_cross_entropy\": {\"count\": 1, \"max\": 0.036508235096572396, \"sum\": 0.036508235096572396, \"min\": 0.036508235096572396}, \"validation_binary_classification_cross_entropy\": {\"count\": 1, \"max\": -Infinity, \"sum\": NaN, \"min\": Infinity}}, \"EndTime\": 1518540504.045037, \"Dimensions\": {\"model\": 25, \"Host\": \"algo-1\", \"Operation\": \"training\", \"Algorithm\": \"Linear Learner\", \"epoch\": 1}, \"StartTime\": 1518540504.045028}\n",
      "\u001b[0m\n",
      "\u001b[31m#metrics {\"Metrics\": {\"training_binary_classification_cross_entropy\": {\"count\": 1, \"max\": 0.0379524305845839, \"sum\": 0.0379524305845839, \"min\": 0.0379524305845839}, \"validation_binary_classification_cross_entropy\": {\"count\": 1, \"max\": -Infinity, \"sum\": NaN, \"min\": Infinity}}, \"EndTime\": 1518540504.045065, \"Dimensions\": {\"model\": 26, \"Host\": \"algo-1\", \"Operation\": \"training\", \"Algorithm\": \"Linear Learner\", \"epoch\": 1}, \"StartTime\": 1518540504.045056}\n",
      "\u001b[0m\n",
      "\u001b[31m#metrics {\"Metrics\": {\"training_binary_classification_cross_entropy\": {\"count\": 1, \"max\": 0.036523705469855824, \"sum\": 0.036523705469855824, \"min\": 0.036523705469855824}, \"validation_binary_classification_cross_entropy\": {\"count\": 1, \"max\": -Infinity, \"sum\": NaN, \"min\": Infinity}}, \"EndTime\": 1518540504.045093, \"Dimensions\": {\"model\": 27, \"Host\": \"algo-1\", \"Operation\": \"training\", \"Algorithm\": \"Linear Learner\", \"epoch\": 1}, \"StartTime\": 1518540504.045084}\n",
      "\u001b[0m\n",
      "\u001b[31m#metrics {\"Metrics\": {\"training_binary_classification_cross_entropy\": {\"count\": 1, \"max\": 0.014299934016826776, \"sum\": 0.014299934016826776, \"min\": 0.014299934016826776}, \"validation_binary_classification_cross_entropy\": {\"count\": 1, \"max\": -Infinity, \"sum\": NaN, \"min\": Infinity}}, \"EndTime\": 1518540504.045121, \"Dimensions\": {\"model\": 28, \"Host\": \"algo-1\", \"Operation\": \"training\", \"Algorithm\": \"Linear Learner\", \"epoch\": 1}, \"StartTime\": 1518540504.045113}\n",
      "\u001b[0m\n",
      "\u001b[31m#metrics {\"Metrics\": {\"training_binary_classification_cross_entropy\": {\"count\": 1, \"max\": 0.014330657125903241, \"sum\": 0.014330657125903241, \"min\": 0.014330657125903241}, \"validation_binary_classification_cross_entropy\": {\"count\": 1, \"max\": -Infinity, \"sum\": NaN, \"min\": Infinity}}, \"EndTime\": 1518540504.04515, \"Dimensions\": {\"model\": 29, \"Host\": \"algo-1\", \"Operation\": \"training\", \"Algorithm\": \"Linear Learner\", \"epoch\": 1}, \"StartTime\": 1518540504.045141}\n",
      "\u001b[0m\n",
      "\u001b[31m#metrics {\"Metrics\": {\"training_binary_classification_cross_entropy\": {\"count\": 1, \"max\": 0.014321290961579872, \"sum\": 0.014321290961579872, \"min\": 0.014321290961579872}, \"validation_binary_classification_cross_entropy\": {\"count\": 1, \"max\": -Infinity, \"sum\": NaN, \"min\": Infinity}}, \"EndTime\": 1518540504.045177, \"Dimensions\": {\"model\": 30, \"Host\": \"algo-1\", \"Operation\": \"training\", \"Algorithm\": \"Linear Learner\", \"epoch\": 1}, \"StartTime\": 1518540504.045169}\n",
      "\u001b[0m\n",
      "\u001b[31m#metrics {\"Metrics\": {\"training_binary_classification_cross_entropy\": {\"count\": 1, \"max\": 0.01432419491537667, \"sum\": 0.01432419491537667, \"min\": 0.01432419491537667}, \"validation_binary_classification_cross_entropy\": {\"count\": 1, \"max\": -Infinity, \"sum\": NaN, \"min\": Infinity}}, \"EndTime\": 1518540504.045207, \"Dimensions\": {\"model\": 31, \"Host\": \"algo-1\", \"Operation\": \"training\", \"Algorithm\": \"Linear Learner\", \"epoch\": 1}, \"StartTime\": 1518540504.045198}\n",
      "\u001b[0m\n"
     ]
    },
    {
     "name": "stdout",
     "output_type": "stream",
     "text": [
      "\u001b[31m#metrics {\"Metrics\": {\"training_binary_classification_cross_entropy\": {\"count\": 1, \"max\": 0.005667652155470896, \"sum\": 0.005667652155470896, \"min\": 0.005667652155470896}, \"validation_binary_classification_cross_entropy\": {\"count\": 1, \"max\": -Infinity, \"sum\": NaN, \"min\": Infinity}}, \"EndTime\": 1518540523.807105, \"Dimensions\": {\"model\": 0, \"Host\": \"algo-1\", \"Operation\": \"training\", \"Algorithm\": \"Linear Learner\", \"epoch\": 2}, \"StartTime\": 1518540523.807015}\n",
      "\u001b[0m\n",
      "\u001b[31m#metrics {\"Metrics\": {\"training_binary_classification_cross_entropy\": {\"count\": 1, \"max\": 0.004825513667789808, \"sum\": 0.004825513667789808, \"min\": 0.004825513667789808}, \"validation_binary_classification_cross_entropy\": {\"count\": 1, \"max\": -Infinity, \"sum\": NaN, \"min\": Infinity}}, \"EndTime\": 1518540523.807182, \"Dimensions\": {\"model\": 1, \"Host\": \"algo-1\", \"Operation\": \"training\", \"Algorithm\": \"Linear Learner\", \"epoch\": 2}, \"StartTime\": 1518540523.807169}\n",
      "\u001b[0m\n",
      "\u001b[31m#metrics {\"Metrics\": {\"training_binary_classification_cross_entropy\": {\"count\": 1, \"max\": 0.0056669846651365005, \"sum\": 0.0056669846651365005, \"min\": 0.0056669846651365005}, \"validation_binary_classification_cross_entropy\": {\"count\": 1, \"max\": -Infinity, \"sum\": NaN, \"min\": Infinity}}, \"EndTime\": 1518540523.807219, \"Dimensions\": {\"model\": 2, \"Host\": \"algo-1\", \"Operation\": \"training\", \"Algorithm\": \"Linear Learner\", \"epoch\": 2}, \"StartTime\": 1518540523.807209}\n",
      "\u001b[0m\n",
      "\u001b[31m#metrics {\"Metrics\": {\"training_binary_classification_cross_entropy\": {\"count\": 1, \"max\": 0.004824565563081618, \"sum\": 0.004824565563081618, \"min\": 0.004824565563081618}, \"validation_binary_classification_cross_entropy\": {\"count\": 1, \"max\": -Infinity, \"sum\": NaN, \"min\": Infinity}}, \"EndTime\": 1518540523.807253, \"Dimensions\": {\"model\": 3, \"Host\": \"algo-1\", \"Operation\": \"training\", \"Algorithm\": \"Linear Learner\", \"epoch\": 2}, \"StartTime\": 1518540523.807243}\n",
      "\u001b[0m\n",
      "\u001b[31m#metrics {\"Metrics\": {\"training_binary_classification_cross_entropy\": {\"count\": 1, \"max\": 0.004970770967791388, \"sum\": 0.004970770967791388, \"min\": 0.004970770967791388}, \"validation_binary_classification_cross_entropy\": {\"count\": 1, \"max\": -Infinity, \"sum\": NaN, \"min\": Infinity}}, \"EndTime\": 1518540523.807285, \"Dimensions\": {\"model\": 4, \"Host\": \"algo-1\", \"Operation\": \"training\", \"Algorithm\": \"Linear Learner\", \"epoch\": 2}, \"StartTime\": 1518540523.807275}\n",
      "\u001b[0m\n",
      "\u001b[31m#metrics {\"Metrics\": {\"training_binary_classification_cross_entropy\": {\"count\": 1, \"max\": 0.008675491298588852, \"sum\": 0.008675491298588852, \"min\": 0.008675491298588852}, \"validation_binary_classification_cross_entropy\": {\"count\": 1, \"max\": -Infinity, \"sum\": NaN, \"min\": Infinity}}, \"EndTime\": 1518540523.807315, \"Dimensions\": {\"model\": 5, \"Host\": \"algo-1\", \"Operation\": \"training\", \"Algorithm\": \"Linear Learner\", \"epoch\": 2}, \"StartTime\": 1518540523.807306}\n",
      "\u001b[0m\n",
      "\u001b[31m#metrics {\"Metrics\": {\"training_binary_classification_cross_entropy\": {\"count\": 1, \"max\": 0.005216436268664508, \"sum\": 0.005216436268664508, \"min\": 0.005216436268664508}, \"validation_binary_classification_cross_entropy\": {\"count\": 1, \"max\": -Infinity, \"sum\": NaN, \"min\": Infinity}}, \"EndTime\": 1518540523.807345, \"Dimensions\": {\"model\": 6, \"Host\": \"algo-1\", \"Operation\": \"training\", \"Algorithm\": \"Linear Learner\", \"epoch\": 2}, \"StartTime\": 1518540523.807335}\n",
      "\u001b[0m\n",
      "\u001b[31m#metrics {\"Metrics\": {\"training_binary_classification_cross_entropy\": {\"count\": 1, \"max\": 0.00767886707016424, \"sum\": 0.00767886707016424, \"min\": 0.00767886707016424}, \"validation_binary_classification_cross_entropy\": {\"count\": 1, \"max\": -Infinity, \"sum\": NaN, \"min\": Infinity}}, \"EndTime\": 1518540523.807374, \"Dimensions\": {\"model\": 7, \"Host\": \"algo-1\", \"Operation\": \"training\", \"Algorithm\": \"Linear Learner\", \"epoch\": 2}, \"StartTime\": 1518540523.807365}\n",
      "\u001b[0m\n",
      "\u001b[31m#metrics {\"Metrics\": {\"training_binary_classification_cross_entropy\": {\"count\": 1, \"max\": 0.006160631613678721, \"sum\": 0.006160631613678721, \"min\": 0.006160631613678721}, \"validation_binary_classification_cross_entropy\": {\"count\": 1, \"max\": -Infinity, \"sum\": NaN, \"min\": Infinity}}, \"EndTime\": 1518540523.807406, \"Dimensions\": {\"model\": 8, \"Host\": \"algo-1\", \"Operation\": \"training\", \"Algorithm\": \"Linear Learner\", \"epoch\": 2}, \"StartTime\": 1518540523.807397}\n",
      "\u001b[0m\n",
      "\u001b[31m#metrics {\"Metrics\": {\"training_binary_classification_cross_entropy\": {\"count\": 1, \"max\": 0.005395665867665565, \"sum\": 0.005395665867665565, \"min\": 0.005395665867665565}, \"validation_binary_classification_cross_entropy\": {\"count\": 1, \"max\": -Infinity, \"sum\": NaN, \"min\": Infinity}}, \"EndTime\": 1518540523.807436, \"Dimensions\": {\"model\": 9, \"Host\": \"algo-1\", \"Operation\": \"training\", \"Algorithm\": \"Linear Learner\", \"epoch\": 2}, \"StartTime\": 1518540523.807427}\n",
      "\u001b[0m\n",
      "\u001b[31m#metrics {\"Metrics\": {\"training_binary_classification_cross_entropy\": {\"count\": 1, \"max\": 0.0061593689651314515, \"sum\": 0.0061593689651314515, \"min\": 0.0061593689651314515}, \"validation_binary_classification_cross_entropy\": {\"count\": 1, \"max\": -Infinity, \"sum\": NaN, \"min\": Infinity}}, \"EndTime\": 1518540523.807465, \"Dimensions\": {\"model\": 10, \"Host\": \"algo-1\", \"Operation\": \"training\", \"Algorithm\": \"Linear Learner\", \"epoch\": 2}, \"StartTime\": 1518540523.807456}\n",
      "\u001b[0m\n",
      "\u001b[31m#metrics {\"Metrics\": {\"training_binary_classification_cross_entropy\": {\"count\": 1, \"max\": 0.005394183763164474, \"sum\": 0.005394183763164474, \"min\": 0.005394183763164474}, \"validation_binary_classification_cross_entropy\": {\"count\": 1, \"max\": -Infinity, \"sum\": NaN, \"min\": Infinity}}, \"EndTime\": 1518540523.807495, \"Dimensions\": {\"model\": 11, \"Host\": \"algo-1\", \"Operation\": \"training\", \"Algorithm\": \"Linear Learner\", \"epoch\": 2}, \"StartTime\": 1518540523.807486}\n",
      "\u001b[0m\n",
      "\u001b[31m#metrics {\"Metrics\": {\"training_binary_classification_cross_entropy\": {\"count\": 1, \"max\": 0.005340294639344316, \"sum\": 0.005340294639344316, \"min\": 0.005340294639344316}, \"validation_binary_classification_cross_entropy\": {\"count\": 1, \"max\": -Infinity, \"sum\": NaN, \"min\": Infinity}}, \"EndTime\": 1518540523.807535, \"Dimensions\": {\"model\": 12, \"Host\": \"algo-1\", \"Operation\": \"training\", \"Algorithm\": \"Linear Learner\", \"epoch\": 2}, \"StartTime\": 1518540523.807526}\n",
      "\u001b[0m\n",
      "\u001b[31m#metrics {\"Metrics\": {\"training_binary_classification_cross_entropy\": {\"count\": 1, \"max\": 0.007432443398671846, \"sum\": 0.007432443398671846, \"min\": 0.007432443398671846}, \"validation_binary_classification_cross_entropy\": {\"count\": 1, \"max\": -Infinity, \"sum\": NaN, \"min\": Infinity}}, \"EndTime\": 1518540523.807564, \"Dimensions\": {\"model\": 13, \"Host\": \"algo-1\", \"Operation\": \"training\", \"Algorithm\": \"Linear Learner\", \"epoch\": 2}, \"StartTime\": 1518540523.807555}\n",
      "\u001b[0m\n",
      "\u001b[31m#metrics {\"Metrics\": {\"training_binary_classification_cross_entropy\": {\"count\": 1, \"max\": 0.005339805002036284, \"sum\": 0.005339805002036284, \"min\": 0.005339805002036284}, \"validation_binary_classification_cross_entropy\": {\"count\": 1, \"max\": -Infinity, \"sum\": NaN, \"min\": Infinity}}, \"EndTime\": 1518540523.807592, \"Dimensions\": {\"model\": 14, \"Host\": \"algo-1\", \"Operation\": \"training\", \"Algorithm\": \"Linear Learner\", \"epoch\": 2}, \"StartTime\": 1518540523.807584}\n",
      "\u001b[0m\n",
      "\u001b[31m#metrics {\"Metrics\": {\"training_binary_classification_cross_entropy\": {\"count\": 1, \"max\": 0.007413594041947261, \"sum\": 0.007413594041947261, \"min\": 0.007413594041947261}, \"validation_binary_classification_cross_entropy\": {\"count\": 1, \"max\": -Infinity, \"sum\": NaN, \"min\": Infinity}}, \"EndTime\": 1518540523.807621, \"Dimensions\": {\"model\": 15, \"Host\": \"algo-1\", \"Operation\": \"training\", \"Algorithm\": \"Linear Learner\", \"epoch\": 2}, \"StartTime\": 1518540523.807612}\n",
      "\u001b[0m\n",
      "\u001b[31m#metrics {\"Metrics\": {\"training_binary_classification_cross_entropy\": {\"count\": 1, \"max\": 0.012193860537914866, \"sum\": 0.012193860537914866, \"min\": 0.012193860537914866}, \"validation_binary_classification_cross_entropy\": {\"count\": 1, \"max\": -Infinity, \"sum\": NaN, \"min\": Infinity}}, \"EndTime\": 1518540523.807649, \"Dimensions\": {\"model\": 16, \"Host\": \"algo-1\", \"Operation\": \"training\", \"Algorithm\": \"Linear Learner\", \"epoch\": 2}, \"StartTime\": 1518540523.80764}\n",
      "\u001b[0m\n",
      "\u001b[31m#metrics {\"Metrics\": {\"training_binary_classification_cross_entropy\": {\"count\": 1, \"max\": 0.011884089119911912, \"sum\": 0.011884089119911912, \"min\": 0.011884089119911912}, \"validation_binary_classification_cross_entropy\": {\"count\": 1, \"max\": -Infinity, \"sum\": NaN, \"min\": Infinity}}, \"EndTime\": 1518540523.807678, \"Dimensions\": {\"model\": 17, \"Host\": \"algo-1\", \"Operation\": \"training\", \"Algorithm\": \"Linear Learner\", \"epoch\": 2}, \"StartTime\": 1518540523.807669}\n",
      "\u001b[0m\n",
      "\u001b[31m#metrics {\"Metrics\": {\"training_binary_classification_cross_entropy\": {\"count\": 1, \"max\": 0.0121924881020703, \"sum\": 0.0121924881020703, \"min\": 0.0121924881020703}, \"validation_binary_classification_cross_entropy\": {\"count\": 1, \"max\": -Infinity, \"sum\": NaN, \"min\": Infinity}}, \"EndTime\": 1518540523.807706, \"Dimensions\": {\"model\": 18, \"Host\": \"algo-1\", \"Operation\": \"training\", \"Algorithm\": \"Linear Learner\", \"epoch\": 2}, \"StartTime\": 1518540523.807698}\n",
      "\u001b[0m\n",
      "\u001b[31m#metrics {\"Metrics\": {\"training_binary_classification_cross_entropy\": {\"count\": 1, \"max\": 0.01188427789533234, \"sum\": 0.01188427789533234, \"min\": 0.01188427789533234}, \"validation_binary_classification_cross_entropy\": {\"count\": 1, \"max\": -Infinity, \"sum\": NaN, \"min\": Infinity}}, \"EndTime\": 1518540523.807734, \"Dimensions\": {\"model\": 19, \"Host\": \"algo-1\", \"Operation\": \"training\", \"Algorithm\": \"Linear Learner\", \"epoch\": 2}, \"StartTime\": 1518540523.807726}\n",
      "\u001b[0m\n",
      "\u001b[31m#metrics {\"Metrics\": {\"training_binary_classification_cross_entropy\": {\"count\": 1, \"max\": 0.011849327059275654, \"sum\": 0.011849327059275654, \"min\": 0.011849327059275654}, \"validation_binary_classification_cross_entropy\": {\"count\": 1, \"max\": -Infinity, \"sum\": NaN, \"min\": Infinity}}, \"EndTime\": 1518540523.807762, \"Dimensions\": {\"model\": 20, \"Host\": \"algo-1\", \"Operation\": \"training\", \"Algorithm\": \"Linear Learner\", \"epoch\": 2}, \"StartTime\": 1518540523.807754}\n",
      "\u001b[0m\n",
      "\u001b[31m#metrics {\"Metrics\": {\"training_binary_classification_cross_entropy\": {\"count\": 1, \"max\": 0.011949613026631285, \"sum\": 0.011949613026631285, \"min\": 0.011949613026631285}, \"validation_binary_classification_cross_entropy\": {\"count\": 1, \"max\": -Infinity, \"sum\": NaN, \"min\": Infinity}}, \"EndTime\": 1518540523.807791, \"Dimensions\": {\"model\": 21, \"Host\": \"algo-1\", \"Operation\": \"training\", \"Algorithm\": \"Linear Learner\", \"epoch\": 2}, \"StartTime\": 1518540523.807782}\n",
      "\u001b[0m\n",
      "\u001b[31m#metrics {\"Metrics\": {\"training_binary_classification_cross_entropy\": {\"count\": 1, \"max\": 0.011849455899861921, \"sum\": 0.011849455899861921, \"min\": 0.011849455899861921}, \"validation_binary_classification_cross_entropy\": {\"count\": 1, \"max\": -Infinity, \"sum\": NaN, \"min\": Infinity}}, \"EndTime\": 1518540523.807819, \"Dimensions\": {\"model\": 22, \"Host\": \"algo-1\", \"Operation\": \"training\", \"Algorithm\": \"Linear Learner\", \"epoch\": 2}, \"StartTime\": 1518540523.80781}\n",
      "\u001b[0m\n",
      "\u001b[31m#metrics {\"Metrics\": {\"training_binary_classification_cross_entropy\": {\"count\": 1, \"max\": 0.011950119458340916, \"sum\": 0.011950119458340916, \"min\": 0.011950119458340916}, \"validation_binary_classification_cross_entropy\": {\"count\": 1, \"max\": -Infinity, \"sum\": NaN, \"min\": Infinity}}, \"EndTime\": 1518540523.807847, \"Dimensions\": {\"model\": 23, \"Host\": \"algo-1\", \"Operation\": \"training\", \"Algorithm\": \"Linear Learner\", \"epoch\": 2}, \"StartTime\": 1518540523.807838}\n",
      "\u001b[0m\n",
      "\u001b[31m#metrics {\"Metrics\": {\"training_binary_classification_cross_entropy\": {\"count\": 1, \"max\": 0.013074348031816233, \"sum\": 0.013074348031816233, \"min\": 0.013074348031816233}, \"validation_binary_classification_cross_entropy\": {\"count\": 1, \"max\": -Infinity, \"sum\": NaN, \"min\": Infinity}}, \"EndTime\": 1518540523.807875, \"Dimensions\": {\"model\": 24, \"Host\": \"algo-1\", \"Operation\": \"training\", \"Algorithm\": \"Linear Learner\", \"epoch\": 2}, \"StartTime\": 1518540523.807866}\n",
      "\u001b[0m\n",
      "\u001b[31m#metrics {\"Metrics\": {\"training_binary_classification_cross_entropy\": {\"count\": 1, \"max\": 0.012751769284347453, \"sum\": 0.012751769284347453, \"min\": 0.012751769284347453}, \"validation_binary_classification_cross_entropy\": {\"count\": 1, \"max\": -Infinity, \"sum\": NaN, \"min\": Infinity}}, \"EndTime\": 1518540523.807903, \"Dimensions\": {\"model\": 25, \"Host\": \"algo-1\", \"Operation\": \"training\", \"Algorithm\": \"Linear Learner\", \"epoch\": 2}, \"StartTime\": 1518540523.807895}\n",
      "\u001b[0m\n",
      "\u001b[31m#metrics {\"Metrics\": {\"training_binary_classification_cross_entropy\": {\"count\": 1, \"max\": 0.013074507048151579, \"sum\": 0.013074507048151579, \"min\": 0.013074507048151579}, \"validation_binary_classification_cross_entropy\": {\"count\": 1, \"max\": -Infinity, \"sum\": NaN, \"min\": Infinity}}, \"EndTime\": 1518540523.807931, \"Dimensions\": {\"model\": 26, \"Host\": \"algo-1\", \"Operation\": \"training\", \"Algorithm\": \"Linear Learner\", \"epoch\": 2}, \"StartTime\": 1518540523.807923}\n",
      "\u001b[0m\n",
      "\u001b[31m#metrics {\"Metrics\": {\"training_binary_classification_cross_entropy\": {\"count\": 1, \"max\": 0.012752794072361117, \"sum\": 0.012752794072361117, \"min\": 0.012752794072361117}, \"validation_binary_classification_cross_entropy\": {\"count\": 1, \"max\": -Infinity, \"sum\": NaN, \"min\": Infinity}}, \"EndTime\": 1518540523.807959, \"Dimensions\": {\"model\": 27, \"Host\": \"algo-1\", \"Operation\": \"training\", \"Algorithm\": \"Linear Learner\", \"epoch\": 2}, \"StartTime\": 1518540523.80795}\n",
      "\u001b[0m\n",
      "\u001b[31m#metrics {\"Metrics\": {\"training_binary_classification_cross_entropy\": {\"count\": 1, \"max\": 0.012768974797837587, \"sum\": 0.012768974797837587, \"min\": 0.012768974797837587}, \"validation_binary_classification_cross_entropy\": {\"count\": 1, \"max\": -Infinity, \"sum\": NaN, \"min\": Infinity}}, \"EndTime\": 1518540523.807986, \"Dimensions\": {\"model\": 28, \"Host\": \"algo-1\", \"Operation\": \"training\", \"Algorithm\": \"Linear Learner\", \"epoch\": 2}, \"StartTime\": 1518540523.807978}\n",
      "\u001b[0m\n",
      "\u001b[31m#metrics {\"Metrics\": {\"training_binary_classification_cross_entropy\": {\"count\": 1, \"max\": 0.012907140801462482, \"sum\": 0.012907140801462482, \"min\": 0.012907140801462482}, \"validation_binary_classification_cross_entropy\": {\"count\": 1, \"max\": -Infinity, \"sum\": NaN, \"min\": Infinity}}, \"EndTime\": 1518540523.808014, \"Dimensions\": {\"model\": 29, \"Host\": \"algo-1\", \"Operation\": \"training\", \"Algorithm\": \"Linear Learner\", \"epoch\": 2}, \"StartTime\": 1518540523.808006}\n",
      "\u001b[0m\n",
      "\u001b[31m#metrics {\"Metrics\": {\"training_binary_classification_cross_entropy\": {\"count\": 1, \"max\": 0.012768395969412294, \"sum\": 0.012768395969412294, \"min\": 0.012768395969412294}, \"validation_binary_classification_cross_entropy\": {\"count\": 1, \"max\": -Infinity, \"sum\": NaN, \"min\": Infinity}}, \"EndTime\": 1518540523.808042, \"Dimensions\": {\"model\": 30, \"Host\": \"algo-1\", \"Operation\": \"training\", \"Algorithm\": \"Linear Learner\", \"epoch\": 2}, \"StartTime\": 1518540523.808034}\n",
      "\u001b[0m\n",
      "\u001b[31m#metrics {\"Metrics\": {\"training_binary_classification_cross_entropy\": {\"count\": 1, \"max\": 0.012902638967070414, \"sum\": 0.012902638967070414, \"min\": 0.012902638967070414}, \"validation_binary_classification_cross_entropy\": {\"count\": 1, \"max\": -Infinity, \"sum\": NaN, \"min\": Infinity}}, \"EndTime\": 1518540523.80807, \"Dimensions\": {\"model\": 31, \"Host\": \"algo-1\", \"Operation\": \"training\", \"Algorithm\": \"Linear Learner\", \"epoch\": 2}, \"StartTime\": 1518540523.808062}\n",
      "\u001b[0m\n"
     ]
    },
    {
     "name": "stdout",
     "output_type": "stream",
     "text": [
      "\u001b[31m#metrics {\"Metrics\": {\"training_binary_classification_cross_entropy\": {\"count\": 1, \"max\": 0.004935127349054239, \"sum\": 0.004935127349054239, \"min\": 0.004935127349054239}, \"validation_binary_classification_cross_entropy\": {\"count\": 1, \"max\": -Infinity, \"sum\": NaN, \"min\": Infinity}}, \"EndTime\": 1518540543.850331, \"Dimensions\": {\"model\": 0, \"Host\": \"algo-1\", \"Operation\": \"training\", \"Algorithm\": \"Linear Learner\", \"epoch\": 3}, \"StartTime\": 1518540543.850242}\n",
      "\u001b[0m\n",
      "\u001b[31m#metrics {\"Metrics\": {\"training_binary_classification_cross_entropy\": {\"count\": 1, \"max\": 0.00427203314891272, \"sum\": 0.00427203314891272, \"min\": 0.00427203314891272}, \"validation_binary_classification_cross_entropy\": {\"count\": 1, \"max\": -Infinity, \"sum\": NaN, \"min\": Infinity}}, \"EndTime\": 1518540543.850408, \"Dimensions\": {\"model\": 1, \"Host\": \"algo-1\", \"Operation\": \"training\", \"Algorithm\": \"Linear Learner\", \"epoch\": 3}, \"StartTime\": 1518540543.850393}\n",
      "\u001b[0m\n",
      "\u001b[31m#metrics {\"Metrics\": {\"training_binary_classification_cross_entropy\": {\"count\": 1, \"max\": 0.004935854540382284, \"sum\": 0.004935854540382284, \"min\": 0.004935854540382284}, \"validation_binary_classification_cross_entropy\": {\"count\": 1, \"max\": -Infinity, \"sum\": NaN, \"min\": Infinity}}, \"EndTime\": 1518540543.850446, \"Dimensions\": {\"model\": 2, \"Host\": \"algo-1\", \"Operation\": \"training\", \"Algorithm\": \"Linear Learner\", \"epoch\": 3}, \"StartTime\": 1518540543.850435}\n",
      "\u001b[0m\n",
      "\u001b[31m#metrics {\"Metrics\": {\"training_binary_classification_cross_entropy\": {\"count\": 1, \"max\": 0.0042721039782012684, \"sum\": 0.0042721039782012684, \"min\": 0.0042721039782012684}, \"validation_binary_classification_cross_entropy\": {\"count\": 1, \"max\": -Infinity, \"sum\": NaN, \"min\": Infinity}}, \"EndTime\": 1518540543.850479, \"Dimensions\": {\"model\": 3, \"Host\": \"algo-1\", \"Operation\": \"training\", \"Algorithm\": \"Linear Learner\", \"epoch\": 3}, \"StartTime\": 1518540543.85047}\n",
      "\u001b[0m\n",
      "\u001b[31m#metrics {\"Metrics\": {\"training_binary_classification_cross_entropy\": {\"count\": 1, \"max\": 0.004420376588014445, \"sum\": 0.004420376588014445, \"min\": 0.004420376588014445}, \"validation_binary_classification_cross_entropy\": {\"count\": 1, \"max\": -Infinity, \"sum\": NaN, \"min\": Infinity}}, \"EndTime\": 1518540543.850512, \"Dimensions\": {\"model\": 4, \"Host\": \"algo-1\", \"Operation\": \"training\", \"Algorithm\": \"Linear Learner\", \"epoch\": 3}, \"StartTime\": 1518540543.850503}\n",
      "\u001b[0m\n",
      "\u001b[31m#metrics {\"Metrics\": {\"training_binary_classification_cross_entropy\": {\"count\": 1, \"max\": 0.007742584361584883, \"sum\": 0.007742584361584883, \"min\": 0.007742584361584883}, \"validation_binary_classification_cross_entropy\": {\"count\": 1, \"max\": -Infinity, \"sum\": NaN, \"min\": Infinity}}, \"EndTime\": 1518540543.850542, \"Dimensions\": {\"model\": 5, \"Host\": \"algo-1\", \"Operation\": \"training\", \"Algorithm\": \"Linear Learner\", \"epoch\": 3}, \"StartTime\": 1518540543.850533}\n",
      "\u001b[0m\n",
      "\u001b[31m#metrics {\"Metrics\": {\"training_binary_classification_cross_entropy\": {\"count\": 1, \"max\": 0.00456565413040569, \"sum\": 0.00456565413040569, \"min\": 0.00456565413040569}, \"validation_binary_classification_cross_entropy\": {\"count\": 1, \"max\": -Infinity, \"sum\": NaN, \"min\": Infinity}}, \"EndTime\": 1518540543.850572, \"Dimensions\": {\"model\": 6, \"Host\": \"algo-1\", \"Operation\": \"training\", \"Algorithm\": \"Linear Learner\", \"epoch\": 3}, \"StartTime\": 1518540543.850563}\n",
      "\u001b[0m\n",
      "\u001b[31m#metrics {\"Metrics\": {\"training_binary_classification_cross_entropy\": {\"count\": 1, \"max\": 0.008615878523778665, \"sum\": 0.008615878523778665, \"min\": 0.008615878523778665}, \"validation_binary_classification_cross_entropy\": {\"count\": 1, \"max\": -Infinity, \"sum\": NaN, \"min\": Infinity}}, \"EndTime\": 1518540543.850609, \"Dimensions\": {\"model\": 7, \"Host\": \"algo-1\", \"Operation\": \"training\", \"Algorithm\": \"Linear Learner\", \"epoch\": 3}, \"StartTime\": 1518540543.850596}\n",
      "\u001b[0m\n",
      "\u001b[31m#metrics {\"Metrics\": {\"training_binary_classification_cross_entropy\": {\"count\": 1, \"max\": 0.005545444158784836, \"sum\": 0.005545444158784836, \"min\": 0.005545444158784836}, \"validation_binary_classification_cross_entropy\": {\"count\": 1, \"max\": -Infinity, \"sum\": NaN, \"min\": Infinity}}, \"EndTime\": 1518540543.850698, \"Dimensions\": {\"model\": 8, \"Host\": \"algo-1\", \"Operation\": \"training\", \"Algorithm\": \"Linear Learner\", \"epoch\": 3}, \"StartTime\": 1518540543.850632}\n",
      "\u001b[0m\n",
      "\u001b[31m#metrics {\"Metrics\": {\"training_binary_classification_cross_entropy\": {\"count\": 1, \"max\": 0.005075607791797344, \"sum\": 0.005075607791797344, \"min\": 0.005075607791797344}, \"validation_binary_classification_cross_entropy\": {\"count\": 1, \"max\": -Infinity, \"sum\": NaN, \"min\": Infinity}}, \"EndTime\": 1518540543.850737, \"Dimensions\": {\"model\": 9, \"Host\": \"algo-1\", \"Operation\": \"training\", \"Algorithm\": \"Linear Learner\", \"epoch\": 3}, \"StartTime\": 1518540543.850727}\n",
      "\u001b[0m\n",
      "\u001b[31m#metrics {\"Metrics\": {\"training_binary_classification_cross_entropy\": {\"count\": 1, \"max\": 0.005544712980648121, \"sum\": 0.005544712980648121, \"min\": 0.005544712980648121}, \"validation_binary_classification_cross_entropy\": {\"count\": 1, \"max\": -Infinity, \"sum\": NaN, \"min\": Infinity}}, \"EndTime\": 1518540543.850768, \"Dimensions\": {\"model\": 10, \"Host\": \"algo-1\", \"Operation\": \"training\", \"Algorithm\": \"Linear Learner\", \"epoch\": 3}, \"StartTime\": 1518540543.850759}\n",
      "\u001b[0m\n",
      "\u001b[31m#metrics {\"Metrics\": {\"training_binary_classification_cross_entropy\": {\"count\": 1, \"max\": 0.005074913500393011, \"sum\": 0.005074913500393011, \"min\": 0.005074913500393011}, \"validation_binary_classification_cross_entropy\": {\"count\": 1, \"max\": -Infinity, \"sum\": NaN, \"min\": Infinity}}, \"EndTime\": 1518540543.850798, \"Dimensions\": {\"model\": 11, \"Host\": \"algo-1\", \"Operation\": \"training\", \"Algorithm\": \"Linear Learner\", \"epoch\": 3}, \"StartTime\": 1518540543.850789}\n",
      "\u001b[0m\n",
      "\u001b[31m#metrics {\"Metrics\": {\"training_binary_classification_cross_entropy\": {\"count\": 1, \"max\": 0.005148838025304568, \"sum\": 0.005148838025304568, \"min\": 0.005148838025304568}, \"validation_binary_classification_cross_entropy\": {\"count\": 1, \"max\": -Infinity, \"sum\": NaN, \"min\": Infinity}}, \"EndTime\": 1518540543.850837, \"Dimensions\": {\"model\": 12, \"Host\": \"algo-1\", \"Operation\": \"training\", \"Algorithm\": \"Linear Learner\", \"epoch\": 3}, \"StartTime\": 1518540543.850829}\n",
      "\u001b[0m\n",
      "\u001b[31m#metrics {\"Metrics\": {\"training_binary_classification_cross_entropy\": {\"count\": 1, \"max\": 0.007153353458508872, \"sum\": 0.007153353458508872, \"min\": 0.007153353458508872}, \"validation_binary_classification_cross_entropy\": {\"count\": 1, \"max\": -Infinity, \"sum\": NaN, \"min\": Infinity}}, \"EndTime\": 1518540543.850866, \"Dimensions\": {\"model\": 13, \"Host\": \"algo-1\", \"Operation\": \"training\", \"Algorithm\": \"Linear Learner\", \"epoch\": 3}, \"StartTime\": 1518540543.850857}\n",
      "\u001b[0m\n",
      "\u001b[31m#metrics {\"Metrics\": {\"training_binary_classification_cross_entropy\": {\"count\": 1, \"max\": 0.0051488738560143965, \"sum\": 0.0051488738560143965, \"min\": 0.0051488738560143965}, \"validation_binary_classification_cross_entropy\": {\"count\": 1, \"max\": -Infinity, \"sum\": NaN, \"min\": Infinity}}, \"EndTime\": 1518540543.850894, \"Dimensions\": {\"model\": 14, \"Host\": \"algo-1\", \"Operation\": \"training\", \"Algorithm\": \"Linear Learner\", \"epoch\": 3}, \"StartTime\": 1518540543.850885}\n",
      "\u001b[0m\n",
      "\u001b[31m#metrics {\"Metrics\": {\"training_binary_classification_cross_entropy\": {\"count\": 1, \"max\": 0.007180837833740557, \"sum\": 0.007180837833740557, \"min\": 0.007180837833740557}, \"validation_binary_classification_cross_entropy\": {\"count\": 1, \"max\": -Infinity, \"sum\": NaN, \"min\": Infinity}}, \"EndTime\": 1518540543.850924, \"Dimensions\": {\"model\": 15, \"Host\": \"algo-1\", \"Operation\": \"training\", \"Algorithm\": \"Linear Learner\", \"epoch\": 3}, \"StartTime\": 1518540543.850915}\n",
      "\u001b[0m\n",
      "\u001b[31m#metrics {\"Metrics\": {\"training_binary_classification_cross_entropy\": {\"count\": 1, \"max\": 0.011892645105599878, \"sum\": 0.011892645105599878, \"min\": 0.011892645105599878}, \"validation_binary_classification_cross_entropy\": {\"count\": 1, \"max\": -Infinity, \"sum\": NaN, \"min\": Infinity}}, \"EndTime\": 1518540543.850952, \"Dimensions\": {\"model\": 16, \"Host\": \"algo-1\", \"Operation\": \"training\", \"Algorithm\": \"Linear Learner\", \"epoch\": 3}, \"StartTime\": 1518540543.850943}\n",
      "\u001b[0m\n",
      "\u001b[31m#metrics {\"Metrics\": {\"training_binary_classification_cross_entropy\": {\"count\": 1, \"max\": 0.011835506619758395, \"sum\": 0.011835506619758395, \"min\": 0.011835506619758395}, \"validation_binary_classification_cross_entropy\": {\"count\": 1, \"max\": -Infinity, \"sum\": NaN, \"min\": Infinity}}, \"EndTime\": 1518540543.850981, \"Dimensions\": {\"model\": 17, \"Host\": \"algo-1\", \"Operation\": \"training\", \"Algorithm\": \"Linear Learner\", \"epoch\": 3}, \"StartTime\": 1518540543.850972}\n",
      "\u001b[0m\n",
      "\u001b[31m#metrics {\"Metrics\": {\"training_binary_classification_cross_entropy\": {\"count\": 1, \"max\": 0.01189212998098518, \"sum\": 0.01189212998098518, \"min\": 0.01189212998098518}, \"validation_binary_classification_cross_entropy\": {\"count\": 1, \"max\": -Infinity, \"sum\": NaN, \"min\": Infinity}}, \"EndTime\": 1518540543.851009, \"Dimensions\": {\"model\": 18, \"Host\": \"algo-1\", \"Operation\": \"training\", \"Algorithm\": \"Linear Learner\", \"epoch\": 3}, \"StartTime\": 1518540543.851}\n",
      "\u001b[0m\n",
      "\u001b[31m#metrics {\"Metrics\": {\"training_binary_classification_cross_entropy\": {\"count\": 1, \"max\": 0.01183551145306074, \"sum\": 0.01183551145306074, \"min\": 0.01183551145306074}, \"validation_binary_classification_cross_entropy\": {\"count\": 1, \"max\": -Infinity, \"sum\": NaN, \"min\": Infinity}}, \"EndTime\": 1518540543.851037, \"Dimensions\": {\"model\": 19, \"Host\": \"algo-1\", \"Operation\": \"training\", \"Algorithm\": \"Linear Learner\", \"epoch\": 3}, \"StartTime\": 1518540543.851028}\n",
      "\u001b[0m\n",
      "\u001b[31m#metrics {\"Metrics\": {\"training_binary_classification_cross_entropy\": {\"count\": 1, \"max\": 0.01188685285279071, \"sum\": 0.01188685285279071, \"min\": 0.01188685285279071}, \"validation_binary_classification_cross_entropy\": {\"count\": 1, \"max\": -Infinity, \"sum\": NaN, \"min\": Infinity}}, \"EndTime\": 1518540543.851066, \"Dimensions\": {\"model\": 20, \"Host\": \"algo-1\", \"Operation\": \"training\", \"Algorithm\": \"Linear Learner\", \"epoch\": 3}, \"StartTime\": 1518540543.851057}\n",
      "\u001b[0m\n",
      "\u001b[31m#metrics {\"Metrics\": {\"training_binary_classification_cross_entropy\": {\"count\": 1, \"max\": 0.012027238690253182, \"sum\": 0.012027238690253182, \"min\": 0.012027238690253182}, \"validation_binary_classification_cross_entropy\": {\"count\": 1, \"max\": -Infinity, \"sum\": NaN, \"min\": Infinity}}, \"EndTime\": 1518540543.851094, \"Dimensions\": {\"model\": 21, \"Host\": \"algo-1\", \"Operation\": \"training\", \"Algorithm\": \"Linear Learner\", \"epoch\": 3}, \"StartTime\": 1518540543.851085}\n",
      "\u001b[0m\n",
      "\u001b[31m#metrics {\"Metrics\": {\"training_binary_classification_cross_entropy\": {\"count\": 1, \"max\": 0.01188756551324244, \"sum\": 0.01188756551324244, \"min\": 0.01188756551324244}, \"validation_binary_classification_cross_entropy\": {\"count\": 1, \"max\": -Infinity, \"sum\": NaN, \"min\": Infinity}}, \"EndTime\": 1518540543.851122, \"Dimensions\": {\"model\": 22, \"Host\": \"algo-1\", \"Operation\": \"training\", \"Algorithm\": \"Linear Learner\", \"epoch\": 3}, \"StartTime\": 1518540543.851113}\n",
      "\u001b[0m\n",
      "\u001b[31m#metrics {\"Metrics\": {\"training_binary_classification_cross_entropy\": {\"count\": 1, \"max\": 0.012028014669344427, \"sum\": 0.012028014669344427, \"min\": 0.012028014669344427}, \"validation_binary_classification_cross_entropy\": {\"count\": 1, \"max\": -Infinity, \"sum\": NaN, \"min\": Infinity}}, \"EndTime\": 1518540543.851149, \"Dimensions\": {\"model\": 23, \"Host\": \"algo-1\", \"Operation\": \"training\", \"Algorithm\": \"Linear Learner\", \"epoch\": 3}, \"StartTime\": 1518540543.851141}\n",
      "\u001b[0m\n",
      "\u001b[31m#metrics {\"Metrics\": {\"training_binary_classification_cross_entropy\": {\"count\": 1, \"max\": 0.012809303724263088, \"sum\": 0.012809303724263088, \"min\": 0.012809303724263088}, \"validation_binary_classification_cross_entropy\": {\"count\": 1, \"max\": -Infinity, \"sum\": NaN, \"min\": Infinity}}, \"EndTime\": 1518540543.851181, \"Dimensions\": {\"model\": 24, \"Host\": \"algo-1\", \"Operation\": \"training\", \"Algorithm\": \"Linear Learner\", \"epoch\": 3}, \"StartTime\": 1518540543.851172}\n",
      "\u001b[0m\n",
      "\u001b[31m#metrics {\"Metrics\": {\"training_binary_classification_cross_entropy\": {\"count\": 1, \"max\": 0.012705335468053818, \"sum\": 0.012705335468053818, \"min\": 0.012705335468053818}, \"validation_binary_classification_cross_entropy\": {\"count\": 1, \"max\": -Infinity, \"sum\": NaN, \"min\": Infinity}}, \"EndTime\": 1518540543.85121, \"Dimensions\": {\"model\": 25, \"Host\": \"algo-1\", \"Operation\": \"training\", \"Algorithm\": \"Linear Learner\", \"epoch\": 3}, \"StartTime\": 1518540543.851201}\n",
      "\u001b[0m\n",
      "\u001b[31m#metrics {\"Metrics\": {\"training_binary_classification_cross_entropy\": {\"count\": 1, \"max\": 0.012809425910194237, \"sum\": 0.012809425910194237, \"min\": 0.012809425910194237}, \"validation_binary_classification_cross_entropy\": {\"count\": 1, \"max\": -Infinity, \"sum\": NaN, \"min\": Infinity}}, \"EndTime\": 1518540543.851238, \"Dimensions\": {\"model\": 26, \"Host\": \"algo-1\", \"Operation\": \"training\", \"Algorithm\": \"Linear Learner\", \"epoch\": 3}, \"StartTime\": 1518540543.85123}\n",
      "\u001b[0m\n",
      "\u001b[31m#metrics {\"Metrics\": {\"training_binary_classification_cross_entropy\": {\"count\": 1, \"max\": 0.012705433423440141, \"sum\": 0.012705433423440141, \"min\": 0.012705433423440141}, \"validation_binary_classification_cross_entropy\": {\"count\": 1, \"max\": -Infinity, \"sum\": NaN, \"min\": Infinity}}, \"EndTime\": 1518540543.851266, \"Dimensions\": {\"model\": 27, \"Host\": \"algo-1\", \"Operation\": \"training\", \"Algorithm\": \"Linear Learner\", \"epoch\": 3}, \"StartTime\": 1518540543.851258}\n",
      "\u001b[0m\n",
      "\u001b[31m#metrics {\"Metrics\": {\"training_binary_classification_cross_entropy\": {\"count\": 1, \"max\": 0.0127453378004482, \"sum\": 0.0127453378004482, \"min\": 0.0127453378004482}, \"validation_binary_classification_cross_entropy\": {\"count\": 1, \"max\": -Infinity, \"sum\": NaN, \"min\": Infinity}}, \"EndTime\": 1518540543.851294, \"Dimensions\": {\"model\": 28, \"Host\": \"algo-1\", \"Operation\": \"training\", \"Algorithm\": \"Linear Learner\", \"epoch\": 3}, \"StartTime\": 1518540543.851286}\n",
      "\u001b[0m\n",
      "\u001b[31m#metrics {\"Metrics\": {\"training_binary_classification_cross_entropy\": {\"count\": 1, \"max\": 0.013007398396655618, \"sum\": 0.013007398396655618, \"min\": 0.013007398396655618}, \"validation_binary_classification_cross_entropy\": {\"count\": 1, \"max\": -Infinity, \"sum\": NaN, \"min\": Infinity}}, \"EndTime\": 1518540543.851322, \"Dimensions\": {\"model\": 29, \"Host\": \"algo-1\", \"Operation\": \"training\", \"Algorithm\": \"Linear Learner\", \"epoch\": 3}, \"StartTime\": 1518540543.851314}\n",
      "\u001b[0m\n",
      "\u001b[31m#metrics {\"Metrics\": {\"training_binary_classification_cross_entropy\": {\"count\": 1, \"max\": 0.012743747473570956, \"sum\": 0.012743747473570956, \"min\": 0.012743747473570956}, \"validation_binary_classification_cross_entropy\": {\"count\": 1, \"max\": -Infinity, \"sum\": NaN, \"min\": Infinity}}, \"EndTime\": 1518540543.85135, \"Dimensions\": {\"model\": 30, \"Host\": \"algo-1\", \"Operation\": \"training\", \"Algorithm\": \"Linear Learner\", \"epoch\": 3}, \"StartTime\": 1518540543.851342}\n",
      "\u001b[0m\n",
      "\u001b[31m#metrics {\"Metrics\": {\"training_binary_classification_cross_entropy\": {\"count\": 1, \"max\": 0.013002959373537975, \"sum\": 0.013002959373537975, \"min\": 0.013002959373537975}, \"validation_binary_classification_cross_entropy\": {\"count\": 1, \"max\": -Infinity, \"sum\": NaN, \"min\": Infinity}}, \"EndTime\": 1518540543.851378, \"Dimensions\": {\"model\": 31, \"Host\": \"algo-1\", \"Operation\": \"training\", \"Algorithm\": \"Linear Learner\", \"epoch\": 3}, \"StartTime\": 1518540543.85137}\n",
      "\u001b[0m\n"
     ]
    },
    {
     "name": "stdout",
     "output_type": "stream",
     "text": [
      "\u001b[31m#metrics {\"Metrics\": {\"training_binary_classification_cross_entropy\": {\"count\": 1, \"max\": 0.00470667933693612, \"sum\": 0.00470667933693612, \"min\": 0.00470667933693612}, \"validation_binary_classification_cross_entropy\": {\"count\": 1, \"max\": -Infinity, \"sum\": NaN, \"min\": Infinity}}, \"EndTime\": 1518540563.582167, \"Dimensions\": {\"model\": 0, \"Host\": \"algo-1\", \"Operation\": \"training\", \"Algorithm\": \"Linear Learner\", \"epoch\": 4}, \"StartTime\": 1518540563.582078}\n",
      "\u001b[0m\n",
      "\u001b[31m#metrics {\"Metrics\": {\"training_binary_classification_cross_entropy\": {\"count\": 1, \"max\": 0.004219565484186552, \"sum\": 0.004219565484186552, \"min\": 0.004219565484186552}, \"validation_binary_classification_cross_entropy\": {\"count\": 1, \"max\": -Infinity, \"sum\": NaN, \"min\": Infinity}}, \"EndTime\": 1518540563.582244, \"Dimensions\": {\"model\": 1, \"Host\": \"algo-1\", \"Operation\": \"training\", \"Algorithm\": \"Linear Learner\", \"epoch\": 4}, \"StartTime\": 1518540563.58223}\n",
      "\u001b[0m\n",
      "\u001b[31m#metrics {\"Metrics\": {\"training_binary_classification_cross_entropy\": {\"count\": 1, \"max\": 0.004706364989609843, \"sum\": 0.004706364989609843, \"min\": 0.004706364989609843}, \"validation_binary_classification_cross_entropy\": {\"count\": 1, \"max\": -Infinity, \"sum\": NaN, \"min\": Infinity}}, \"EndTime\": 1518540563.582281, \"Dimensions\": {\"model\": 2, \"Host\": \"algo-1\", \"Operation\": \"training\", \"Algorithm\": \"Linear Learner\", \"epoch\": 4}, \"StartTime\": 1518540563.582271}\n",
      "\u001b[0m\n",
      "\u001b[31m#metrics {\"Metrics\": {\"training_binary_classification_cross_entropy\": {\"count\": 1, \"max\": 0.0042195765129159615, \"sum\": 0.0042195765129159615, \"min\": 0.0042195765129159615}, \"validation_binary_classification_cross_entropy\": {\"count\": 1, \"max\": -Infinity, \"sum\": NaN, \"min\": Infinity}}, \"EndTime\": 1518540563.582314, \"Dimensions\": {\"model\": 3, \"Host\": \"algo-1\", \"Operation\": \"training\", \"Algorithm\": \"Linear Learner\", \"epoch\": 4}, \"StartTime\": 1518540563.582304}\n",
      "\u001b[0m\n",
      "\u001b[31m#metrics {\"Metrics\": {\"training_binary_classification_cross_entropy\": {\"count\": 1, \"max\": 0.0041763336680470465, \"sum\": 0.0041763336680470465, \"min\": 0.0041763336680470465}, \"validation_binary_classification_cross_entropy\": {\"count\": 1, \"max\": -Infinity, \"sum\": NaN, \"min\": Infinity}}, \"EndTime\": 1518540563.582347, \"Dimensions\": {\"model\": 4, \"Host\": \"algo-1\", \"Operation\": \"training\", \"Algorithm\": \"Linear Learner\", \"epoch\": 4}, \"StartTime\": 1518540563.582337}\n",
      "\u001b[0m\n",
      "\u001b[31m#metrics {\"Metrics\": {\"training_binary_classification_cross_entropy\": {\"count\": 1, \"max\": 0.007466715085052513, \"sum\": 0.007466715085052513, \"min\": 0.007466715085052513}, \"validation_binary_classification_cross_entropy\": {\"count\": 1, \"max\": -Infinity, \"sum\": NaN, \"min\": Infinity}}, \"EndTime\": 1518540563.582378, \"Dimensions\": {\"model\": 5, \"Host\": \"algo-1\", \"Operation\": \"training\", \"Algorithm\": \"Linear Learner\", \"epoch\": 4}, \"StartTime\": 1518540563.582369}\n",
      "\u001b[0m\n",
      "\u001b[31m#metrics {\"Metrics\": {\"training_binary_classification_cross_entropy\": {\"count\": 1, \"max\": 0.004113265507645067, \"sum\": 0.004113265507645067, \"min\": 0.004113265507645067}, \"validation_binary_classification_cross_entropy\": {\"count\": 1, \"max\": -Infinity, \"sum\": NaN, \"min\": Infinity}}, \"EndTime\": 1518540563.582408, \"Dimensions\": {\"model\": 6, \"Host\": \"algo-1\", \"Operation\": \"training\", \"Algorithm\": \"Linear Learner\", \"epoch\": 4}, \"StartTime\": 1518540563.5824}\n",
      "\u001b[0m\n",
      "\u001b[31m#metrics {\"Metrics\": {\"training_binary_classification_cross_entropy\": {\"count\": 1, \"max\": 0.007283831990726505, \"sum\": 0.007283831990726505, \"min\": 0.007283831990726505}, \"validation_binary_classification_cross_entropy\": {\"count\": 1, \"max\": -Infinity, \"sum\": NaN, \"min\": Infinity}}, \"EndTime\": 1518540563.582438, \"Dimensions\": {\"model\": 7, \"Host\": \"algo-1\", \"Operation\": \"training\", \"Algorithm\": \"Linear Learner\", \"epoch\": 4}, \"StartTime\": 1518540563.582429}\n",
      "\u001b[0m\n",
      "\u001b[31m#metrics {\"Metrics\": {\"training_binary_classification_cross_entropy\": {\"count\": 1, \"max\": 0.005365034565030332, \"sum\": 0.005365034565030332, \"min\": 0.005365034565030332}, \"validation_binary_classification_cross_entropy\": {\"count\": 1, \"max\": -Infinity, \"sum\": NaN, \"min\": Infinity}}, \"EndTime\": 1518540563.582467, \"Dimensions\": {\"model\": 8, \"Host\": \"algo-1\", \"Operation\": \"training\", \"Algorithm\": \"Linear Learner\", \"epoch\": 4}, \"StartTime\": 1518540563.582458}\n",
      "\u001b[0m\n",
      "\u001b[31m#metrics {\"Metrics\": {\"training_binary_classification_cross_entropy\": {\"count\": 1, \"max\": 0.005026118026290792, \"sum\": 0.005026118026290792, \"min\": 0.005026118026290792}, \"validation_binary_classification_cross_entropy\": {\"count\": 1, \"max\": -Infinity, \"sum\": NaN, \"min\": Infinity}}, \"EndTime\": 1518540563.582497, \"Dimensions\": {\"model\": 9, \"Host\": \"algo-1\", \"Operation\": \"training\", \"Algorithm\": \"Linear Learner\", \"epoch\": 4}, \"StartTime\": 1518540563.582488}\n",
      "\u001b[0m\n",
      "\u001b[31m#metrics {\"Metrics\": {\"training_binary_classification_cross_entropy\": {\"count\": 1, \"max\": 0.005364483495403725, \"sum\": 0.005364483495403725, \"min\": 0.005364483495403725}, \"validation_binary_classification_cross_entropy\": {\"count\": 1, \"max\": -Infinity, \"sum\": NaN, \"min\": Infinity}}, \"EndTime\": 1518540563.582526, \"Dimensions\": {\"model\": 10, \"Host\": \"algo-1\", \"Operation\": \"training\", \"Algorithm\": \"Linear Learner\", \"epoch\": 4}, \"StartTime\": 1518540563.582517}\n",
      "\u001b[0m\n",
      "\u001b[31m#metrics {\"Metrics\": {\"training_binary_classification_cross_entropy\": {\"count\": 1, \"max\": 0.005025832318517578, \"sum\": 0.005025832318517578, \"min\": 0.005025832318517578}, \"validation_binary_classification_cross_entropy\": {\"count\": 1, \"max\": -Infinity, \"sum\": NaN, \"min\": Infinity}}, \"EndTime\": 1518540563.582556, \"Dimensions\": {\"model\": 11, \"Host\": \"algo-1\", \"Operation\": \"training\", \"Algorithm\": \"Linear Learner\", \"epoch\": 4}, \"StartTime\": 1518540563.582547}\n",
      "\u001b[0m\n",
      "\u001b[31m#metrics {\"Metrics\": {\"training_binary_classification_cross_entropy\": {\"count\": 1, \"max\": 0.005029672592145253, \"sum\": 0.005029672592145253, \"min\": 0.005029672592145253}, \"validation_binary_classification_cross_entropy\": {\"count\": 1, \"max\": -Infinity, \"sum\": NaN, \"min\": Infinity}}, \"EndTime\": 1518540563.582585, \"Dimensions\": {\"model\": 12, \"Host\": \"algo-1\", \"Operation\": \"training\", \"Algorithm\": \"Linear Learner\", \"epoch\": 4}, \"StartTime\": 1518540563.582576}\n",
      "\u001b[0m\n",
      "\u001b[31m#metrics {\"Metrics\": {\"training_binary_classification_cross_entropy\": {\"count\": 1, \"max\": 0.007021656825107122, \"sum\": 0.007021656825107122, \"min\": 0.007021656825107122}, \"validation_binary_classification_cross_entropy\": {\"count\": 1, \"max\": -Infinity, \"sum\": NaN, \"min\": Infinity}}, \"EndTime\": 1518540563.582614, \"Dimensions\": {\"model\": 13, \"Host\": \"algo-1\", \"Operation\": \"training\", \"Algorithm\": \"Linear Learner\", \"epoch\": 4}, \"StartTime\": 1518540563.582605}\n",
      "\u001b[0m\n",
      "\u001b[31m#metrics {\"Metrics\": {\"training_binary_classification_cross_entropy\": {\"count\": 1, \"max\": 0.005029573528372858, \"sum\": 0.005029573528372858, \"min\": 0.005029573528372858}, \"validation_binary_classification_cross_entropy\": {\"count\": 1, \"max\": -Infinity, \"sum\": NaN, \"min\": Infinity}}, \"EndTime\": 1518540563.582696, \"Dimensions\": {\"model\": 14, \"Host\": \"algo-1\", \"Operation\": \"training\", \"Algorithm\": \"Linear Learner\", \"epoch\": 4}, \"StartTime\": 1518540563.582634}\n",
      "\u001b[0m\n",
      "\u001b[31m#metrics {\"Metrics\": {\"training_binary_classification_cross_entropy\": {\"count\": 1, \"max\": 0.007024514108662957, \"sum\": 0.007024514108662957, \"min\": 0.007024514108662957}, \"validation_binary_classification_cross_entropy\": {\"count\": 1, \"max\": -Infinity, \"sum\": NaN, \"min\": Infinity}}, \"EndTime\": 1518540563.582732, \"Dimensions\": {\"model\": 15, \"Host\": \"algo-1\", \"Operation\": \"training\", \"Algorithm\": \"Linear Learner\", \"epoch\": 4}, \"StartTime\": 1518540563.582722}\n",
      "\u001b[0m\n",
      "\u001b[31m#metrics {\"Metrics\": {\"training_binary_classification_cross_entropy\": {\"count\": 1, \"max\": 0.01182302532575456, \"sum\": 0.01182302532575456, \"min\": 0.01182302532575456}, \"validation_binary_classification_cross_entropy\": {\"count\": 1, \"max\": -Infinity, \"sum\": NaN, \"min\": Infinity}}, \"EndTime\": 1518540563.582762, \"Dimensions\": {\"model\": 16, \"Host\": \"algo-1\", \"Operation\": \"training\", \"Algorithm\": \"Linear Learner\", \"epoch\": 4}, \"StartTime\": 1518540563.582752}\n",
      "\u001b[0m\n",
      "\u001b[31m#metrics {\"Metrics\": {\"training_binary_classification_cross_entropy\": {\"count\": 1, \"max\": 0.011836684630757354, \"sum\": 0.011836684630757354, \"min\": 0.011836684630757354}, \"validation_binary_classification_cross_entropy\": {\"count\": 1, \"max\": -Infinity, \"sum\": NaN, \"min\": Infinity}}, \"EndTime\": 1518540563.582791, \"Dimensions\": {\"model\": 17, \"Host\": \"algo-1\", \"Operation\": \"training\", \"Algorithm\": \"Linear Learner\", \"epoch\": 4}, \"StartTime\": 1518540563.582782}\n",
      "\u001b[0m\n",
      "\u001b[31m#metrics {\"Metrics\": {\"training_binary_classification_cross_entropy\": {\"count\": 1, \"max\": 0.011822717206245925, \"sum\": 0.011822717206245925, \"min\": 0.011822717206245925}, \"validation_binary_classification_cross_entropy\": {\"count\": 1, \"max\": -Infinity, \"sum\": NaN, \"min\": Infinity}}, \"EndTime\": 1518540563.58282, \"Dimensions\": {\"model\": 18, \"Host\": \"algo-1\", \"Operation\": \"training\", \"Algorithm\": \"Linear Learner\", \"epoch\": 4}, \"StartTime\": 1518540563.582811}\n",
      "\u001b[0m\n",
      "\u001b[31m#metrics {\"Metrics\": {\"training_binary_classification_cross_entropy\": {\"count\": 1, \"max\": 0.011836674486298158, \"sum\": 0.011836674486298158, \"min\": 0.011836674486298158}, \"validation_binary_classification_cross_entropy\": {\"count\": 1, \"max\": -Infinity, \"sum\": NaN, \"min\": Infinity}}, \"EndTime\": 1518540563.582848, \"Dimensions\": {\"model\": 19, \"Host\": \"algo-1\", \"Operation\": \"training\", \"Algorithm\": \"Linear Learner\", \"epoch\": 4}, \"StartTime\": 1518540563.582839}\n",
      "\u001b[0m\n",
      "\u001b[31m#metrics {\"Metrics\": {\"training_binary_classification_cross_entropy\": {\"count\": 1, \"max\": 0.011847777807838227, \"sum\": 0.011847777807838227, \"min\": 0.011847777807838227}, \"validation_binary_classification_cross_entropy\": {\"count\": 1, \"max\": -Infinity, \"sum\": NaN, \"min\": Infinity}}, \"EndTime\": 1518540563.582877, \"Dimensions\": {\"model\": 20, \"Host\": \"algo-1\", \"Operation\": \"training\", \"Algorithm\": \"Linear Learner\", \"epoch\": 4}, \"StartTime\": 1518540563.582868}\n",
      "\u001b[0m\n",
      "\u001b[31m#metrics {\"Metrics\": {\"training_binary_classification_cross_entropy\": {\"count\": 1, \"max\": 0.012101647110943903, \"sum\": 0.012101647110943903, \"min\": 0.012101647110943903}, \"validation_binary_classification_cross_entropy\": {\"count\": 1, \"max\": -Infinity, \"sum\": NaN, \"min\": Infinity}}, \"EndTime\": 1518540563.582905, \"Dimensions\": {\"model\": 21, \"Host\": \"algo-1\", \"Operation\": \"training\", \"Algorithm\": \"Linear Learner\", \"epoch\": 4}, \"StartTime\": 1518540563.582896}\n",
      "\u001b[0m\n",
      "\u001b[31m#metrics {\"Metrics\": {\"training_binary_classification_cross_entropy\": {\"count\": 1, \"max\": 0.011848036126199975, \"sum\": 0.011848036126199975, \"min\": 0.011848036126199975}, \"validation_binary_classification_cross_entropy\": {\"count\": 1, \"max\": -Infinity, \"sum\": NaN, \"min\": Infinity}}, \"EndTime\": 1518540563.582933, \"Dimensions\": {\"model\": 22, \"Host\": \"algo-1\", \"Operation\": \"training\", \"Algorithm\": \"Linear Learner\", \"epoch\": 4}, \"StartTime\": 1518540563.582925}\n",
      "\u001b[0m\n",
      "\u001b[31m#metrics {\"Metrics\": {\"training_binary_classification_cross_entropy\": {\"count\": 1, \"max\": 0.012102348985128015, \"sum\": 0.012102348985128015, \"min\": 0.012102348985128015}, \"validation_binary_classification_cross_entropy\": {\"count\": 1, \"max\": -Infinity, \"sum\": NaN, \"min\": Infinity}}, \"EndTime\": 1518540563.582961, \"Dimensions\": {\"model\": 23, \"Host\": \"algo-1\", \"Operation\": \"training\", \"Algorithm\": \"Linear Learner\", \"epoch\": 4}, \"StartTime\": 1518540563.582953}\n",
      "\u001b[0m\n",
      "\u001b[31m#metrics {\"Metrics\": {\"training_binary_classification_cross_entropy\": {\"count\": 1, \"max\": 0.01275710071156542, \"sum\": 0.01275710071156542, \"min\": 0.01275710071156542}, \"validation_binary_classification_cross_entropy\": {\"count\": 1, \"max\": -Infinity, \"sum\": NaN, \"min\": Infinity}}, \"EndTime\": 1518540563.582989, \"Dimensions\": {\"model\": 24, \"Host\": \"algo-1\", \"Operation\": \"training\", \"Algorithm\": \"Linear Learner\", \"epoch\": 4}, \"StartTime\": 1518540563.582981}\n",
      "\u001b[0m\n",
      "\u001b[31m#metrics {\"Metrics\": {\"training_binary_classification_cross_entropy\": {\"count\": 1, \"max\": 0.012708294382655477, \"sum\": 0.012708294382655477, \"min\": 0.012708294382655477}, \"validation_binary_classification_cross_entropy\": {\"count\": 1, \"max\": -Infinity, \"sum\": NaN, \"min\": Infinity}}, \"EndTime\": 1518540563.583018, \"Dimensions\": {\"model\": 25, \"Host\": \"algo-1\", \"Operation\": \"training\", \"Algorithm\": \"Linear Learner\", \"epoch\": 4}, \"StartTime\": 1518540563.583009}\n",
      "\u001b[0m\n",
      "\u001b[31m#metrics {\"Metrics\": {\"training_binary_classification_cross_entropy\": {\"count\": 1, \"max\": 0.012756788470000627, \"sum\": 0.012756788470000627, \"min\": 0.012756788470000627}, \"validation_binary_classification_cross_entropy\": {\"count\": 1, \"max\": -Infinity, \"sum\": NaN, \"min\": Infinity}}, \"EndTime\": 1518540563.583046, \"Dimensions\": {\"model\": 26, \"Host\": \"algo-1\", \"Operation\": \"training\", \"Algorithm\": \"Linear Learner\", \"epoch\": 4}, \"StartTime\": 1518540563.583037}\n",
      "\u001b[0m\n",
      "\u001b[31m#metrics {\"Metrics\": {\"training_binary_classification_cross_entropy\": {\"count\": 1, \"max\": 0.012708063989309182, \"sum\": 0.012708063989309182, \"min\": 0.012708063989309182}, \"validation_binary_classification_cross_entropy\": {\"count\": 1, \"max\": -Infinity, \"sum\": NaN, \"min\": Infinity}}, \"EndTime\": 1518540563.583075, \"Dimensions\": {\"model\": 27, \"Host\": \"algo-1\", \"Operation\": \"training\", \"Algorithm\": \"Linear Learner\", \"epoch\": 4}, \"StartTime\": 1518540563.583066}\n",
      "\u001b[0m\n",
      "\u001b[31m#metrics {\"Metrics\": {\"training_binary_classification_cross_entropy\": {\"count\": 1, \"max\": 0.012723198192844908, \"sum\": 0.012723198192844908, \"min\": 0.012723198192844908}, \"validation_binary_classification_cross_entropy\": {\"count\": 1, \"max\": -Infinity, \"sum\": NaN, \"min\": Infinity}}, \"EndTime\": 1518540563.583103, \"Dimensions\": {\"model\": 28, \"Host\": \"algo-1\", \"Operation\": \"training\", \"Algorithm\": \"Linear Learner\", \"epoch\": 4}, \"StartTime\": 1518540563.583095}\n",
      "\u001b[0m\n",
      "\u001b[31m#metrics {\"Metrics\": {\"training_binary_classification_cross_entropy\": {\"count\": 1, \"max\": 0.013092594677563681, \"sum\": 0.013092594677563681, \"min\": 0.013092594677563681}, \"validation_binary_classification_cross_entropy\": {\"count\": 1, \"max\": -Infinity, \"sum\": NaN, \"min\": Infinity}}, \"EndTime\": 1518540563.583132, \"Dimensions\": {\"model\": 29, \"Host\": \"algo-1\", \"Operation\": \"training\", \"Algorithm\": \"Linear Learner\", \"epoch\": 4}, \"StartTime\": 1518540563.583123}\n",
      "\u001b[0m\n",
      "\u001b[31m#metrics {\"Metrics\": {\"training_binary_classification_cross_entropy\": {\"count\": 1, \"max\": 0.012723153346184506, \"sum\": 0.012723153346184506, \"min\": 0.012723153346184506}, \"validation_binary_classification_cross_entropy\": {\"count\": 1, \"max\": -Infinity, \"sum\": NaN, \"min\": Infinity}}, \"EndTime\": 1518540563.58316, \"Dimensions\": {\"model\": 30, \"Host\": \"algo-1\", \"Operation\": \"training\", \"Algorithm\": \"Linear Learner\", \"epoch\": 4}, \"StartTime\": 1518540563.583151}\n",
      "\u001b[0m\n",
      "\u001b[31m#metrics {\"Metrics\": {\"training_binary_classification_cross_entropy\": {\"count\": 1, \"max\": 0.013088389750398007, \"sum\": 0.013088389750398007, \"min\": 0.013088389750398007}, \"validation_binary_classification_cross_entropy\": {\"count\": 1, \"max\": -Infinity, \"sum\": NaN, \"min\": Infinity}}, \"EndTime\": 1518540563.583188, \"Dimensions\": {\"model\": 31, \"Host\": \"algo-1\", \"Operation\": \"training\", \"Algorithm\": \"Linear Learner\", \"epoch\": 4}, \"StartTime\": 1518540563.58318}\n",
      "\u001b[0m\n"
     ]
    },
    {
     "name": "stdout",
     "output_type": "stream",
     "text": [
      "\u001b[31m#metrics {\"Metrics\": {\"training_binary_classification_cross_entropy\": {\"count\": 1, \"max\": 0.004611710490262413, \"sum\": 0.004611710490262413, \"min\": 0.004611710490262413}, \"validation_binary_classification_cross_entropy\": {\"count\": 1, \"max\": -Infinity, \"sum\": NaN, \"min\": Infinity}}, \"EndTime\": 1518540583.534917, \"Dimensions\": {\"model\": 0, \"Host\": \"algo-1\", \"Operation\": \"training\", \"Algorithm\": \"Linear Learner\", \"epoch\": 5}, \"StartTime\": 1518540583.534829}\n",
      "\u001b[0m\n",
      "\u001b[31m#metrics {\"Metrics\": {\"training_binary_classification_cross_entropy\": {\"count\": 1, \"max\": 0.004105323628114769, \"sum\": 0.004105323628114769, \"min\": 0.004105323628114769}, \"validation_binary_classification_cross_entropy\": {\"count\": 1, \"max\": -Infinity, \"sum\": NaN, \"min\": Infinity}}, \"EndTime\": 1518540583.534994, \"Dimensions\": {\"model\": 1, \"Host\": \"algo-1\", \"Operation\": \"training\", \"Algorithm\": \"Linear Learner\", \"epoch\": 5}, \"StartTime\": 1518540583.53498}\n",
      "\u001b[0m\n",
      "\u001b[31m#metrics {\"Metrics\": {\"training_binary_classification_cross_entropy\": {\"count\": 1, \"max\": 0.00459792397916317, \"sum\": 0.00459792397916317, \"min\": 0.00459792397916317}, \"validation_binary_classification_cross_entropy\": {\"count\": 1, \"max\": -Infinity, \"sum\": NaN, \"min\": Infinity}}, \"EndTime\": 1518540583.535042, \"Dimensions\": {\"model\": 2, \"Host\": \"algo-1\", \"Operation\": \"training\", \"Algorithm\": \"Linear Learner\", \"epoch\": 5}, \"StartTime\": 1518540583.535026}\n",
      "\u001b[0m\n",
      "\u001b[31m#metrics {\"Metrics\": {\"training_binary_classification_cross_entropy\": {\"count\": 1, \"max\": 0.004105155112737992, \"sum\": 0.004105155112737992, \"min\": 0.004105155112737992}, \"validation_binary_classification_cross_entropy\": {\"count\": 1, \"max\": -Infinity, \"sum\": NaN, \"min\": Infinity}}, \"EndTime\": 1518540583.53508, \"Dimensions\": {\"model\": 3, \"Host\": \"algo-1\", \"Operation\": \"training\", \"Algorithm\": \"Linear Learner\", \"epoch\": 5}, \"StartTime\": 1518540583.53507}\n",
      "\u001b[0m\n",
      "\u001b[31m#metrics {\"Metrics\": {\"training_binary_classification_cross_entropy\": {\"count\": 1, \"max\": 0.0039766494365573585, \"sum\": 0.0039766494365573585, \"min\": 0.0039766494365573585}, \"validation_binary_classification_cross_entropy\": {\"count\": 1, \"max\": -Infinity, \"sum\": NaN, \"min\": Infinity}}, \"EndTime\": 1518540583.535112, \"Dimensions\": {\"model\": 4, \"Host\": \"algo-1\", \"Operation\": \"training\", \"Algorithm\": \"Linear Learner\", \"epoch\": 5}, \"StartTime\": 1518540583.535103}\n",
      "\u001b[0m\n",
      "\u001b[31m#metrics {\"Metrics\": {\"training_binary_classification_cross_entropy\": {\"count\": 1, \"max\": 0.0075506342755196154, \"sum\": 0.0075506342755196154, \"min\": 0.0075506342755196154}, \"validation_binary_classification_cross_entropy\": {\"count\": 1, \"max\": -Infinity, \"sum\": NaN, \"min\": Infinity}}, \"EndTime\": 1518540583.535144, \"Dimensions\": {\"model\": 5, \"Host\": \"algo-1\", \"Operation\": \"training\", \"Algorithm\": \"Linear Learner\", \"epoch\": 5}, \"StartTime\": 1518540583.535135}\n",
      "\u001b[0m\n",
      "\u001b[31m#metrics {\"Metrics\": {\"training_binary_classification_cross_entropy\": {\"count\": 1, \"max\": 0.003935648076999259, \"sum\": 0.003935648076999259, \"min\": 0.003935648076999259}, \"validation_binary_classification_cross_entropy\": {\"count\": 1, \"max\": -Infinity, \"sum\": NaN, \"min\": Infinity}}, \"EndTime\": 1518540583.535174, \"Dimensions\": {\"model\": 6, \"Host\": \"algo-1\", \"Operation\": \"training\", \"Algorithm\": \"Linear Learner\", \"epoch\": 5}, \"StartTime\": 1518540583.535165}\n",
      "\u001b[0m\n",
      "\u001b[31m#metrics {\"Metrics\": {\"training_binary_classification_cross_entropy\": {\"count\": 1, \"max\": 0.007110261109482305, \"sum\": 0.007110261109482305, \"min\": 0.007110261109482305}, \"validation_binary_classification_cross_entropy\": {\"count\": 1, \"max\": -Infinity, \"sum\": NaN, \"min\": Infinity}}, \"EndTime\": 1518540583.53522, \"Dimensions\": {\"model\": 7, \"Host\": \"algo-1\", \"Operation\": \"training\", \"Algorithm\": \"Linear Learner\", \"epoch\": 5}, \"StartTime\": 1518540583.535208}\n",
      "\u001b[0m\n",
      "\u001b[31m#metrics {\"Metrics\": {\"training_binary_classification_cross_entropy\": {\"count\": 1, \"max\": 0.005293915902365403, \"sum\": 0.005293915902365403, \"min\": 0.005293915902365403}, \"validation_binary_classification_cross_entropy\": {\"count\": 1, \"max\": -Infinity, \"sum\": NaN, \"min\": Infinity}}, \"EndTime\": 1518540583.535253, \"Dimensions\": {\"model\": 8, \"Host\": \"algo-1\", \"Operation\": \"training\", \"Algorithm\": \"Linear Learner\", \"epoch\": 5}, \"StartTime\": 1518540583.535244}\n",
      "\u001b[0m\n",
      "\u001b[31m#metrics {\"Metrics\": {\"training_binary_classification_cross_entropy\": {\"count\": 1, \"max\": 0.005014482273993243, \"sum\": 0.005014482273993243, \"min\": 0.005014482273993243}, \"validation_binary_classification_cross_entropy\": {\"count\": 1, \"max\": -Infinity, \"sum\": NaN, \"min\": Infinity}}, \"EndTime\": 1518540583.535283, \"Dimensions\": {\"model\": 9, \"Host\": \"algo-1\", \"Operation\": \"training\", \"Algorithm\": \"Linear Learner\", \"epoch\": 5}, \"StartTime\": 1518540583.535274}\n",
      "\u001b[0m\n",
      "\u001b[31m#metrics {\"Metrics\": {\"training_binary_classification_cross_entropy\": {\"count\": 1, \"max\": 0.0052860826690752346, \"sum\": 0.0052860826690752346, \"min\": 0.0052860826690752346}, \"validation_binary_classification_cross_entropy\": {\"count\": 1, \"max\": -Infinity, \"sum\": NaN, \"min\": Infinity}}, \"EndTime\": 1518540583.535312, \"Dimensions\": {\"model\": 10, \"Host\": \"algo-1\", \"Operation\": \"training\", \"Algorithm\": \"Linear Learner\", \"epoch\": 5}, \"StartTime\": 1518540583.535303}\n",
      "\u001b[0m\n",
      "\u001b[31m#metrics {\"Metrics\": {\"training_binary_classification_cross_entropy\": {\"count\": 1, \"max\": 0.005014375631050412, \"sum\": 0.005014375631050412, \"min\": 0.005014375631050412}, \"validation_binary_classification_cross_entropy\": {\"count\": 1, \"max\": -Infinity, \"sum\": NaN, \"min\": Infinity}}, \"EndTime\": 1518540583.535342, \"Dimensions\": {\"model\": 11, \"Host\": \"algo-1\", \"Operation\": \"training\", \"Algorithm\": \"Linear Learner\", \"epoch\": 5}, \"StartTime\": 1518540583.535333}\n",
      "\u001b[0m\n",
      "\u001b[31m#metrics {\"Metrics\": {\"training_binary_classification_cross_entropy\": {\"count\": 1, \"max\": 0.004961481665646336, \"sum\": 0.004961481665646336, \"min\": 0.004961481665646336}, \"validation_binary_classification_cross_entropy\": {\"count\": 1, \"max\": -Infinity, \"sum\": NaN, \"min\": Infinity}}, \"EndTime\": 1518540583.535387, \"Dimensions\": {\"model\": 12, \"Host\": \"algo-1\", \"Operation\": \"training\", \"Algorithm\": \"Linear Learner\", \"epoch\": 5}, \"StartTime\": 1518540583.535376}\n",
      "\u001b[0m\n",
      "\u001b[31m#metrics {\"Metrics\": {\"training_binary_classification_cross_entropy\": {\"count\": 1, \"max\": 0.006869401255113832, \"sum\": 0.006869401255113832, \"min\": 0.006869401255113832}, \"validation_binary_classification_cross_entropy\": {\"count\": 1, \"max\": -Infinity, \"sum\": NaN, \"min\": Infinity}}, \"EndTime\": 1518540583.53543, \"Dimensions\": {\"model\": 13, \"Host\": \"algo-1\", \"Operation\": \"training\", \"Algorithm\": \"Linear Learner\", \"epoch\": 5}, \"StartTime\": 1518540583.53541}\n",
      "\u001b[0m\n",
      "\u001b[31m#metrics {\"Metrics\": {\"training_binary_classification_cross_entropy\": {\"count\": 1, \"max\": 0.004961449588652715, \"sum\": 0.004961449588652715, \"min\": 0.004961449588652715}, \"validation_binary_classification_cross_entropy\": {\"count\": 1, \"max\": -Infinity, \"sum\": NaN, \"min\": Infinity}}, \"EndTime\": 1518540583.535458, \"Dimensions\": {\"model\": 14, \"Host\": \"algo-1\", \"Operation\": \"training\", \"Algorithm\": \"Linear Learner\", \"epoch\": 5}, \"StartTime\": 1518540583.53545}\n",
      "\u001b[0m\n",
      "\u001b[31m#metrics {\"Metrics\": {\"training_binary_classification_cross_entropy\": {\"count\": 1, \"max\": 0.006865836331643254, \"sum\": 0.006865836331643254, \"min\": 0.006865836331643254}, \"validation_binary_classification_cross_entropy\": {\"count\": 1, \"max\": -Infinity, \"sum\": NaN, \"min\": Infinity}}, \"EndTime\": 1518540583.535487, \"Dimensions\": {\"model\": 15, \"Host\": \"algo-1\", \"Operation\": \"training\", \"Algorithm\": \"Linear Learner\", \"epoch\": 5}, \"StartTime\": 1518540583.535478}\n",
      "\u001b[0m\n",
      "\u001b[31m#metrics {\"Metrics\": {\"training_binary_classification_cross_entropy\": {\"count\": 1, \"max\": 0.01180566990007478, \"sum\": 0.01180566990007478, \"min\": 0.01180566990007478}, \"validation_binary_classification_cross_entropy\": {\"count\": 1, \"max\": -Infinity, \"sum\": NaN, \"min\": Infinity}}, \"EndTime\": 1518540583.535515, \"Dimensions\": {\"model\": 16, \"Host\": \"algo-1\", \"Operation\": \"training\", \"Algorithm\": \"Linear Learner\", \"epoch\": 5}, \"StartTime\": 1518540583.535506}\n",
      "\u001b[0m\n",
      "\u001b[31m#metrics {\"Metrics\": {\"training_binary_classification_cross_entropy\": {\"count\": 1, \"max\": 0.01183925409797564, \"sum\": 0.01183925409797564, \"min\": 0.01183925409797564}, \"validation_binary_classification_cross_entropy\": {\"count\": 1, \"max\": -Infinity, \"sum\": NaN, \"min\": Infinity}}, \"EndTime\": 1518540583.535557, \"Dimensions\": {\"model\": 17, \"Host\": \"algo-1\", \"Operation\": \"training\", \"Algorithm\": \"Linear Learner\", \"epoch\": 5}, \"StartTime\": 1518540583.535546}\n",
      "\u001b[0m\n",
      "\u001b[31m#metrics {\"Metrics\": {\"training_binary_classification_cross_entropy\": {\"count\": 1, \"max\": 0.011803128483095561, \"sum\": 0.011803128483095561, \"min\": 0.011803128483095561}, \"validation_binary_classification_cross_entropy\": {\"count\": 1, \"max\": -Infinity, \"sum\": NaN, \"min\": Infinity}}, \"EndTime\": 1518540583.535588, \"Dimensions\": {\"model\": 18, \"Host\": \"algo-1\", \"Operation\": \"training\", \"Algorithm\": \"Linear Learner\", \"epoch\": 5}, \"StartTime\": 1518540583.535579}\n",
      "\u001b[0m\n",
      "\u001b[31m#metrics {\"Metrics\": {\"training_binary_classification_cross_entropy\": {\"count\": 1, \"max\": 0.01183924244410063, \"sum\": 0.01183924244410063, \"min\": 0.01183924244410063}, \"validation_binary_classification_cross_entropy\": {\"count\": 1, \"max\": -Infinity, \"sum\": NaN, \"min\": Infinity}}, \"EndTime\": 1518540583.535617, \"Dimensions\": {\"model\": 19, \"Host\": \"algo-1\", \"Operation\": \"training\", \"Algorithm\": \"Linear Learner\", \"epoch\": 5}, \"StartTime\": 1518540583.535608}\n",
      "\u001b[0m\n",
      "\u001b[31m#metrics {\"Metrics\": {\"training_binary_classification_cross_entropy\": {\"count\": 1, \"max\": 0.011829299801384589, \"sum\": 0.011829299801384589, \"min\": 0.011829299801384589}, \"validation_binary_classification_cross_entropy\": {\"count\": 1, \"max\": -Infinity, \"sum\": NaN, \"min\": Infinity}}, \"EndTime\": 1518540583.53565, \"Dimensions\": {\"model\": 20, \"Host\": \"algo-1\", \"Operation\": \"training\", \"Algorithm\": \"Linear Learner\", \"epoch\": 5}, \"StartTime\": 1518540583.53564}\n",
      "\u001b[0m\n",
      "\u001b[31m#metrics {\"Metrics\": {\"training_binary_classification_cross_entropy\": {\"count\": 1, \"max\": 0.012156352428625896, \"sum\": 0.012156352428625896, \"min\": 0.012156352428625896}, \"validation_binary_classification_cross_entropy\": {\"count\": 1, \"max\": -Infinity, \"sum\": NaN, \"min\": Infinity}}, \"EndTime\": 1518540583.535679, \"Dimensions\": {\"model\": 21, \"Host\": \"algo-1\", \"Operation\": \"training\", \"Algorithm\": \"Linear Learner\", \"epoch\": 5}, \"StartTime\": 1518540583.53567}\n",
      "\u001b[0m\n",
      "\u001b[31m#metrics {\"Metrics\": {\"training_binary_classification_cross_entropy\": {\"count\": 1, \"max\": 0.011829381115644811, \"sum\": 0.011829381115644811, \"min\": 0.011829381115644811}, \"validation_binary_classification_cross_entropy\": {\"count\": 1, \"max\": -Infinity, \"sum\": NaN, \"min\": Infinity}}, \"EndTime\": 1518540583.535721, \"Dimensions\": {\"model\": 22, \"Host\": \"algo-1\", \"Operation\": \"training\", \"Algorithm\": \"Linear Learner\", \"epoch\": 5}, \"StartTime\": 1518540583.53571}\n",
      "\u001b[0m\n",
      "\u001b[31m#metrics {\"Metrics\": {\"training_binary_classification_cross_entropy\": {\"count\": 1, \"max\": 0.012156713170478173, \"sum\": 0.012156713170478173, \"min\": 0.012156713170478173}, \"validation_binary_classification_cross_entropy\": {\"count\": 1, \"max\": -Infinity, \"sum\": NaN, \"min\": Infinity}}, \"EndTime\": 1518540583.535752, \"Dimensions\": {\"model\": 23, \"Host\": \"algo-1\", \"Operation\": \"training\", \"Algorithm\": \"Linear Learner\", \"epoch\": 5}, \"StartTime\": 1518540583.535743}\n",
      "\u001b[0m\n",
      "\u001b[31m#metrics {\"Metrics\": {\"training_binary_classification_cross_entropy\": {\"count\": 1, \"max\": 0.012739559324480683, \"sum\": 0.012739559324480683, \"min\": 0.012739559324480683}, \"validation_binary_classification_cross_entropy\": {\"count\": 1, \"max\": -Infinity, \"sum\": NaN, \"min\": Infinity}}, \"EndTime\": 1518540583.535781, \"Dimensions\": {\"model\": 24, \"Host\": \"algo-1\", \"Operation\": \"training\", \"Algorithm\": \"Linear Learner\", \"epoch\": 5}, \"StartTime\": 1518540583.535772}\n",
      "\u001b[0m\n",
      "\u001b[31m#metrics {\"Metrics\": {\"training_binary_classification_cross_entropy\": {\"count\": 1, \"max\": 0.01271223040454718, \"sum\": 0.01271223040454718, \"min\": 0.01271223040454718}, \"validation_binary_classification_cross_entropy\": {\"count\": 1, \"max\": -Infinity, \"sum\": NaN, \"min\": Infinity}}, \"EndTime\": 1518540583.535809, \"Dimensions\": {\"model\": 25, \"Host\": \"algo-1\", \"Operation\": \"training\", \"Algorithm\": \"Linear Learner\", \"epoch\": 5}, \"StartTime\": 1518540583.535801}\n",
      "\u001b[0m\n",
      "\u001b[31m#metrics {\"Metrics\": {\"training_binary_classification_cross_entropy\": {\"count\": 1, \"max\": 0.012737001866610892, \"sum\": 0.012737001866610892, \"min\": 0.012737001866610892}, \"validation_binary_classification_cross_entropy\": {\"count\": 1, \"max\": -Infinity, \"sum\": NaN, \"min\": Infinity}}, \"EndTime\": 1518540583.535838, \"Dimensions\": {\"model\": 26, \"Host\": \"algo-1\", \"Operation\": \"training\", \"Algorithm\": \"Linear Learner\", \"epoch\": 5}, \"StartTime\": 1518540583.535829}\n",
      "\u001b[0m\n",
      "\u001b[31m#metrics {\"Metrics\": {\"training_binary_classification_cross_entropy\": {\"count\": 1, \"max\": 0.012712316866440466, \"sum\": 0.012712316866440466, \"min\": 0.012712316866440466}, \"validation_binary_classification_cross_entropy\": {\"count\": 1, \"max\": -Infinity, \"sum\": NaN, \"min\": Infinity}}, \"EndTime\": 1518540583.535876, \"Dimensions\": {\"model\": 27, \"Host\": \"algo-1\", \"Operation\": \"training\", \"Algorithm\": \"Linear Learner\", \"epoch\": 5}, \"StartTime\": 1518540583.53586}\n",
      "\u001b[0m\n",
      "\u001b[31m#metrics {\"Metrics\": {\"training_binary_classification_cross_entropy\": {\"count\": 1, \"max\": 0.012713815574066705, \"sum\": 0.012713815574066705, \"min\": 0.012713815574066705}, \"validation_binary_classification_cross_entropy\": {\"count\": 1, \"max\": -Infinity, \"sum\": NaN, \"min\": Infinity}}, \"EndTime\": 1518540583.53591, \"Dimensions\": {\"model\": 28, \"Host\": \"algo-1\", \"Operation\": \"training\", \"Algorithm\": \"Linear Learner\", \"epoch\": 5}, \"StartTime\": 1518540583.5359}\n",
      "\u001b[0m\n",
      "\u001b[31m#metrics {\"Metrics\": {\"training_binary_classification_cross_entropy\": {\"count\": 1, \"max\": 0.013131026259920818, \"sum\": 0.013131026259920818, \"min\": 0.013131026259920818}, \"validation_binary_classification_cross_entropy\": {\"count\": 1, \"max\": -Infinity, \"sum\": NaN, \"min\": Infinity}}, \"EndTime\": 1518540583.535939, \"Dimensions\": {\"model\": 29, \"Host\": \"algo-1\", \"Operation\": \"training\", \"Algorithm\": \"Linear Learner\", \"epoch\": 5}, \"StartTime\": 1518540583.53593}\n",
      "\u001b[0m\n",
      "\u001b[31m#metrics {\"Metrics\": {\"training_binary_classification_cross_entropy\": {\"count\": 1, \"max\": 0.012713467052213878, \"sum\": 0.012713467052213878, \"min\": 0.012713467052213878}, \"validation_binary_classification_cross_entropy\": {\"count\": 1, \"max\": -Infinity, \"sum\": NaN, \"min\": Infinity}}, \"EndTime\": 1518540583.535968, \"Dimensions\": {\"model\": 30, \"Host\": \"algo-1\", \"Operation\": \"training\", \"Algorithm\": \"Linear Learner\", \"epoch\": 5}, \"StartTime\": 1518540583.535959}\n",
      "\u001b[0m\n",
      "\u001b[31m#metrics {\"Metrics\": {\"training_binary_classification_cross_entropy\": {\"count\": 1, \"max\": 0.013129017615586101, \"sum\": 0.013129017615586101, \"min\": 0.013129017615586101}, \"validation_binary_classification_cross_entropy\": {\"count\": 1, \"max\": -Infinity, \"sum\": NaN, \"min\": Infinity}}, \"EndTime\": 1518540583.535996, \"Dimensions\": {\"model\": 31, \"Host\": \"algo-1\", \"Operation\": \"training\", \"Algorithm\": \"Linear Learner\", \"epoch\": 5}, \"StartTime\": 1518540583.535988}\n",
      "\u001b[0m\n"
     ]
    },
    {
     "name": "stdout",
     "output_type": "stream",
     "text": [
      "\u001b[31m#metrics {\"Metrics\": {\"training_binary_classification_cross_entropy\": {\"count\": 1, \"max\": 0.004567881404874794, \"sum\": 0.004567881404874794, \"min\": 0.004567881404874794}, \"validation_binary_classification_cross_entropy\": {\"count\": 1, \"max\": -Infinity, \"sum\": NaN, \"min\": Infinity}}, \"EndTime\": 1518540603.304206, \"Dimensions\": {\"model\": 0, \"Host\": \"algo-1\", \"Operation\": \"training\", \"Algorithm\": \"Linear Learner\", \"epoch\": 6}, \"StartTime\": 1518540603.304118}\n",
      "\u001b[0m\n",
      "\u001b[31m#metrics {\"Metrics\": {\"training_binary_classification_cross_entropy\": {\"count\": 1, \"max\": 0.004108989967788797, \"sum\": 0.004108989967788797, \"min\": 0.004108989967788797}, \"validation_binary_classification_cross_entropy\": {\"count\": 1, \"max\": -Infinity, \"sum\": NaN, \"min\": Infinity}}, \"EndTime\": 1518540603.304284, \"Dimensions\": {\"model\": 1, \"Host\": \"algo-1\", \"Operation\": \"training\", \"Algorithm\": \"Linear Learner\", \"epoch\": 6}, \"StartTime\": 1518540603.304271}\n",
      "\u001b[0m\n",
      "\u001b[31m#metrics {\"Metrics\": {\"training_binary_classification_cross_entropy\": {\"count\": 1, \"max\": 0.004496083612737047, \"sum\": 0.004496083612737047, \"min\": 0.004496083612737047}, \"validation_binary_classification_cross_entropy\": {\"count\": 1, \"max\": -Infinity, \"sum\": NaN, \"min\": Infinity}}, \"EndTime\": 1518540603.304323, \"Dimensions\": {\"model\": 2, \"Host\": \"algo-1\", \"Operation\": \"training\", \"Algorithm\": \"Linear Learner\", \"epoch\": 6}, \"StartTime\": 1518540603.304312}\n",
      "\u001b[0m\n",
      "\u001b[31m#metrics {\"Metrics\": {\"training_binary_classification_cross_entropy\": {\"count\": 1, \"max\": 0.004109522250581936, \"sum\": 0.004109522250581936, \"min\": 0.004109522250581936}, \"validation_binary_classification_cross_entropy\": {\"count\": 1, \"max\": -Infinity, \"sum\": NaN, \"min\": Infinity}}, \"EndTime\": 1518540603.304357, \"Dimensions\": {\"model\": 3, \"Host\": \"algo-1\", \"Operation\": \"training\", \"Algorithm\": \"Linear Learner\", \"epoch\": 6}, \"StartTime\": 1518540603.304347}\n",
      "\u001b[0m\n",
      "\u001b[31m#metrics {\"Metrics\": {\"training_binary_classification_cross_entropy\": {\"count\": 1, \"max\": 0.003910600187268153, \"sum\": 0.003910600187268153, \"min\": 0.003910600187268153}, \"validation_binary_classification_cross_entropy\": {\"count\": 1, \"max\": -Infinity, \"sum\": NaN, \"min\": Infinity}}, \"EndTime\": 1518540603.304388, \"Dimensions\": {\"model\": 4, \"Host\": \"algo-1\", \"Operation\": \"training\", \"Algorithm\": \"Linear Learner\", \"epoch\": 6}, \"StartTime\": 1518540603.304379}\n",
      "\u001b[0m\n",
      "\u001b[31m#metrics {\"Metrics\": {\"training_binary_classification_cross_entropy\": {\"count\": 1, \"max\": 0.006552148453970057, \"sum\": 0.006552148453970057, \"min\": 0.006552148453970057}, \"validation_binary_classification_cross_entropy\": {\"count\": 1, \"max\": -Infinity, \"sum\": NaN, \"min\": Infinity}}, \"EndTime\": 1518540603.304419, \"Dimensions\": {\"model\": 5, \"Host\": \"algo-1\", \"Operation\": \"training\", \"Algorithm\": \"Linear Learner\", \"epoch\": 6}, \"StartTime\": 1518540603.30441}\n",
      "\u001b[0m\n",
      "\u001b[31m#metrics {\"Metrics\": {\"training_binary_classification_cross_entropy\": {\"count\": 1, \"max\": 0.0038893299709900795, \"sum\": 0.0038893299709900795, \"min\": 0.0038893299709900795}, \"validation_binary_classification_cross_entropy\": {\"count\": 1, \"max\": -Infinity, \"sum\": NaN, \"min\": Infinity}}, \"EndTime\": 1518540603.30445, \"Dimensions\": {\"model\": 6, \"Host\": \"algo-1\", \"Operation\": \"training\", \"Algorithm\": \"Linear Learner\", \"epoch\": 6}, \"StartTime\": 1518540603.30444}\n",
      "\u001b[0m\n",
      "\u001b[31m#metrics {\"Metrics\": {\"training_binary_classification_cross_entropy\": {\"count\": 1, \"max\": 0.007003359099528397, \"sum\": 0.007003359099528397, \"min\": 0.007003359099528397}, \"validation_binary_classification_cross_entropy\": {\"count\": 1, \"max\": -Infinity, \"sum\": NaN, \"min\": Infinity}}, \"EndTime\": 1518540603.30448, \"Dimensions\": {\"model\": 7, \"Host\": \"algo-1\", \"Operation\": \"training\", \"Algorithm\": \"Linear Learner\", \"epoch\": 6}, \"StartTime\": 1518540603.304471}\n",
      "\u001b[0m\n",
      "\u001b[31m#metrics {\"Metrics\": {\"training_binary_classification_cross_entropy\": {\"count\": 1, \"max\": 0.005262415757081116, \"sum\": 0.005262415757081116, \"min\": 0.005262415757081116}, \"validation_binary_classification_cross_entropy\": {\"count\": 1, \"max\": -Infinity, \"sum\": NaN, \"min\": Infinity}}, \"EndTime\": 1518540603.30451, \"Dimensions\": {\"model\": 8, \"Host\": \"algo-1\", \"Operation\": \"training\", \"Algorithm\": \"Linear Learner\", \"epoch\": 6}, \"StartTime\": 1518540603.304501}\n",
      "\u001b[0m\n",
      "\u001b[31m#metrics {\"Metrics\": {\"training_binary_classification_cross_entropy\": {\"count\": 1, \"max\": 0.005009079959812054, \"sum\": 0.005009079959812054, \"min\": 0.005009079959812054}, \"validation_binary_classification_cross_entropy\": {\"count\": 1, \"max\": -Infinity, \"sum\": NaN, \"min\": Infinity}}, \"EndTime\": 1518540603.304539, \"Dimensions\": {\"model\": 9, \"Host\": \"algo-1\", \"Operation\": \"training\", \"Algorithm\": \"Linear Learner\", \"epoch\": 6}, \"StartTime\": 1518540603.30453}\n",
      "\u001b[0m\n",
      "\u001b[31m#metrics {\"Metrics\": {\"training_binary_classification_cross_entropy\": {\"count\": 1, \"max\": 0.005213723903499454, \"sum\": 0.005213723903499454, \"min\": 0.005213723903499454}, \"validation_binary_classification_cross_entropy\": {\"count\": 1, \"max\": -Infinity, \"sum\": NaN, \"min\": Infinity}}, \"EndTime\": 1518540603.304569, \"Dimensions\": {\"model\": 10, \"Host\": \"algo-1\", \"Operation\": \"training\", \"Algorithm\": \"Linear Learner\", \"epoch\": 6}, \"StartTime\": 1518540603.30456}\n",
      "\u001b[0m\n",
      "\u001b[31m#metrics {\"Metrics\": {\"training_binary_classification_cross_entropy\": {\"count\": 1, \"max\": 0.005009045689983899, \"sum\": 0.005009045689983899, \"min\": 0.005009045689983899}, \"validation_binary_classification_cross_entropy\": {\"count\": 1, \"max\": -Infinity, \"sum\": NaN, \"min\": Infinity}}, \"EndTime\": 1518540603.304599, \"Dimensions\": {\"model\": 11, \"Host\": \"algo-1\", \"Operation\": \"training\", \"Algorithm\": \"Linear Learner\", \"epoch\": 6}, \"StartTime\": 1518540603.30459}\n",
      "\u001b[0m\n",
      "\u001b[31m#metrics {\"Metrics\": {\"training_binary_classification_cross_entropy\": {\"count\": 1, \"max\": 0.004925963813775634, \"sum\": 0.004925963813775634, \"min\": 0.004925963813775634}, \"validation_binary_classification_cross_entropy\": {\"count\": 1, \"max\": -Infinity, \"sum\": NaN, \"min\": Infinity}}, \"EndTime\": 1518540603.304628, \"Dimensions\": {\"model\": 12, \"Host\": \"algo-1\", \"Operation\": \"training\", \"Algorithm\": \"Linear Learner\", \"epoch\": 6}, \"StartTime\": 1518540603.304619}\n",
      "\u001b[0m\n",
      "\u001b[31m#metrics {\"Metrics\": {\"training_binary_classification_cross_entropy\": {\"count\": 1, \"max\": 0.006781070482674949, \"sum\": 0.006781070482674949, \"min\": 0.006781070482674949}, \"validation_binary_classification_cross_entropy\": {\"count\": 1, \"max\": -Infinity, \"sum\": NaN, \"min\": Infinity}}, \"EndTime\": 1518540603.304658, \"Dimensions\": {\"model\": 13, \"Host\": \"algo-1\", \"Operation\": \"training\", \"Algorithm\": \"Linear Learner\", \"epoch\": 6}, \"StartTime\": 1518540603.304649}\n",
      "\u001b[0m\n",
      "\u001b[31m#metrics {\"Metrics\": {\"training_binary_classification_cross_entropy\": {\"count\": 1, \"max\": 0.004925954038703657, \"sum\": 0.004925954038703657, \"min\": 0.004925954038703657}, \"validation_binary_classification_cross_entropy\": {\"count\": 1, \"max\": -Infinity, \"sum\": NaN, \"min\": Infinity}}, \"EndTime\": 1518540603.304688, \"Dimensions\": {\"model\": 14, \"Host\": \"algo-1\", \"Operation\": \"training\", \"Algorithm\": \"Linear Learner\", \"epoch\": 6}, \"StartTime\": 1518540603.304679}\n",
      "\u001b[0m\n",
      "\u001b[31m#metrics {\"Metrics\": {\"training_binary_classification_cross_entropy\": {\"count\": 1, \"max\": 0.006782465332513114, \"sum\": 0.006782465332513114, \"min\": 0.006782465332513114}, \"validation_binary_classification_cross_entropy\": {\"count\": 1, \"max\": -Infinity, \"sum\": NaN, \"min\": Infinity}}, \"EndTime\": 1518540603.304728, \"Dimensions\": {\"model\": 15, \"Host\": \"algo-1\", \"Operation\": \"training\", \"Algorithm\": \"Linear Learner\", \"epoch\": 6}, \"StartTime\": 1518540603.304719}\n",
      "\u001b[0m\n",
      "\u001b[31m#metrics {\"Metrics\": {\"training_binary_classification_cross_entropy\": {\"count\": 1, \"max\": 0.011795597286767748, \"sum\": 0.011795597286767748, \"min\": 0.011795597286767748}, \"validation_binary_classification_cross_entropy\": {\"count\": 1, \"max\": -Infinity, \"sum\": NaN, \"min\": Infinity}}, \"EndTime\": 1518540603.304756, \"Dimensions\": {\"model\": 16, \"Host\": \"algo-1\", \"Operation\": \"training\", \"Algorithm\": \"Linear Learner\", \"epoch\": 6}, \"StartTime\": 1518540603.304747}\n",
      "\u001b[0m\n",
      "\u001b[31m#metrics {\"Metrics\": {\"training_binary_classification_cross_entropy\": {\"count\": 1, \"max\": 0.01184286235401549, \"sum\": 0.01184286235401549, \"min\": 0.01184286235401549}, \"validation_binary_classification_cross_entropy\": {\"count\": 1, \"max\": -Infinity, \"sum\": NaN, \"min\": Infinity}}, \"EndTime\": 1518540603.304784, \"Dimensions\": {\"model\": 17, \"Host\": \"algo-1\", \"Operation\": \"training\", \"Algorithm\": \"Linear Learner\", \"epoch\": 6}, \"StartTime\": 1518540603.304776}\n",
      "\u001b[0m\n",
      "\u001b[31m#metrics {\"Metrics\": {\"training_binary_classification_cross_entropy\": {\"count\": 1, \"max\": 0.011787788577407718, \"sum\": 0.011787788577407718, \"min\": 0.011787788577407718}, \"validation_binary_classification_cross_entropy\": {\"count\": 1, \"max\": -Infinity, \"sum\": NaN, \"min\": Infinity}}, \"EndTime\": 1518540603.304813, \"Dimensions\": {\"model\": 18, \"Host\": \"algo-1\", \"Operation\": \"training\", \"Algorithm\": \"Linear Learner\", \"epoch\": 6}, \"StartTime\": 1518540603.304804}\n",
      "\u001b[0m\n",
      "\u001b[31m#metrics {\"Metrics\": {\"training_binary_classification_cross_entropy\": {\"count\": 1, \"max\": 0.011842852172153782, \"sum\": 0.011842852172153782, \"min\": 0.011842852172153782}, \"validation_binary_classification_cross_entropy\": {\"count\": 1, \"max\": -Infinity, \"sum\": NaN, \"min\": Infinity}}, \"EndTime\": 1518540603.304841, \"Dimensions\": {\"model\": 19, \"Host\": \"algo-1\", \"Operation\": \"training\", \"Algorithm\": \"Linear Learner\", \"epoch\": 6}, \"StartTime\": 1518540603.304832}\n",
      "\u001b[0m\n",
      "\u001b[31m#metrics {\"Metrics\": {\"training_binary_classification_cross_entropy\": {\"count\": 1, \"max\": 0.011788364233202245, \"sum\": 0.011788364233202245, \"min\": 0.011788364233202245}, \"validation_binary_classification_cross_entropy\": {\"count\": 1, \"max\": -Infinity, \"sum\": NaN, \"min\": Infinity}}, \"EndTime\": 1518540603.304869, \"Dimensions\": {\"model\": 20, \"Host\": \"algo-1\", \"Operation\": \"training\", \"Algorithm\": \"Linear Learner\", \"epoch\": 6}, \"StartTime\": 1518540603.304861}\n",
      "\u001b[0m\n",
      "\u001b[31m#metrics {\"Metrics\": {\"training_binary_classification_cross_entropy\": {\"count\": 1, \"max\": 0.012187641067841804, \"sum\": 0.012187641067841804, \"min\": 0.012187641067841804}, \"validation_binary_classification_cross_entropy\": {\"count\": 1, \"max\": -Infinity, \"sum\": NaN, \"min\": Infinity}}, \"EndTime\": 1518540603.304899, \"Dimensions\": {\"model\": 21, \"Host\": \"algo-1\", \"Operation\": \"training\", \"Algorithm\": \"Linear Learner\", \"epoch\": 6}, \"StartTime\": 1518540603.304889}\n",
      "\u001b[0m\n",
      "\u001b[31m#metrics {\"Metrics\": {\"training_binary_classification_cross_entropy\": {\"count\": 1, \"max\": 0.011788384169190523, \"sum\": 0.011788384169190523, \"min\": 0.011788384169190523}, \"validation_binary_classification_cross_entropy\": {\"count\": 1, \"max\": -Infinity, \"sum\": NaN, \"min\": Infinity}}, \"EndTime\": 1518540603.304927, \"Dimensions\": {\"model\": 22, \"Host\": \"algo-1\", \"Operation\": \"training\", \"Algorithm\": \"Linear Learner\", \"epoch\": 6}, \"StartTime\": 1518540603.304918}\n",
      "\u001b[0m\n",
      "\u001b[31m#metrics {\"Metrics\": {\"training_binary_classification_cross_entropy\": {\"count\": 1, \"max\": 0.01218779618234699, \"sum\": 0.01218779618234699, \"min\": 0.01218779618234699}, \"validation_binary_classification_cross_entropy\": {\"count\": 1, \"max\": -Infinity, \"sum\": NaN, \"min\": Infinity}}, \"EndTime\": 1518540603.304955, \"Dimensions\": {\"model\": 23, \"Host\": \"algo-1\", \"Operation\": \"training\", \"Algorithm\": \"Linear Learner\", \"epoch\": 6}, \"StartTime\": 1518540603.304947}\n",
      "\u001b[0m\n",
      "\u001b[31m#metrics {\"Metrics\": {\"training_binary_classification_cross_entropy\": {\"count\": 1, \"max\": 0.012732436974274826, \"sum\": 0.012732436974274826, \"min\": 0.012732436974274826}, \"validation_binary_classification_cross_entropy\": {\"count\": 1, \"max\": -Infinity, \"sum\": NaN, \"min\": Infinity}}, \"EndTime\": 1518540603.304984, \"Dimensions\": {\"model\": 24, \"Host\": \"algo-1\", \"Operation\": \"training\", \"Algorithm\": \"Linear Learner\", \"epoch\": 6}, \"StartTime\": 1518540603.304975}\n",
      "\u001b[0m\n",
      "\u001b[31m#metrics {\"Metrics\": {\"training_binary_classification_cross_entropy\": {\"count\": 1, \"max\": 0.012717095222548548, \"sum\": 0.012717095222548548, \"min\": 0.012717095222548548}, \"validation_binary_classification_cross_entropy\": {\"count\": 1, \"max\": -Infinity, \"sum\": NaN, \"min\": Infinity}}, \"EndTime\": 1518540603.305013, \"Dimensions\": {\"model\": 25, \"Host\": \"algo-1\", \"Operation\": \"training\", \"Algorithm\": \"Linear Learner\", \"epoch\": 6}, \"StartTime\": 1518540603.305005}\n",
      "\u001b[0m\n",
      "\u001b[31m#metrics {\"Metrics\": {\"training_binary_classification_cross_entropy\": {\"count\": 1, \"max\": 0.01272172955639032, \"sum\": 0.01272172955639032, \"min\": 0.01272172955639032}, \"validation_binary_classification_cross_entropy\": {\"count\": 1, \"max\": -Infinity, \"sum\": NaN, \"min\": Infinity}}, \"EndTime\": 1518540603.305042, \"Dimensions\": {\"model\": 26, \"Host\": \"algo-1\", \"Operation\": \"training\", \"Algorithm\": \"Linear Learner\", \"epoch\": 6}, \"StartTime\": 1518540603.305033}\n",
      "\u001b[0m\n",
      "\u001b[31m#metrics {\"Metrics\": {\"training_binary_classification_cross_entropy\": {\"count\": 1, \"max\": 0.012716884806931736, \"sum\": 0.012716884806931736, \"min\": 0.012716884806931736}, \"validation_binary_classification_cross_entropy\": {\"count\": 1, \"max\": -Infinity, \"sum\": NaN, \"min\": Infinity}}, \"EndTime\": 1518540603.305071, \"Dimensions\": {\"model\": 27, \"Host\": \"algo-1\", \"Operation\": \"training\", \"Algorithm\": \"Linear Learner\", \"epoch\": 6}, \"StartTime\": 1518540603.305062}\n",
      "\u001b[0m\n",
      "\u001b[31m#metrics {\"Metrics\": {\"training_binary_classification_cross_entropy\": {\"count\": 1, \"max\": 0.012706778104525493, \"sum\": 0.012706778104525493, \"min\": 0.012706778104525493}, \"validation_binary_classification_cross_entropy\": {\"count\": 1, \"max\": -Infinity, \"sum\": NaN, \"min\": Infinity}}, \"EndTime\": 1518540603.305099, \"Dimensions\": {\"model\": 28, \"Host\": \"algo-1\", \"Operation\": \"training\", \"Algorithm\": \"Linear Learner\", \"epoch\": 6}, \"StartTime\": 1518540603.305091}\n",
      "\u001b[0m\n",
      "\u001b[31m#metrics {\"Metrics\": {\"training_binary_classification_cross_entropy\": {\"count\": 1, \"max\": 0.013123839060162535, \"sum\": 0.013123839060162535, \"min\": 0.013123839060162535}, \"validation_binary_classification_cross_entropy\": {\"count\": 1, \"max\": -Infinity, \"sum\": NaN, \"min\": Infinity}}, \"EndTime\": 1518540603.305127, \"Dimensions\": {\"model\": 29, \"Host\": \"algo-1\", \"Operation\": \"training\", \"Algorithm\": \"Linear Learner\", \"epoch\": 6}, \"StartTime\": 1518540603.305119}\n",
      "\u001b[0m\n",
      "\u001b[31m#metrics {\"Metrics\": {\"training_binary_classification_cross_entropy\": {\"count\": 1, \"max\": 0.01270658638926754, \"sum\": 0.01270658638926754, \"min\": 0.01270658638926754}, \"validation_binary_classification_cross_entropy\": {\"count\": 1, \"max\": -Infinity, \"sum\": NaN, \"min\": Infinity}}, \"EndTime\": 1518540603.305156, \"Dimensions\": {\"model\": 30, \"Host\": \"algo-1\", \"Operation\": \"training\", \"Algorithm\": \"Linear Learner\", \"epoch\": 6}, \"StartTime\": 1518540603.305147}\n",
      "\u001b[0m\n",
      "\u001b[31m#metrics {\"Metrics\": {\"training_binary_classification_cross_entropy\": {\"count\": 1, \"max\": 0.013123013289172172, \"sum\": 0.013123013289172172, \"min\": 0.013123013289172172}, \"validation_binary_classification_cross_entropy\": {\"count\": 1, \"max\": -Infinity, \"sum\": NaN, \"min\": Infinity}}, \"EndTime\": 1518540603.305184, \"Dimensions\": {\"model\": 31, \"Host\": \"algo-1\", \"Operation\": \"training\", \"Algorithm\": \"Linear Learner\", \"epoch\": 6}, \"StartTime\": 1518540603.305175}\n",
      "\u001b[0m\n"
     ]
    },
    {
     "name": "stdout",
     "output_type": "stream",
     "text": [
      "\u001b[31m#metrics {\"Metrics\": {\"training_binary_classification_cross_entropy\": {\"count\": 1, \"max\": 0.004545867700937642, \"sum\": 0.004545867700937642, \"min\": 0.004545867700937642}, \"validation_binary_classification_cross_entropy\": {\"count\": 1, \"max\": -Infinity, \"sum\": NaN, \"min\": Infinity}}, \"EndTime\": 1518540623.147596, \"Dimensions\": {\"model\": 0, \"Host\": \"algo-1\", \"Operation\": \"training\", \"Algorithm\": \"Linear Learner\", \"epoch\": 7}, \"StartTime\": 1518540623.147506}\n",
      "\u001b[0m\n",
      "\u001b[31m#metrics {\"Metrics\": {\"training_binary_classification_cross_entropy\": {\"count\": 1, \"max\": 0.004049344359650221, \"sum\": 0.004049344359650221, \"min\": 0.004049344359650221}, \"validation_binary_classification_cross_entropy\": {\"count\": 1, \"max\": -Infinity, \"sum\": NaN, \"min\": Infinity}}, \"EndTime\": 1518540623.147672, \"Dimensions\": {\"model\": 1, \"Host\": \"algo-1\", \"Operation\": \"training\", \"Algorithm\": \"Linear Learner\", \"epoch\": 7}, \"StartTime\": 1518540623.147659}\n",
      "\u001b[0m\n",
      "\u001b[31m#metrics {\"Metrics\": {\"training_binary_classification_cross_entropy\": {\"count\": 1, \"max\": 0.0043974114005195806, \"sum\": 0.0043974114005195806, \"min\": 0.0043974114005195806}, \"validation_binary_classification_cross_entropy\": {\"count\": 1, \"max\": -Infinity, \"sum\": NaN, \"min\": Infinity}}, \"EndTime\": 1518540623.14771, \"Dimensions\": {\"model\": 2, \"Host\": \"algo-1\", \"Operation\": \"training\", \"Algorithm\": \"Linear Learner\", \"epoch\": 7}, \"StartTime\": 1518540623.1477}\n",
      "\u001b[0m\n",
      "\u001b[31m#metrics {\"Metrics\": {\"training_binary_classification_cross_entropy\": {\"count\": 1, \"max\": 0.004049361949902491, \"sum\": 0.004049361949902491, \"min\": 0.004049361949902491}, \"validation_binary_classification_cross_entropy\": {\"count\": 1, \"max\": -Infinity, \"sum\": NaN, \"min\": Infinity}}, \"EndTime\": 1518540623.147744, \"Dimensions\": {\"model\": 3, \"Host\": \"algo-1\", \"Operation\": \"training\", \"Algorithm\": \"Linear Learner\", \"epoch\": 7}, \"StartTime\": 1518540623.147734}\n",
      "\u001b[0m\n",
      "\u001b[31m#metrics {\"Metrics\": {\"training_binary_classification_cross_entropy\": {\"count\": 1, \"max\": 0.0038826522287579786, \"sum\": 0.0038826522287579786, \"min\": 0.0038826522287579786}, \"validation_binary_classification_cross_entropy\": {\"count\": 1, \"max\": -Infinity, \"sum\": NaN, \"min\": Infinity}}, \"EndTime\": 1518540623.147776, \"Dimensions\": {\"model\": 4, \"Host\": \"algo-1\", \"Operation\": \"training\", \"Algorithm\": \"Linear Learner\", \"epoch\": 7}, \"StartTime\": 1518540623.147766}\n",
      "\u001b[0m\n",
      "\u001b[31m#metrics {\"Metrics\": {\"training_binary_classification_cross_entropy\": {\"count\": 1, \"max\": 0.006586752429345752, \"sum\": 0.006586752429345752, \"min\": 0.006586752429345752}, \"validation_binary_classification_cross_entropy\": {\"count\": 1, \"max\": -Infinity, \"sum\": NaN, \"min\": Infinity}}, \"EndTime\": 1518540623.147807, \"Dimensions\": {\"model\": 5, \"Host\": \"algo-1\", \"Operation\": \"training\", \"Algorithm\": \"Linear Learner\", \"epoch\": 7}, \"StartTime\": 1518540623.147798}\n",
      "\u001b[0m\n",
      "\u001b[31m#metrics {\"Metrics\": {\"training_binary_classification_cross_entropy\": {\"count\": 1, \"max\": 0.003856992545784507, \"sum\": 0.003856992545784507, \"min\": 0.003856992545784507}, \"validation_binary_classification_cross_entropy\": {\"count\": 1, \"max\": -Infinity, \"sum\": NaN, \"min\": Infinity}}, \"EndTime\": 1518540623.147837, \"Dimensions\": {\"model\": 6, \"Host\": \"algo-1\", \"Operation\": \"training\", \"Algorithm\": \"Linear Learner\", \"epoch\": 7}, \"StartTime\": 1518540623.147828}\n",
      "\u001b[0m\n",
      "\u001b[31m#metrics {\"Metrics\": {\"training_binary_classification_cross_entropy\": {\"count\": 1, \"max\": 0.0075348123487346454, \"sum\": 0.0075348123487346454, \"min\": 0.0075348123487346454}, \"validation_binary_classification_cross_entropy\": {\"count\": 1, \"max\": -Infinity, \"sum\": NaN, \"min\": Infinity}}, \"EndTime\": 1518540623.147866, \"Dimensions\": {\"model\": 7, \"Host\": \"algo-1\", \"Operation\": \"training\", \"Algorithm\": \"Linear Learner\", \"epoch\": 7}, \"StartTime\": 1518540623.147857}\n",
      "\u001b[0m\n",
      "\u001b[31m#metrics {\"Metrics\": {\"training_binary_classification_cross_entropy\": {\"count\": 1, \"max\": 0.0052472872146401535, \"sum\": 0.0052472872146401535, \"min\": 0.0052472872146401535}, \"validation_binary_classification_cross_entropy\": {\"count\": 1, \"max\": -Infinity, \"sum\": NaN, \"min\": Infinity}}, \"EndTime\": 1518540623.147909, \"Dimensions\": {\"model\": 8, \"Host\": \"algo-1\", \"Operation\": \"training\", \"Algorithm\": \"Linear Learner\", \"epoch\": 7}, \"StartTime\": 1518540623.147897}\n",
      "\u001b[0m\n",
      "\u001b[31m#metrics {\"Metrics\": {\"training_binary_classification_cross_entropy\": {\"count\": 1, \"max\": 0.005004265089650231, \"sum\": 0.005004265089650231, \"min\": 0.005004265089650231}, \"validation_binary_classification_cross_entropy\": {\"count\": 1, \"max\": -Infinity, \"sum\": NaN, \"min\": Infinity}}, \"EndTime\": 1518540623.147942, \"Dimensions\": {\"model\": 9, \"Host\": \"algo-1\", \"Operation\": \"training\", \"Algorithm\": \"Linear Learner\", \"epoch\": 7}, \"StartTime\": 1518540623.147932}\n",
      "\u001b[0m\n",
      "\u001b[31m#metrics {\"Metrics\": {\"training_binary_classification_cross_entropy\": {\"count\": 1, \"max\": 0.0051453708563314144, \"sum\": 0.0051453708563314144, \"min\": 0.0051453708563314144}, \"validation_binary_classification_cross_entropy\": {\"count\": 1, \"max\": -Infinity, \"sum\": NaN, \"min\": Infinity}}, \"EndTime\": 1518540623.147981, \"Dimensions\": {\"model\": 10, \"Host\": \"algo-1\", \"Operation\": \"training\", \"Algorithm\": \"Linear Learner\", \"epoch\": 7}, \"StartTime\": 1518540623.147967}\n",
      "\u001b[0m\n",
      "\u001b[31m#metrics {\"Metrics\": {\"training_binary_classification_cross_entropy\": {\"count\": 1, \"max\": 0.005004256397306201, \"sum\": 0.005004256397306201, \"min\": 0.005004256397306201}, \"validation_binary_classification_cross_entropy\": {\"count\": 1, \"max\": -Infinity, \"sum\": NaN, \"min\": Infinity}}, \"EndTime\": 1518540623.148038, \"Dimensions\": {\"model\": 11, \"Host\": \"algo-1\", \"Operation\": \"training\", \"Algorithm\": \"Linear Learner\", \"epoch\": 7}, \"StartTime\": 1518540623.14802}\n",
      "\u001b[0m\n",
      "\u001b[31m#metrics {\"Metrics\": {\"training_binary_classification_cross_entropy\": {\"count\": 1, \"max\": 0.004907966210585402, \"sum\": 0.004907966210585402, \"min\": 0.004907966210585402}, \"validation_binary_classification_cross_entropy\": {\"count\": 1, \"max\": -Infinity, \"sum\": NaN, \"min\": Infinity}}, \"EndTime\": 1518540623.148098, \"Dimensions\": {\"model\": 12, \"Host\": \"algo-1\", \"Operation\": \"training\", \"Algorithm\": \"Linear Learner\", \"epoch\": 7}, \"StartTime\": 1518540623.14808}\n",
      "\u001b[0m\n",
      "\u001b[31m#metrics {\"Metrics\": {\"training_binary_classification_cross_entropy\": {\"count\": 1, \"max\": 0.0066095224192438936, \"sum\": 0.0066095224192438936, \"min\": 0.0066095224192438936}, \"validation_binary_classification_cross_entropy\": {\"count\": 1, \"max\": -Infinity, \"sum\": NaN, \"min\": Infinity}}, \"EndTime\": 1518540623.148169, \"Dimensions\": {\"model\": 13, \"Host\": \"algo-1\", \"Operation\": \"training\", \"Algorithm\": \"Linear Learner\", \"epoch\": 7}, \"StartTime\": 1518540623.14814}\n",
      "\u001b[0m\n",
      "\u001b[31m#metrics {\"Metrics\": {\"training_binary_classification_cross_entropy\": {\"count\": 1, \"max\": 0.004907936070443516, \"sum\": 0.004907936070443516, \"min\": 0.004907936070443516}, \"validation_binary_classification_cross_entropy\": {\"count\": 1, \"max\": -Infinity, \"sum\": NaN, \"min\": Infinity}}, \"EndTime\": 1518540623.148227, \"Dimensions\": {\"model\": 14, \"Host\": \"algo-1\", \"Operation\": \"training\", \"Algorithm\": \"Linear Learner\", \"epoch\": 7}, \"StartTime\": 1518540623.148209}\n",
      "\u001b[0m\n",
      "\u001b[31m#metrics {\"Metrics\": {\"training_binary_classification_cross_entropy\": {\"count\": 1, \"max\": 0.006611413776345765, \"sum\": 0.006611413776345765, \"min\": 0.006611413776345765}, \"validation_binary_classification_cross_entropy\": {\"count\": 1, \"max\": -Infinity, \"sum\": NaN, \"min\": Infinity}}, \"EndTime\": 1518540623.14829, \"Dimensions\": {\"model\": 15, \"Host\": \"algo-1\", \"Operation\": \"training\", \"Algorithm\": \"Linear Learner\", \"epoch\": 7}, \"StartTime\": 1518540623.148271}\n",
      "\u001b[0m\n",
      "\u001b[31m#metrics {\"Metrics\": {\"training_binary_classification_cross_entropy\": {\"count\": 1, \"max\": 0.011789075090104796, \"sum\": 0.011789075090104796, \"min\": 0.011789075090104796}, \"validation_binary_classification_cross_entropy\": {\"count\": 1, \"max\": -Infinity, \"sum\": NaN, \"min\": Infinity}}, \"EndTime\": 1518540623.14835, \"Dimensions\": {\"model\": 16, \"Host\": \"algo-1\", \"Operation\": \"training\", \"Algorithm\": \"Linear Learner\", \"epoch\": 7}, \"StartTime\": 1518540623.148331}\n",
      "\u001b[0m\n",
      "\u001b[31m#metrics {\"Metrics\": {\"training_binary_classification_cross_entropy\": {\"count\": 1, \"max\": 0.01184605859384599, \"sum\": 0.01184605859384599, \"min\": 0.01184605859384599}, \"validation_binary_classification_cross_entropy\": {\"count\": 1, \"max\": -Infinity, \"sum\": NaN, \"min\": Infinity}}, \"EndTime\": 1518540623.148386, \"Dimensions\": {\"model\": 17, \"Host\": \"algo-1\", \"Operation\": \"training\", \"Algorithm\": \"Linear Learner\", \"epoch\": 7}, \"StartTime\": 1518540623.148376}\n",
      "\u001b[0m\n",
      "\u001b[31m#metrics {\"Metrics\": {\"training_binary_classification_cross_entropy\": {\"count\": 1, \"max\": 0.011777278435786805, \"sum\": 0.011777278435786805, \"min\": 0.011777278435786805}, \"validation_binary_classification_cross_entropy\": {\"count\": 1, \"max\": -Infinity, \"sum\": NaN, \"min\": Infinity}}, \"EndTime\": 1518540623.148417, \"Dimensions\": {\"model\": 18, \"Host\": \"algo-1\", \"Operation\": \"training\", \"Algorithm\": \"Linear Learner\", \"epoch\": 7}, \"StartTime\": 1518540623.148408}\n",
      "\u001b[0m\n",
      "\u001b[31m#metrics {\"Metrics\": {\"training_binary_classification_cross_entropy\": {\"count\": 1, \"max\": 0.011846051086862402, \"sum\": 0.011846051086862402, \"min\": 0.011846051086862402}, \"validation_binary_classification_cross_entropy\": {\"count\": 1, \"max\": -Infinity, \"sum\": NaN, \"min\": Infinity}}, \"EndTime\": 1518540623.148447, \"Dimensions\": {\"model\": 19, \"Host\": \"algo-1\", \"Operation\": \"training\", \"Algorithm\": \"Linear Learner\", \"epoch\": 7}, \"StartTime\": 1518540623.148438}\n",
      "\u001b[0m\n",
      "\u001b[31m#metrics {\"Metrics\": {\"training_binary_classification_cross_entropy\": {\"count\": 1, \"max\": 0.011769279434858077, \"sum\": 0.011769279434858077, \"min\": 0.011769279434858077}, \"validation_binary_classification_cross_entropy\": {\"count\": 1, \"max\": -Infinity, \"sum\": NaN, \"min\": Infinity}}, \"EndTime\": 1518540623.148475, \"Dimensions\": {\"model\": 20, \"Host\": \"algo-1\", \"Operation\": \"training\", \"Algorithm\": \"Linear Learner\", \"epoch\": 7}, \"StartTime\": 1518540623.148466}\n",
      "\u001b[0m\n",
      "\u001b[31m#metrics {\"Metrics\": {\"training_binary_classification_cross_entropy\": {\"count\": 1, \"max\": 0.012179446628870794, \"sum\": 0.012179446628870794, \"min\": 0.012179446628870794}, \"validation_binary_classification_cross_entropy\": {\"count\": 1, \"max\": -Infinity, \"sum\": NaN, \"min\": Infinity}}, \"EndTime\": 1518540623.148504, \"Dimensions\": {\"model\": 21, \"Host\": \"algo-1\", \"Operation\": \"training\", \"Algorithm\": \"Linear Learner\", \"epoch\": 7}, \"StartTime\": 1518540623.148495}\n",
      "\u001b[0m\n",
      "\u001b[31m#metrics {\"Metrics\": {\"training_binary_classification_cross_entropy\": {\"count\": 1, \"max\": 0.011769299665278938, \"sum\": 0.011769299665278938, \"min\": 0.011769299665278938}, \"validation_binary_classification_cross_entropy\": {\"count\": 1, \"max\": -Infinity, \"sum\": NaN, \"min\": Infinity}}, \"EndTime\": 1518540623.148532, \"Dimensions\": {\"model\": 22, \"Host\": \"algo-1\", \"Operation\": \"training\", \"Algorithm\": \"Linear Learner\", \"epoch\": 7}, \"StartTime\": 1518540623.148523}\n",
      "\u001b[0m\n",
      "\u001b[31m#metrics {\"Metrics\": {\"training_binary_classification_cross_entropy\": {\"count\": 1, \"max\": 0.012179503373925137, \"sum\": 0.012179503373925137, \"min\": 0.012179503373925137}, \"validation_binary_classification_cross_entropy\": {\"count\": 1, \"max\": -Infinity, \"sum\": NaN, \"min\": Infinity}}, \"EndTime\": 1518540623.148588, \"Dimensions\": {\"model\": 23, \"Host\": \"algo-1\", \"Operation\": \"training\", \"Algorithm\": \"Linear Learner\", \"epoch\": 7}, \"StartTime\": 1518540623.148568}\n",
      "\u001b[0m\n",
      "\u001b[31m#metrics {\"Metrics\": {\"training_binary_classification_cross_entropy\": {\"count\": 1, \"max\": 0.012728928114216491, \"sum\": 0.012728928114216491, \"min\": 0.012728928114216491}, \"validation_binary_classification_cross_entropy\": {\"count\": 1, \"max\": -Infinity, \"sum\": NaN, \"min\": Infinity}}, \"EndTime\": 1518540623.148649, \"Dimensions\": {\"model\": 24, \"Host\": \"algo-1\", \"Operation\": \"training\", \"Algorithm\": \"Linear Learner\", \"epoch\": 7}, \"StartTime\": 1518540623.148629}\n",
      "\u001b[0m\n",
      "\u001b[31m#metrics {\"Metrics\": {\"training_binary_classification_cross_entropy\": {\"count\": 1, \"max\": 0.012720759077424027, \"sum\": 0.012720759077424027, \"min\": 0.012720759077424027}, \"validation_binary_classification_cross_entropy\": {\"count\": 1, \"max\": -Infinity, \"sum\": NaN, \"min\": Infinity}}, \"EndTime\": 1518540623.14871, \"Dimensions\": {\"model\": 25, \"Host\": \"algo-1\", \"Operation\": \"training\", \"Algorithm\": \"Linear Learner\", \"epoch\": 7}, \"StartTime\": 1518540623.148691}\n",
      "\u001b[0m\n",
      "\u001b[31m#metrics {\"Metrics\": {\"training_binary_classification_cross_entropy\": {\"count\": 1, \"max\": 0.012711438687002084, \"sum\": 0.012711438687002084, \"min\": 0.012711438687002084}, \"validation_binary_classification_cross_entropy\": {\"count\": 1, \"max\": -Infinity, \"sum\": NaN, \"min\": Infinity}}, \"EndTime\": 1518540623.148764, \"Dimensions\": {\"model\": 26, \"Host\": \"algo-1\", \"Operation\": \"training\", \"Algorithm\": \"Linear Learner\", \"epoch\": 7}, \"StartTime\": 1518540623.148752}\n",
      "\u001b[0m\n",
      "\u001b[31m#metrics {\"Metrics\": {\"training_binary_classification_cross_entropy\": {\"count\": 1, \"max\": 0.01272067763794019, \"sum\": 0.01272067763794019, \"min\": 0.01272067763794019}, \"validation_binary_classification_cross_entropy\": {\"count\": 1, \"max\": -Infinity, \"sum\": NaN, \"min\": Infinity}}, \"EndTime\": 1518540623.148797, \"Dimensions\": {\"model\": 27, \"Host\": \"algo-1\", \"Operation\": \"training\", \"Algorithm\": \"Linear Learner\", \"epoch\": 7}, \"StartTime\": 1518540623.148788}\n",
      "\u001b[0m\n",
      "\u001b[31m#metrics {\"Metrics\": {\"training_binary_classification_cross_entropy\": {\"count\": 1, \"max\": 0.012704518941571435, \"sum\": 0.012704518941571435, \"min\": 0.012704518941571435}, \"validation_binary_classification_cross_entropy\": {\"count\": 1, \"max\": -Infinity, \"sum\": NaN, \"min\": Infinity}}, \"EndTime\": 1518540623.148827, \"Dimensions\": {\"model\": 28, \"Host\": \"algo-1\", \"Operation\": \"training\", \"Algorithm\": \"Linear Learner\", \"epoch\": 7}, \"StartTime\": 1518540623.148818}\n",
      "\u001b[0m\n",
      "\u001b[31m#metrics {\"Metrics\": {\"training_binary_classification_cross_entropy\": {\"count\": 1, \"max\": 0.013100485013027387, \"sum\": 0.013100485013027387, \"min\": 0.013100485013027387}, \"validation_binary_classification_cross_entropy\": {\"count\": 1, \"max\": -Infinity, \"sum\": NaN, \"min\": Infinity}}, \"EndTime\": 1518540623.148856, \"Dimensions\": {\"model\": 29, \"Host\": \"algo-1\", \"Operation\": \"training\", \"Algorithm\": \"Linear Learner\", \"epoch\": 7}, \"StartTime\": 1518540623.148847}\n",
      "\u001b[0m\n",
      "\u001b[31m#metrics {\"Metrics\": {\"training_binary_classification_cross_entropy\": {\"count\": 1, \"max\": 0.012704512371445995, \"sum\": 0.012704512371445995, \"min\": 0.012704512371445995}, \"validation_binary_classification_cross_entropy\": {\"count\": 1, \"max\": -Infinity, \"sum\": NaN, \"min\": Infinity}}, \"EndTime\": 1518540623.148884, \"Dimensions\": {\"model\": 30, \"Host\": \"algo-1\", \"Operation\": \"training\", \"Algorithm\": \"Linear Learner\", \"epoch\": 7}, \"StartTime\": 1518540623.148876}\n",
      "\u001b[0m\n",
      "\u001b[31m#metrics {\"Metrics\": {\"training_binary_classification_cross_entropy\": {\"count\": 1, \"max\": 0.013100207350590832, \"sum\": 0.013100207350590832, \"min\": 0.013100207350590832}, \"validation_binary_classification_cross_entropy\": {\"count\": 1, \"max\": -Infinity, \"sum\": NaN, \"min\": Infinity}}, \"EndTime\": 1518540623.148913, \"Dimensions\": {\"model\": 31, \"Host\": \"algo-1\", \"Operation\": \"training\", \"Algorithm\": \"Linear Learner\", \"epoch\": 7}, \"StartTime\": 1518540623.148904}\n",
      "\u001b[0m\n"
     ]
    },
    {
     "name": "stdout",
     "output_type": "stream",
     "text": [
      "\u001b[31m#metrics {\"Metrics\": {\"training_binary_classification_cross_entropy\": {\"count\": 1, \"max\": 0.004526676941722871, \"sum\": 0.004526676941722871, \"min\": 0.004526676941722871}, \"validation_binary_classification_cross_entropy\": {\"count\": 1, \"max\": -Infinity, \"sum\": NaN, \"min\": Infinity}}, \"EndTime\": 1518540643.987637, \"Dimensions\": {\"model\": 0, \"Host\": \"algo-1\", \"Operation\": \"training\", \"Algorithm\": \"Linear Learner\", \"epoch\": 8}, \"StartTime\": 1518540643.987549}\n",
      "\u001b[0m\n",
      "\u001b[31m#metrics {\"Metrics\": {\"training_binary_classification_cross_entropy\": {\"count\": 1, \"max\": 0.004051024555509169, \"sum\": 0.004051024555509169, \"min\": 0.004051024555509169}, \"validation_binary_classification_cross_entropy\": {\"count\": 1, \"max\": -Infinity, \"sum\": NaN, \"min\": Infinity}}, \"EndTime\": 1518540643.987707, \"Dimensions\": {\"model\": 1, \"Host\": \"algo-1\", \"Operation\": \"training\", \"Algorithm\": \"Linear Learner\", \"epoch\": 8}, \"StartTime\": 1518540643.987693}\n",
      "\u001b[0m\n",
      "\u001b[31m#metrics {\"Metrics\": {\"training_binary_classification_cross_entropy\": {\"count\": 1, \"max\": 0.004315813462133987, \"sum\": 0.004315813462133987, \"min\": 0.004315813462133987}, \"validation_binary_classification_cross_entropy\": {\"count\": 1, \"max\": -Infinity, \"sum\": NaN, \"min\": Infinity}}, \"EndTime\": 1518540643.98775, \"Dimensions\": {\"model\": 2, \"Host\": \"algo-1\", \"Operation\": \"training\", \"Algorithm\": \"Linear Learner\", \"epoch\": 8}, \"StartTime\": 1518540643.987739}\n",
      "\u001b[0m\n",
      "\u001b[31m#metrics {\"Metrics\": {\"training_binary_classification_cross_entropy\": {\"count\": 1, \"max\": 0.004050180803550535, \"sum\": 0.004050180803550535, \"min\": 0.004050180803550535}, \"validation_binary_classification_cross_entropy\": {\"count\": 1, \"max\": -Infinity, \"sum\": NaN, \"min\": Infinity}}, \"EndTime\": 1518540643.987788, \"Dimensions\": {\"model\": 3, \"Host\": \"algo-1\", \"Operation\": \"training\", \"Algorithm\": \"Linear Learner\", \"epoch\": 8}, \"StartTime\": 1518540643.987778}\n",
      "\u001b[0m\n",
      "\u001b[31m#metrics {\"Metrics\": {\"training_binary_classification_cross_entropy\": {\"count\": 1, \"max\": 0.0038712834243486865, \"sum\": 0.0038712834243486865, \"min\": 0.0038712834243486865}, \"validation_binary_classification_cross_entropy\": {\"count\": 1, \"max\": -Infinity, \"sum\": NaN, \"min\": Infinity}}, \"EndTime\": 1518540643.987821, \"Dimensions\": {\"model\": 4, \"Host\": \"algo-1\", \"Operation\": \"training\", \"Algorithm\": \"Linear Learner\", \"epoch\": 8}, \"StartTime\": 1518540643.987812}\n",
      "\u001b[0m\n",
      "\u001b[31m#metrics {\"Metrics\": {\"training_binary_classification_cross_entropy\": {\"count\": 1, \"max\": 0.006589103323905334, \"sum\": 0.006589103323905334, \"min\": 0.006589103323905334}, \"validation_binary_classification_cross_entropy\": {\"count\": 1, \"max\": -Infinity, \"sum\": NaN, \"min\": Infinity}}, \"EndTime\": 1518540643.987854, \"Dimensions\": {\"model\": 5, \"Host\": \"algo-1\", \"Operation\": \"training\", \"Algorithm\": \"Linear Learner\", \"epoch\": 8}, \"StartTime\": 1518540643.987844}\n",
      "\u001b[0m\n",
      "\u001b[31m#metrics {\"Metrics\": {\"training_binary_classification_cross_entropy\": {\"count\": 1, \"max\": 0.0038505053970528894, \"sum\": 0.0038505053970528894, \"min\": 0.0038505053970528894}, \"validation_binary_classification_cross_entropy\": {\"count\": 1, \"max\": -Infinity, \"sum\": NaN, \"min\": Infinity}}, \"EndTime\": 1518540643.987884, \"Dimensions\": {\"model\": 6, \"Host\": \"algo-1\", \"Operation\": \"training\", \"Algorithm\": \"Linear Learner\", \"epoch\": 8}, \"StartTime\": 1518540643.987875}\n",
      "\u001b[0m\n",
      "\u001b[31m#metrics {\"Metrics\": {\"training_binary_classification_cross_entropy\": {\"count\": 1, \"max\": 0.005915358228500031, \"sum\": 0.005915358228500031, \"min\": 0.005915358228500031}, \"validation_binary_classification_cross_entropy\": {\"count\": 1, \"max\": -Infinity, \"sum\": NaN, \"min\": Infinity}}, \"EndTime\": 1518540643.987914, \"Dimensions\": {\"model\": 7, \"Host\": \"algo-1\", \"Operation\": \"training\", \"Algorithm\": \"Linear Learner\", \"epoch\": 8}, \"StartTime\": 1518540643.987905}\n",
      "\u001b[0m\n",
      "\u001b[31m#metrics {\"Metrics\": {\"training_binary_classification_cross_entropy\": {\"count\": 1, \"max\": 0.005234768807319513, \"sum\": 0.005234768807319513, \"min\": 0.005234768807319513}, \"validation_binary_classification_cross_entropy\": {\"count\": 1, \"max\": -Infinity, \"sum\": NaN, \"min\": Infinity}}, \"EndTime\": 1518540643.987943, \"Dimensions\": {\"model\": 8, \"Host\": \"algo-1\", \"Operation\": \"training\", \"Algorithm\": \"Linear Learner\", \"epoch\": 8}, \"StartTime\": 1518540643.987934}\n",
      "\u001b[0m\n",
      "\u001b[31m#metrics {\"Metrics\": {\"training_binary_classification_cross_entropy\": {\"count\": 1, \"max\": 0.004998800254064092, \"sum\": 0.004998800254064092, \"min\": 0.004998800254064092}, \"validation_binary_classification_cross_entropy\": {\"count\": 1, \"max\": -Infinity, \"sum\": NaN, \"min\": Infinity}}, \"EndTime\": 1518540643.987972, \"Dimensions\": {\"model\": 9, \"Host\": \"algo-1\", \"Operation\": \"training\", \"Algorithm\": \"Linear Learner\", \"epoch\": 8}, \"StartTime\": 1518540643.987963}\n",
      "\u001b[0m\n",
      "\u001b[31m#metrics {\"Metrics\": {\"training_binary_classification_cross_entropy\": {\"count\": 1, \"max\": 0.005089589439063187, \"sum\": 0.005089589439063187, \"min\": 0.005089589439063187}, \"validation_binary_classification_cross_entropy\": {\"count\": 1, \"max\": -Infinity, \"sum\": NaN, \"min\": Infinity}}, \"EndTime\": 1518540643.988001, \"Dimensions\": {\"model\": 10, \"Host\": \"algo-1\", \"Operation\": \"training\", \"Algorithm\": \"Linear Learner\", \"epoch\": 8}, \"StartTime\": 1518540643.987992}\n",
      "\u001b[0m\n",
      "\u001b[31m#metrics {\"Metrics\": {\"training_binary_classification_cross_entropy\": {\"count\": 1, \"max\": 0.00499879976065014, \"sum\": 0.00499879976065014, \"min\": 0.00499879976065014}, \"validation_binary_classification_cross_entropy\": {\"count\": 1, \"max\": -Infinity, \"sum\": NaN, \"min\": Infinity}}, \"EndTime\": 1518540643.98803, \"Dimensions\": {\"model\": 11, \"Host\": \"algo-1\", \"Operation\": \"training\", \"Algorithm\": \"Linear Learner\", \"epoch\": 8}, \"StartTime\": 1518540643.988021}\n",
      "\u001b[0m\n",
      "\u001b[31m#metrics {\"Metrics\": {\"training_binary_classification_cross_entropy\": {\"count\": 1, \"max\": 0.00490084696172112, \"sum\": 0.00490084696172112, \"min\": 0.00490084696172112}, \"validation_binary_classification_cross_entropy\": {\"count\": 1, \"max\": -Infinity, \"sum\": NaN, \"min\": Infinity}}, \"EndTime\": 1518540643.988059, \"Dimensions\": {\"model\": 12, \"Host\": \"algo-1\", \"Operation\": \"training\", \"Algorithm\": \"Linear Learner\", \"epoch\": 8}, \"StartTime\": 1518540643.988051}\n",
      "\u001b[0m\n",
      "\u001b[31m#metrics {\"Metrics\": {\"training_binary_classification_cross_entropy\": {\"count\": 1, \"max\": 0.006530738547701486, \"sum\": 0.006530738547701486, \"min\": 0.006530738547701486}, \"validation_binary_classification_cross_entropy\": {\"count\": 1, \"max\": -Infinity, \"sum\": NaN, \"min\": Infinity}}, \"EndTime\": 1518540643.988088, \"Dimensions\": {\"model\": 13, \"Host\": \"algo-1\", \"Operation\": \"training\", \"Algorithm\": \"Linear Learner\", \"epoch\": 8}, \"StartTime\": 1518540643.988079}\n",
      "\u001b[0m\n",
      "\u001b[31m#metrics {\"Metrics\": {\"training_binary_classification_cross_entropy\": {\"count\": 1, \"max\": 0.004905023862828452, \"sum\": 0.004905023862828452, \"min\": 0.004905023862828452}, \"validation_binary_classification_cross_entropy\": {\"count\": 1, \"max\": -Infinity, \"sum\": NaN, \"min\": Infinity}}, \"EndTime\": 1518540643.988118, \"Dimensions\": {\"model\": 14, \"Host\": \"algo-1\", \"Operation\": \"training\", \"Algorithm\": \"Linear Learner\", \"epoch\": 8}, \"StartTime\": 1518540643.988109}\n",
      "\u001b[0m\n",
      "\u001b[31m#metrics {\"Metrics\": {\"training_binary_classification_cross_entropy\": {\"count\": 1, \"max\": 0.006530863705145412, \"sum\": 0.006530863705145412, \"min\": 0.006530863705145412}, \"validation_binary_classification_cross_entropy\": {\"count\": 1, \"max\": -Infinity, \"sum\": NaN, \"min\": Infinity}}, \"EndTime\": 1518540643.988146, \"Dimensions\": {\"model\": 15, \"Host\": \"algo-1\", \"Operation\": \"training\", \"Algorithm\": \"Linear Learner\", \"epoch\": 8}, \"StartTime\": 1518540643.988138}\n",
      "\u001b[0m\n",
      "\u001b[31m#metrics {\"Metrics\": {\"training_binary_classification_cross_entropy\": {\"count\": 1, \"max\": 0.011786108918368338, \"sum\": 0.011786108918368338, \"min\": 0.011786108918368338}, \"validation_binary_classification_cross_entropy\": {\"count\": 1, \"max\": -Infinity, \"sum\": NaN, \"min\": Infinity}}, \"EndTime\": 1518540643.988185, \"Dimensions\": {\"model\": 16, \"Host\": \"algo-1\", \"Operation\": \"training\", \"Algorithm\": \"Linear Learner\", \"epoch\": 8}, \"StartTime\": 1518540643.988177}\n",
      "\u001b[0m\n",
      "\u001b[31m#metrics {\"Metrics\": {\"training_binary_classification_cross_entropy\": {\"count\": 1, \"max\": 0.011847347200036528, \"sum\": 0.011847347200036528, \"min\": 0.011847347200036528}, \"validation_binary_classification_cross_entropy\": {\"count\": 1, \"max\": -Infinity, \"sum\": NaN, \"min\": Infinity}}, \"EndTime\": 1518540643.988213, \"Dimensions\": {\"model\": 17, \"Host\": \"algo-1\", \"Operation\": \"training\", \"Algorithm\": \"Linear Learner\", \"epoch\": 8}, \"StartTime\": 1518540643.988205}\n",
      "\u001b[0m\n",
      "\u001b[31m#metrics {\"Metrics\": {\"training_binary_classification_cross_entropy\": {\"count\": 1, \"max\": 0.011772062216986375, \"sum\": 0.011772062216986375, \"min\": 0.011772062216986375}, \"validation_binary_classification_cross_entropy\": {\"count\": 1, \"max\": -Infinity, \"sum\": NaN, \"min\": Infinity}}, \"EndTime\": 1518540643.988242, \"Dimensions\": {\"model\": 18, \"Host\": \"algo-1\", \"Operation\": \"training\", \"Algorithm\": \"Linear Learner\", \"epoch\": 8}, \"StartTime\": 1518540643.988233}\n",
      "\u001b[0m\n",
      "\u001b[31m#metrics {\"Metrics\": {\"training_binary_classification_cross_entropy\": {\"count\": 1, \"max\": 0.011847343250779982, \"sum\": 0.011847343250779982, \"min\": 0.011847343250779982}, \"validation_binary_classification_cross_entropy\": {\"count\": 1, \"max\": -Infinity, \"sum\": NaN, \"min\": Infinity}}, \"EndTime\": 1518540643.988272, \"Dimensions\": {\"model\": 19, \"Host\": \"algo-1\", \"Operation\": \"training\", \"Algorithm\": \"Linear Learner\", \"epoch\": 8}, \"StartTime\": 1518540643.988261}\n",
      "\u001b[0m\n",
      "\u001b[31m#metrics {\"Metrics\": {\"training_binary_classification_cross_entropy\": {\"count\": 1, \"max\": 0.01176816618616083, \"sum\": 0.01176816618616083, \"min\": 0.01176816618616083}, \"validation_binary_classification_cross_entropy\": {\"count\": 1, \"max\": -Infinity, \"sum\": NaN, \"min\": Infinity}}, \"EndTime\": 1518540643.988301, \"Dimensions\": {\"model\": 20, \"Host\": \"algo-1\", \"Operation\": \"training\", \"Algorithm\": \"Linear Learner\", \"epoch\": 8}, \"StartTime\": 1518540643.988292}\n",
      "\u001b[0m\n",
      "\u001b[31m#metrics {\"Metrics\": {\"training_binary_classification_cross_entropy\": {\"count\": 1, \"max\": 0.012139096920299961, \"sum\": 0.012139096920299961, \"min\": 0.012139096920299961}, \"validation_binary_classification_cross_entropy\": {\"count\": 1, \"max\": -Infinity, \"sum\": NaN, \"min\": Infinity}}, \"EndTime\": 1518540643.988329, \"Dimensions\": {\"model\": 21, \"Host\": \"algo-1\", \"Operation\": \"training\", \"Algorithm\": \"Linear Learner\", \"epoch\": 8}, \"StartTime\": 1518540643.98832}\n",
      "\u001b[0m\n",
      "\u001b[31m#metrics {\"Metrics\": {\"training_binary_classification_cross_entropy\": {\"count\": 1, \"max\": 0.011768902741432429, \"sum\": 0.011768902741432429, \"min\": 0.011768902741432429}, \"validation_binary_classification_cross_entropy\": {\"count\": 1, \"max\": -Infinity, \"sum\": NaN, \"min\": Infinity}}, \"EndTime\": 1518540643.988357, \"Dimensions\": {\"model\": 22, \"Host\": \"algo-1\", \"Operation\": \"training\", \"Algorithm\": \"Linear Learner\", \"epoch\": 8}, \"StartTime\": 1518540643.988349}\n",
      "\u001b[0m\n",
      "\u001b[31m#metrics {\"Metrics\": {\"training_binary_classification_cross_entropy\": {\"count\": 1, \"max\": 0.012139115441893509, \"sum\": 0.012139115441893509, \"min\": 0.012139115441893509}, \"validation_binary_classification_cross_entropy\": {\"count\": 1, \"max\": -Infinity, \"sum\": NaN, \"min\": Infinity}}, \"EndTime\": 1518540643.988385, \"Dimensions\": {\"model\": 23, \"Host\": \"algo-1\", \"Operation\": \"training\", \"Algorithm\": \"Linear Learner\", \"epoch\": 8}, \"StartTime\": 1518540643.988377}\n",
      "\u001b[0m\n",
      "\u001b[31m#metrics {\"Metrics\": {\"training_binary_classification_cross_entropy\": {\"count\": 1, \"max\": 0.012726223468780518, \"sum\": 0.012726223468780518, \"min\": 0.012726223468780518}, \"validation_binary_classification_cross_entropy\": {\"count\": 1, \"max\": -Infinity, \"sum\": NaN, \"min\": Infinity}}, \"EndTime\": 1518540643.988414, \"Dimensions\": {\"model\": 24, \"Host\": \"algo-1\", \"Operation\": \"training\", \"Algorithm\": \"Linear Learner\", \"epoch\": 8}, \"StartTime\": 1518540643.988405}\n",
      "\u001b[0m\n",
      "\u001b[31m#metrics {\"Metrics\": {\"training_binary_classification_cross_entropy\": {\"count\": 1, \"max\": 0.01272210651253122, \"sum\": 0.01272210651253122, \"min\": 0.01272210651253122}, \"validation_binary_classification_cross_entropy\": {\"count\": 1, \"max\": -Infinity, \"sum\": NaN, \"min\": Infinity}}, \"EndTime\": 1518540643.988441, \"Dimensions\": {\"model\": 25, \"Host\": \"algo-1\", \"Operation\": \"training\", \"Algorithm\": \"Linear Learner\", \"epoch\": 8}, \"StartTime\": 1518540643.988433}\n",
      "\u001b[0m\n",
      "\u001b[31m#metrics {\"Metrics\": {\"training_binary_classification_cross_entropy\": {\"count\": 1, \"max\": 0.012706393007054386, \"sum\": 0.012706393007054386, \"min\": 0.012706393007054386}, \"validation_binary_classification_cross_entropy\": {\"count\": 1, \"max\": -Infinity, \"sum\": NaN, \"min\": Infinity}}, \"EndTime\": 1518540643.988469, \"Dimensions\": {\"model\": 26, \"Host\": \"algo-1\", \"Operation\": \"training\", \"Algorithm\": \"Linear Learner\", \"epoch\": 8}, \"StartTime\": 1518540643.988461}\n",
      "\u001b[0m\n",
      "\u001b[31m#metrics {\"Metrics\": {\"training_binary_classification_cross_entropy\": {\"count\": 1, \"max\": 0.012722163508425515, \"sum\": 0.012722163508425515, \"min\": 0.012722163508425515}, \"validation_binary_classification_cross_entropy\": {\"count\": 1, \"max\": -Infinity, \"sum\": NaN, \"min\": Infinity}}, \"EndTime\": 1518540643.988497, \"Dimensions\": {\"model\": 27, \"Host\": \"algo-1\", \"Operation\": \"training\", \"Algorithm\": \"Linear Learner\", \"epoch\": 8}, \"StartTime\": 1518540643.988489}\n",
      "\u001b[0m\n",
      "\u001b[31m#metrics {\"Metrics\": {\"training_binary_classification_cross_entropy\": {\"count\": 1, \"max\": 0.012702869241047337, \"sum\": 0.012702869241047337, \"min\": 0.012702869241047337}, \"validation_binary_classification_cross_entropy\": {\"count\": 1, \"max\": -Infinity, \"sum\": NaN, \"min\": Infinity}}, \"EndTime\": 1518540643.988525, \"Dimensions\": {\"model\": 28, \"Host\": \"algo-1\", \"Operation\": \"training\", \"Algorithm\": \"Linear Learner\", \"epoch\": 8}, \"StartTime\": 1518540643.988517}\n",
      "\u001b[0m\n",
      "\u001b[31m#metrics {\"Metrics\": {\"training_binary_classification_cross_entropy\": {\"count\": 1, \"max\": 0.013068538757272992, \"sum\": 0.013068538757272992, \"min\": 0.013068538757272992}, \"validation_binary_classification_cross_entropy\": {\"count\": 1, \"max\": -Infinity, \"sum\": NaN, \"min\": Infinity}}, \"EndTime\": 1518540643.988553, \"Dimensions\": {\"model\": 29, \"Host\": \"algo-1\", \"Operation\": \"training\", \"Algorithm\": \"Linear Learner\", \"epoch\": 8}, \"StartTime\": 1518540643.988545}\n",
      "\u001b[0m\n",
      "\u001b[31m#metrics {\"Metrics\": {\"training_binary_classification_cross_entropy\": {\"count\": 1, \"max\": 0.012703835455678313, \"sum\": 0.012703835455678313, \"min\": 0.012703835455678313}, \"validation_binary_classification_cross_entropy\": {\"count\": 1, \"max\": -Infinity, \"sum\": NaN, \"min\": Infinity}}, \"EndTime\": 1518540643.988581, \"Dimensions\": {\"model\": 30, \"Host\": \"algo-1\", \"Operation\": \"training\", \"Algorithm\": \"Linear Learner\", \"epoch\": 8}, \"StartTime\": 1518540643.988573}\n",
      "\u001b[0m\n",
      "\u001b[31m#metrics {\"Metrics\": {\"training_binary_classification_cross_entropy\": {\"count\": 1, \"max\": 0.013068433111144537, \"sum\": 0.013068433111144537, \"min\": 0.013068433111144537}, \"validation_binary_classification_cross_entropy\": {\"count\": 1, \"max\": -Infinity, \"sum\": NaN, \"min\": Infinity}}, \"EndTime\": 1518540643.988609, \"Dimensions\": {\"model\": 31, \"Host\": \"algo-1\", \"Operation\": \"training\", \"Algorithm\": \"Linear Learner\", \"epoch\": 8}, \"StartTime\": 1518540643.9886}\n",
      "\u001b[0m\n"
     ]
    },
    {
     "name": "stdout",
     "output_type": "stream",
     "text": [
      "\u001b[31m#metrics {\"Metrics\": {\"training_binary_classification_cross_entropy\": {\"count\": 1, \"max\": 0.004505495541470956, \"sum\": 0.004505495541470956, \"min\": 0.004505495541470956}, \"validation_binary_classification_cross_entropy\": {\"count\": 1, \"max\": -Infinity, \"sum\": NaN, \"min\": Infinity}}, \"EndTime\": 1518540665.74897, \"Dimensions\": {\"model\": 0, \"Host\": \"algo-1\", \"Operation\": \"training\", \"Algorithm\": \"Linear Learner\", \"epoch\": 9}, \"StartTime\": 1518540665.748883}\n",
      "\u001b[0m\n",
      "\u001b[31m#metrics {\"Metrics\": {\"training_binary_classification_cross_entropy\": {\"count\": 1, \"max\": 0.004010293081058675, \"sum\": 0.004010293081058675, \"min\": 0.004010293081058675}, \"validation_binary_classification_cross_entropy\": {\"count\": 1, \"max\": -Infinity, \"sum\": NaN, \"min\": Infinity}}, \"EndTime\": 1518540665.749038, \"Dimensions\": {\"model\": 1, \"Host\": \"algo-1\", \"Operation\": \"training\", \"Algorithm\": \"Linear Learner\", \"epoch\": 9}, \"StartTime\": 1518540665.749025}\n",
      "\u001b[0m\n",
      "\u001b[31m#metrics {\"Metrics\": {\"training_binary_classification_cross_entropy\": {\"count\": 1, \"max\": 0.004255344651893799, \"sum\": 0.004255344651893799, \"min\": 0.004255344651893799}, \"validation_binary_classification_cross_entropy\": {\"count\": 1, \"max\": -Infinity, \"sum\": NaN, \"min\": Infinity}}, \"EndTime\": 1518540665.749076, \"Dimensions\": {\"model\": 2, \"Host\": \"algo-1\", \"Operation\": \"training\", \"Algorithm\": \"Linear Learner\", \"epoch\": 9}, \"StartTime\": 1518540665.749066}\n",
      "\u001b[0m\n",
      "\u001b[31m#metrics {\"Metrics\": {\"training_binary_classification_cross_entropy\": {\"count\": 1, \"max\": 0.004009794415569449, \"sum\": 0.004009794415569449, \"min\": 0.004009794415569449}, \"validation_binary_classification_cross_entropy\": {\"count\": 1, \"max\": -Infinity, \"sum\": NaN, \"min\": Infinity}}, \"EndTime\": 1518540665.749109, \"Dimensions\": {\"model\": 3, \"Host\": \"algo-1\", \"Operation\": \"training\", \"Algorithm\": \"Linear Learner\", \"epoch\": 9}, \"StartTime\": 1518540665.7491}\n",
      "\u001b[0m\n",
      "\u001b[31m#metrics {\"Metrics\": {\"training_binary_classification_cross_entropy\": {\"count\": 1, \"max\": 0.0038669205634447048, \"sum\": 0.0038669205634447048, \"min\": 0.0038669205634447048}, \"validation_binary_classification_cross_entropy\": {\"count\": 1, \"max\": -Infinity, \"sum\": NaN, \"min\": Infinity}}, \"EndTime\": 1518540665.749147, \"Dimensions\": {\"model\": 4, \"Host\": \"algo-1\", \"Operation\": \"training\", \"Algorithm\": \"Linear Learner\", \"epoch\": 9}, \"StartTime\": 1518540665.749137}\n",
      "\u001b[0m\n",
      "\u001b[31m#metrics {\"Metrics\": {\"training_binary_classification_cross_entropy\": {\"count\": 1, \"max\": 0.006008855093728254, \"sum\": 0.006008855093728254, \"min\": 0.006008855093728254}, \"validation_binary_classification_cross_entropy\": {\"count\": 1, \"max\": -Infinity, \"sum\": NaN, \"min\": Infinity}}, \"EndTime\": 1518540665.749182, \"Dimensions\": {\"model\": 5, \"Host\": \"algo-1\", \"Operation\": \"training\", \"Algorithm\": \"Linear Learner\", \"epoch\": 9}, \"StartTime\": 1518540665.749172}\n",
      "\u001b[0m\n",
      "\u001b[31m#metrics {\"Metrics\": {\"training_binary_classification_cross_entropy\": {\"count\": 1, \"max\": 0.00384946655515716, \"sum\": 0.00384946655515716, \"min\": 0.00384946655515716}, \"validation_binary_classification_cross_entropy\": {\"count\": 1, \"max\": -Infinity, \"sum\": NaN, \"min\": Infinity}}, \"EndTime\": 1518540665.749212, \"Dimensions\": {\"model\": 6, \"Host\": \"algo-1\", \"Operation\": \"training\", \"Algorithm\": \"Linear Learner\", \"epoch\": 9}, \"StartTime\": 1518540665.749203}\n",
      "\u001b[0m\n",
      "\u001b[31m#metrics {\"Metrics\": {\"training_binary_classification_cross_entropy\": {\"count\": 1, \"max\": 0.005872559198451857, \"sum\": 0.005872559198451857, \"min\": 0.005872559198451857}, \"validation_binary_classification_cross_entropy\": {\"count\": 1, \"max\": -Infinity, \"sum\": NaN, \"min\": Infinity}}, \"EndTime\": 1518540665.749242, \"Dimensions\": {\"model\": 7, \"Host\": \"algo-1\", \"Operation\": \"training\", \"Algorithm\": \"Linear Learner\", \"epoch\": 9}, \"StartTime\": 1518540665.749233}\n",
      "\u001b[0m\n",
      "\u001b[31m#metrics {\"Metrics\": {\"training_binary_classification_cross_entropy\": {\"count\": 1, \"max\": 0.005221268843754707, \"sum\": 0.005221268843754707, \"min\": 0.005221268843754707}, \"validation_binary_classification_cross_entropy\": {\"count\": 1, \"max\": -Infinity, \"sum\": NaN, \"min\": Infinity}}, \"EndTime\": 1518540665.749271, \"Dimensions\": {\"model\": 8, \"Host\": \"algo-1\", \"Operation\": \"training\", \"Algorithm\": \"Linear Learner\", \"epoch\": 9}, \"StartTime\": 1518540665.749262}\n",
      "\u001b[0m\n",
      "\u001b[31m#metrics {\"Metrics\": {\"training_binary_classification_cross_entropy\": {\"count\": 1, \"max\": 0.004992413520588573, \"sum\": 0.004992413520588573, \"min\": 0.004992413520588573}, \"validation_binary_classification_cross_entropy\": {\"count\": 1, \"max\": -Infinity, \"sum\": NaN, \"min\": Infinity}}, \"EndTime\": 1518540665.749301, \"Dimensions\": {\"model\": 9, \"Host\": \"algo-1\", \"Operation\": \"training\", \"Algorithm\": \"Linear Learner\", \"epoch\": 9}, \"StartTime\": 1518540665.749291}\n",
      "\u001b[0m\n",
      "\u001b[31m#metrics {\"Metrics\": {\"training_binary_classification_cross_entropy\": {\"count\": 1, \"max\": 0.005048058870506574, \"sum\": 0.005048058870506574, \"min\": 0.005048058870506574}, \"validation_binary_classification_cross_entropy\": {\"count\": 1, \"max\": -Infinity, \"sum\": NaN, \"min\": Infinity}}, \"EndTime\": 1518540665.74933, \"Dimensions\": {\"model\": 10, \"Host\": \"algo-1\", \"Operation\": \"training\", \"Algorithm\": \"Linear Learner\", \"epoch\": 9}, \"StartTime\": 1518540665.749321}\n",
      "\u001b[0m\n",
      "\u001b[31m#metrics {\"Metrics\": {\"training_binary_classification_cross_entropy\": {\"count\": 1, \"max\": 0.004992413541758395, \"sum\": 0.004992413541758395, \"min\": 0.004992413541758395}, \"validation_binary_classification_cross_entropy\": {\"count\": 1, \"max\": -Infinity, \"sum\": NaN, \"min\": Infinity}}, \"EndTime\": 1518540665.74936, \"Dimensions\": {\"model\": 11, \"Host\": \"algo-1\", \"Operation\": \"training\", \"Algorithm\": \"Linear Learner\", \"epoch\": 9}, \"StartTime\": 1518540665.749351}\n",
      "\u001b[0m\n",
      "\u001b[31m#metrics {\"Metrics\": {\"training_binary_classification_cross_entropy\": {\"count\": 1, \"max\": 0.004898119423179382, \"sum\": 0.004898119423179382, \"min\": 0.004898119423179382}, \"validation_binary_classification_cross_entropy\": {\"count\": 1, \"max\": -Infinity, \"sum\": NaN, \"min\": Infinity}}, \"EndTime\": 1518540665.749389, \"Dimensions\": {\"model\": 12, \"Host\": \"algo-1\", \"Operation\": \"training\", \"Algorithm\": \"Linear Learner\", \"epoch\": 9}, \"StartTime\": 1518540665.74938}\n",
      "\u001b[0m\n",
      "\u001b[31m#metrics {\"Metrics\": {\"training_binary_classification_cross_entropy\": {\"count\": 1, \"max\": 0.006300828982641112, \"sum\": 0.006300828982641112, \"min\": 0.006300828982641112}, \"validation_binary_classification_cross_entropy\": {\"count\": 1, \"max\": -Infinity, \"sum\": NaN, \"min\": Infinity}}, \"EndTime\": 1518540665.749418, \"Dimensions\": {\"model\": 13, \"Host\": \"algo-1\", \"Operation\": \"training\", \"Algorithm\": \"Linear Learner\", \"epoch\": 9}, \"StartTime\": 1518540665.749409}\n",
      "\u001b[0m\n",
      "\u001b[31m#metrics {\"Metrics\": {\"training_binary_classification_cross_entropy\": {\"count\": 1, \"max\": 0.004904547084841024, \"sum\": 0.004904547084841024, \"min\": 0.004904547084841024}, \"validation_binary_classification_cross_entropy\": {\"count\": 1, \"max\": -Infinity, \"sum\": NaN, \"min\": Infinity}}, \"EndTime\": 1518540665.749447, \"Dimensions\": {\"model\": 14, \"Host\": \"algo-1\", \"Operation\": \"training\", \"Algorithm\": \"Linear Learner\", \"epoch\": 9}, \"StartTime\": 1518540665.749438}\n",
      "\u001b[0m\n",
      "\u001b[31m#metrics {\"Metrics\": {\"training_binary_classification_cross_entropy\": {\"count\": 1, \"max\": 0.006300837922056793, \"sum\": 0.006300837922056793, \"min\": 0.006300837922056793}, \"validation_binary_classification_cross_entropy\": {\"count\": 1, \"max\": -Infinity, \"sum\": NaN, \"min\": Infinity}}, \"EndTime\": 1518540665.749476, \"Dimensions\": {\"model\": 15, \"Host\": \"algo-1\", \"Operation\": \"training\", \"Algorithm\": \"Linear Learner\", \"epoch\": 9}, \"StartTime\": 1518540665.749467}\n",
      "\u001b[0m\n",
      "\u001b[31m#metrics {\"Metrics\": {\"training_binary_classification_cross_entropy\": {\"count\": 1, \"max\": 0.011783242104163611, \"sum\": 0.011783242104163611, \"min\": 0.011783242104163611}, \"validation_binary_classification_cross_entropy\": {\"count\": 1, \"max\": -Infinity, \"sum\": NaN, \"min\": Infinity}}, \"EndTime\": 1518540665.749505, \"Dimensions\": {\"model\": 16, \"Host\": \"algo-1\", \"Operation\": \"training\", \"Algorithm\": \"Linear Learner\", \"epoch\": 9}, \"StartTime\": 1518540665.749496}\n",
      "\u001b[0m\n",
      "\u001b[31m#metrics {\"Metrics\": {\"training_binary_classification_cross_entropy\": {\"count\": 1, \"max\": 0.01184659194261075, \"sum\": 0.01184659194261075, \"min\": 0.01184659194261075}, \"validation_binary_classification_cross_entropy\": {\"count\": 1, \"max\": -Infinity, \"sum\": NaN, \"min\": Infinity}}, \"EndTime\": 1518540665.749534, \"Dimensions\": {\"model\": 17, \"Host\": \"algo-1\", \"Operation\": \"training\", \"Algorithm\": \"Linear Learner\", \"epoch\": 9}, \"StartTime\": 1518540665.749525}\n",
      "\u001b[0m\n",
      "\u001b[31m#metrics {\"Metrics\": {\"training_binary_classification_cross_entropy\": {\"count\": 1, \"max\": 0.011770077425253439, \"sum\": 0.011770077425253439, \"min\": 0.011770077425253439}, \"validation_binary_classification_cross_entropy\": {\"count\": 1, \"max\": -Infinity, \"sum\": NaN, \"min\": Infinity}}, \"EndTime\": 1518540665.749562, \"Dimensions\": {\"model\": 18, \"Host\": \"algo-1\", \"Operation\": \"training\", \"Algorithm\": \"Linear Learner\", \"epoch\": 9}, \"StartTime\": 1518540665.749554}\n",
      "\u001b[0m\n",
      "\u001b[31m#metrics {\"Metrics\": {\"training_binary_classification_cross_entropy\": {\"count\": 1, \"max\": 0.01184659024737925, \"sum\": 0.01184659024737925, \"min\": 0.01184659024737925}, \"validation_binary_classification_cross_entropy\": {\"count\": 1, \"max\": -Infinity, \"sum\": NaN, \"min\": Infinity}}, \"EndTime\": 1518540665.749602, \"Dimensions\": {\"model\": 19, \"Host\": \"algo-1\", \"Operation\": \"training\", \"Algorithm\": \"Linear Learner\", \"epoch\": 9}, \"StartTime\": 1518540665.749593}\n",
      "\u001b[0m\n",
      "\u001b[31m#metrics {\"Metrics\": {\"training_binary_classification_cross_entropy\": {\"count\": 1, \"max\": 0.011764718556260488, \"sum\": 0.011764718556260488, \"min\": 0.011764718556260488}, \"validation_binary_classification_cross_entropy\": {\"count\": 1, \"max\": -Infinity, \"sum\": NaN, \"min\": Infinity}}, \"EndTime\": 1518540665.74963, \"Dimensions\": {\"model\": 20, \"Host\": \"algo-1\", \"Operation\": \"training\", \"Algorithm\": \"Linear Learner\", \"epoch\": 9}, \"StartTime\": 1518540665.749621}\n",
      "\u001b[0m\n",
      "\u001b[31m#metrics {\"Metrics\": {\"training_binary_classification_cross_entropy\": {\"count\": 1, \"max\": 0.012089582515682233, \"sum\": 0.012089582515682233, \"min\": 0.012089582515682233}, \"validation_binary_classification_cross_entropy\": {\"count\": 1, \"max\": -Infinity, \"sum\": NaN, \"min\": Infinity}}, \"EndTime\": 1518540665.749658, \"Dimensions\": {\"model\": 21, \"Host\": \"algo-1\", \"Operation\": \"training\", \"Algorithm\": \"Linear Learner\", \"epoch\": 9}, \"StartTime\": 1518540665.74965}\n",
      "\u001b[0m\n",
      "\u001b[31m#metrics {\"Metrics\": {\"training_binary_classification_cross_entropy\": {\"count\": 1, \"max\": 0.011769188922721458, \"sum\": 0.011769188922721458, \"min\": 0.011769188922721458}, \"validation_binary_classification_cross_entropy\": {\"count\": 1, \"max\": -Infinity, \"sum\": NaN, \"min\": Infinity}}, \"EndTime\": 1518540665.749686, \"Dimensions\": {\"model\": 22, \"Host\": \"algo-1\", \"Operation\": \"training\", \"Algorithm\": \"Linear Learner\", \"epoch\": 9}, \"StartTime\": 1518540665.749677}\n",
      "\u001b[0m\n",
      "\u001b[31m#metrics {\"Metrics\": {\"training_binary_classification_cross_entropy\": {\"count\": 1, \"max\": 0.012089588386679898, \"sum\": 0.012089588386679898, \"min\": 0.012089588386679898}, \"validation_binary_classification_cross_entropy\": {\"count\": 1, \"max\": -Infinity, \"sum\": NaN, \"min\": Infinity}}, \"EndTime\": 1518540665.749714, \"Dimensions\": {\"model\": 23, \"Host\": \"algo-1\", \"Operation\": \"training\", \"Algorithm\": \"Linear Learner\", \"epoch\": 9}, \"StartTime\": 1518540665.749705}\n",
      "\u001b[0m\n",
      "\u001b[31m#metrics {\"Metrics\": {\"training_binary_classification_cross_entropy\": {\"count\": 1, \"max\": 0.012723508089870574, \"sum\": 0.012723508089870574, \"min\": 0.012723508089870574}, \"validation_binary_classification_cross_entropy\": {\"count\": 1, \"max\": -Infinity, \"sum\": NaN, \"min\": Infinity}}, \"EndTime\": 1518540665.749742, \"Dimensions\": {\"model\": 24, \"Host\": \"algo-1\", \"Operation\": \"training\", \"Algorithm\": \"Linear Learner\", \"epoch\": 9}, \"StartTime\": 1518540665.749733}\n",
      "\u001b[0m\n",
      "\u001b[31m#metrics {\"Metrics\": {\"training_binary_classification_cross_entropy\": {\"count\": 1, \"max\": 0.012721733154811295, \"sum\": 0.012721733154811295, \"min\": 0.012721733154811295}, \"validation_binary_classification_cross_entropy\": {\"count\": 1, \"max\": -Infinity, \"sum\": NaN, \"min\": Infinity}}, \"EndTime\": 1518540665.74977, \"Dimensions\": {\"model\": 25, \"Host\": \"algo-1\", \"Operation\": \"training\", \"Algorithm\": \"Linear Learner\", \"epoch\": 9}, \"StartTime\": 1518540665.749761}\n",
      "\u001b[0m\n",
      "\u001b[31m#metrics {\"Metrics\": {\"training_binary_classification_cross_entropy\": {\"count\": 1, \"max\": 0.012704492840900958, \"sum\": 0.012704492840900958, \"min\": 0.012704492840900958}, \"validation_binary_classification_cross_entropy\": {\"count\": 1, \"max\": -Infinity, \"sum\": NaN, \"min\": Infinity}}, \"EndTime\": 1518540665.749797, \"Dimensions\": {\"model\": 26, \"Host\": \"algo-1\", \"Operation\": \"training\", \"Algorithm\": \"Linear Learner\", \"epoch\": 9}, \"StartTime\": 1518540665.749789}\n",
      "\u001b[0m\n",
      "\u001b[31m#metrics {\"Metrics\": {\"training_binary_classification_cross_entropy\": {\"count\": 1, \"max\": 0.01272176590340444, \"sum\": 0.01272176590340444, \"min\": 0.01272176590340444}, \"validation_binary_classification_cross_entropy\": {\"count\": 1, \"max\": -Infinity, \"sum\": NaN, \"min\": Infinity}}, \"EndTime\": 1518540665.749825, \"Dimensions\": {\"model\": 27, \"Host\": \"algo-1\", \"Operation\": \"training\", \"Algorithm\": \"Linear Learner\", \"epoch\": 9}, \"StartTime\": 1518540665.749817}\n",
      "\u001b[0m\n",
      "\u001b[31m#metrics {\"Metrics\": {\"training_binary_classification_cross_entropy\": {\"count\": 1, \"max\": 0.01270238969893939, \"sum\": 0.01270238969893939, \"min\": 0.01270238969893939}, \"validation_binary_classification_cross_entropy\": {\"count\": 1, \"max\": -Infinity, \"sum\": NaN, \"min\": Infinity}}, \"EndTime\": 1518540665.749853, \"Dimensions\": {\"model\": 28, \"Host\": \"algo-1\", \"Operation\": \"training\", \"Algorithm\": \"Linear Learner\", \"epoch\": 9}, \"StartTime\": 1518540665.749845}\n",
      "\u001b[0m\n",
      "\u001b[31m#metrics {\"Metrics\": {\"training_binary_classification_cross_entropy\": {\"count\": 1, \"max\": 0.013035495221525072, \"sum\": 0.013035495221525072, \"min\": 0.013035495221525072}, \"validation_binary_classification_cross_entropy\": {\"count\": 1, \"max\": -Infinity, \"sum\": NaN, \"min\": Infinity}}, \"EndTime\": 1518540665.749881, \"Dimensions\": {\"model\": 29, \"Host\": \"algo-1\", \"Operation\": \"training\", \"Algorithm\": \"Linear Learner\", \"epoch\": 9}, \"StartTime\": 1518540665.749873}\n",
      "\u001b[0m\n",
      "\u001b[31m#metrics {\"Metrics\": {\"training_binary_classification_cross_entropy\": {\"count\": 1, \"max\": 0.01270381375503947, \"sum\": 0.01270381375503947, \"min\": 0.01270381375503947}, \"validation_binary_classification_cross_entropy\": {\"count\": 1, \"max\": -Infinity, \"sum\": NaN, \"min\": Infinity}}, \"EndTime\": 1518540665.749909, \"Dimensions\": {\"model\": 30, \"Host\": \"algo-1\", \"Operation\": \"training\", \"Algorithm\": \"Linear Learner\", \"epoch\": 9}, \"StartTime\": 1518540665.749901}\n",
      "\u001b[0m\n",
      "\u001b[31m#metrics {\"Metrics\": {\"training_binary_classification_cross_entropy\": {\"count\": 1, \"max\": 0.013035462547849161, \"sum\": 0.013035462547849161, \"min\": 0.013035462547849161}, \"validation_binary_classification_cross_entropy\": {\"count\": 1, \"max\": -Infinity, \"sum\": NaN, \"min\": Infinity}}, \"EndTime\": 1518540665.749936, \"Dimensions\": {\"model\": 31, \"Host\": \"algo-1\", \"Operation\": \"training\", \"Algorithm\": \"Linear Learner\", \"epoch\": 9}, \"StartTime\": 1518540665.749928}\n",
      "\u001b[0m\n"
     ]
    },
    {
     "name": "stdout",
     "output_type": "stream",
     "text": [
      "\u001b[31m#metrics {\"Metrics\": {\"training_binary_classification_cross_entropy\": {\"count\": 1, \"max\": 0.004484348957871936, \"sum\": 0.004484348957871936, \"min\": 0.004484348957871936}, \"validation_binary_classification_cross_entropy\": {\"count\": 1, \"max\": -Infinity, \"sum\": NaN, \"min\": Infinity}}, \"EndTime\": 1518540687.307853, \"Dimensions\": {\"model\": 0, \"Host\": \"algo-1\", \"Operation\": \"training\", \"Algorithm\": \"Linear Learner\", \"epoch\": 10}, \"StartTime\": 1518540687.307762}\n",
      "\u001b[0m\n",
      "\u001b[31m#metrics {\"Metrics\": {\"training_binary_classification_cross_entropy\": {\"count\": 1, \"max\": 0.004022592038222884, \"sum\": 0.004022592038222884, \"min\": 0.004022592038222884}, \"validation_binary_classification_cross_entropy\": {\"count\": 1, \"max\": -Infinity, \"sum\": NaN, \"min\": Infinity}}, \"EndTime\": 1518540687.307922, \"Dimensions\": {\"model\": 1, \"Host\": \"algo-1\", \"Operation\": \"training\", \"Algorithm\": \"Linear Learner\", \"epoch\": 10}, \"StartTime\": 1518540687.307909}\n",
      "\u001b[0m\n",
      "\u001b[31m#metrics {\"Metrics\": {\"training_binary_classification_cross_entropy\": {\"count\": 1, \"max\": 0.004211591286846552, \"sum\": 0.004211591286846552, \"min\": 0.004211591286846552}, \"validation_binary_classification_cross_entropy\": {\"count\": 1, \"max\": -Infinity, \"sum\": NaN, \"min\": Infinity}}, \"EndTime\": 1518540687.307959, \"Dimensions\": {\"model\": 2, \"Host\": \"algo-1\", \"Operation\": \"training\", \"Algorithm\": \"Linear Learner\", \"epoch\": 10}, \"StartTime\": 1518540687.307949}\n",
      "\u001b[0m\n",
      "\u001b[31m#metrics {\"Metrics\": {\"training_binary_classification_cross_entropy\": {\"count\": 1, \"max\": 0.004024088239357115, \"sum\": 0.004024088239357115, \"min\": 0.004024088239357115}, \"validation_binary_classification_cross_entropy\": {\"count\": 1, \"max\": -Infinity, \"sum\": NaN, \"min\": Infinity}}, \"EndTime\": 1518540687.307992, \"Dimensions\": {\"model\": 3, \"Host\": \"algo-1\", \"Operation\": \"training\", \"Algorithm\": \"Linear Learner\", \"epoch\": 10}, \"StartTime\": 1518540687.307983}\n",
      "\u001b[0m\n",
      "\u001b[31m#metrics {\"Metrics\": {\"training_binary_classification_cross_entropy\": {\"count\": 1, \"max\": 0.0038653407705925317, \"sum\": 0.0038653407705925317, \"min\": 0.0038653407705925317}, \"validation_binary_classification_cross_entropy\": {\"count\": 1, \"max\": -Infinity, \"sum\": NaN, \"min\": Infinity}}, \"EndTime\": 1518540687.308023, \"Dimensions\": {\"model\": 4, \"Host\": \"algo-1\", \"Operation\": \"training\", \"Algorithm\": \"Linear Learner\", \"epoch\": 10}, \"StartTime\": 1518540687.308014}\n",
      "\u001b[0m\n",
      "\u001b[31m#metrics {\"Metrics\": {\"training_binary_classification_cross_entropy\": {\"count\": 1, \"max\": 0.005845328790589655, \"sum\": 0.005845328790589655, \"min\": 0.005845328790589655}, \"validation_binary_classification_cross_entropy\": {\"count\": 1, \"max\": -Infinity, \"sum\": NaN, \"min\": Infinity}}, \"EndTime\": 1518540687.308054, \"Dimensions\": {\"model\": 5, \"Host\": \"algo-1\", \"Operation\": \"training\", \"Algorithm\": \"Linear Learner\", \"epoch\": 10}, \"StartTime\": 1518540687.308045}\n",
      "\u001b[0m\n",
      "\u001b[31m#metrics {\"Metrics\": {\"training_binary_classification_cross_entropy\": {\"count\": 1, \"max\": 0.00384838671634819, \"sum\": 0.00384838671634819, \"min\": 0.00384838671634819}, \"validation_binary_classification_cross_entropy\": {\"count\": 1, \"max\": -Infinity, \"sum\": NaN, \"min\": Infinity}}, \"EndTime\": 1518540687.308084, \"Dimensions\": {\"model\": 6, \"Host\": \"algo-1\", \"Operation\": \"training\", \"Algorithm\": \"Linear Learner\", \"epoch\": 10}, \"StartTime\": 1518540687.308075}\n",
      "\u001b[0m\n",
      "\u001b[31m#metrics {\"Metrics\": {\"training_binary_classification_cross_entropy\": {\"count\": 1, \"max\": 0.006996697691346595, \"sum\": 0.006996697691346595, \"min\": 0.006996697691346595}, \"validation_binary_classification_cross_entropy\": {\"count\": 1, \"max\": -Infinity, \"sum\": NaN, \"min\": Infinity}}, \"EndTime\": 1518540687.308113, \"Dimensions\": {\"model\": 7, \"Host\": \"algo-1\", \"Operation\": \"training\", \"Algorithm\": \"Linear Learner\", \"epoch\": 10}, \"StartTime\": 1518540687.308104}\n",
      "\u001b[0m\n",
      "\u001b[31m#metrics {\"Metrics\": {\"training_binary_classification_cross_entropy\": {\"count\": 1, \"max\": 0.005207857994295387, \"sum\": 0.005207857994295387, \"min\": 0.005207857994295387}, \"validation_binary_classification_cross_entropy\": {\"count\": 1, \"max\": -Infinity, \"sum\": NaN, \"min\": Infinity}}, \"EndTime\": 1518540687.308142, \"Dimensions\": {\"model\": 8, \"Host\": \"algo-1\", \"Operation\": \"training\", \"Algorithm\": \"Linear Learner\", \"epoch\": 10}, \"StartTime\": 1518540687.308134}\n",
      "\u001b[0m\n",
      "\u001b[31m#metrics {\"Metrics\": {\"training_binary_classification_cross_entropy\": {\"count\": 1, \"max\": 0.004985605237339754, \"sum\": 0.004985605237339754, \"min\": 0.004985605237339754}, \"validation_binary_classification_cross_entropy\": {\"count\": 1, \"max\": -Infinity, \"sum\": NaN, \"min\": Infinity}}, \"EndTime\": 1518540687.308172, \"Dimensions\": {\"model\": 9, \"Host\": \"algo-1\", \"Operation\": \"training\", \"Algorithm\": \"Linear Learner\", \"epoch\": 10}, \"StartTime\": 1518540687.308163}\n",
      "\u001b[0m\n",
      "\u001b[31m#metrics {\"Metrics\": {\"training_binary_classification_cross_entropy\": {\"count\": 1, \"max\": 0.005017690771973756, \"sum\": 0.005017690771973756, \"min\": 0.005017690771973756}, \"validation_binary_classification_cross_entropy\": {\"count\": 1, \"max\": -Infinity, \"sum\": NaN, \"min\": Infinity}}, \"EndTime\": 1518540687.3082, \"Dimensions\": {\"model\": 10, \"Host\": \"algo-1\", \"Operation\": \"training\", \"Algorithm\": \"Linear Learner\", \"epoch\": 10}, \"StartTime\": 1518540687.308192}\n",
      "\u001b[0m\n",
      "\u001b[31m#metrics {\"Metrics\": {\"training_binary_classification_cross_entropy\": {\"count\": 1, \"max\": 0.004985605736064863, \"sum\": 0.004985605736064863, \"min\": 0.004985605736064863}, \"validation_binary_classification_cross_entropy\": {\"count\": 1, \"max\": -Infinity, \"sum\": NaN, \"min\": Infinity}}, \"EndTime\": 1518540687.30823, \"Dimensions\": {\"model\": 11, \"Host\": \"algo-1\", \"Operation\": \"training\", \"Algorithm\": \"Linear Learner\", \"epoch\": 10}, \"StartTime\": 1518540687.308221}\n",
      "\u001b[0m\n",
      "\u001b[31m#metrics {\"Metrics\": {\"training_binary_classification_cross_entropy\": {\"count\": 1, \"max\": 0.004897197788379278, \"sum\": 0.004897197788379278, \"min\": 0.004897197788379278}, \"validation_binary_classification_cross_entropy\": {\"count\": 1, \"max\": -Infinity, \"sum\": NaN, \"min\": Infinity}}, \"EndTime\": 1518540687.308259, \"Dimensions\": {\"model\": 12, \"Host\": \"algo-1\", \"Operation\": \"training\", \"Algorithm\": \"Linear Learner\", \"epoch\": 10}, \"StartTime\": 1518540687.30825}\n",
      "\u001b[0m\n",
      "\u001b[31m#metrics {\"Metrics\": {\"training_binary_classification_cross_entropy\": {\"count\": 1, \"max\": 0.00601727135074568, \"sum\": 0.00601727135074568, \"min\": 0.00601727135074568}, \"validation_binary_classification_cross_entropy\": {\"count\": 1, \"max\": -Infinity, \"sum\": NaN, \"min\": Infinity}}, \"EndTime\": 1518540687.308299, \"Dimensions\": {\"model\": 13, \"Host\": \"algo-1\", \"Operation\": \"training\", \"Algorithm\": \"Linear Learner\", \"epoch\": 10}, \"StartTime\": 1518540687.308279}\n",
      "\u001b[0m\n",
      "\u001b[31m#metrics {\"Metrics\": {\"training_binary_classification_cross_entropy\": {\"count\": 1, \"max\": 0.0049041122156962096, \"sum\": 0.0049041122156962096, \"min\": 0.0049041122156962096}, \"validation_binary_classification_cross_entropy\": {\"count\": 1, \"max\": -Infinity, \"sum\": NaN, \"min\": Infinity}}, \"EndTime\": 1518540687.308328, \"Dimensions\": {\"model\": 14, \"Host\": \"algo-1\", \"Operation\": \"training\", \"Algorithm\": \"Linear Learner\", \"epoch\": 10}, \"StartTime\": 1518540687.308319}\n",
      "\u001b[0m\n",
      "\u001b[31m#metrics {\"Metrics\": {\"training_binary_classification_cross_entropy\": {\"count\": 1, \"max\": 0.0060172773374386705, \"sum\": 0.0060172773374386705, \"min\": 0.0060172773374386705}, \"validation_binary_classification_cross_entropy\": {\"count\": 1, \"max\": -Infinity, \"sum\": NaN, \"min\": Infinity}}, \"EndTime\": 1518540687.308357, \"Dimensions\": {\"model\": 15, \"Host\": \"algo-1\", \"Operation\": \"training\", \"Algorithm\": \"Linear Learner\", \"epoch\": 10}, \"StartTime\": 1518540687.308349}\n",
      "\u001b[0m\n",
      "\u001b[31m#metrics {\"Metrics\": {\"training_binary_classification_cross_entropy\": {\"count\": 1, \"max\": 0.01178060655268919, \"sum\": 0.01178060655268919, \"min\": 0.01178060655268919}, \"validation_binary_classification_cross_entropy\": {\"count\": 1, \"max\": -Infinity, \"sum\": NaN, \"min\": Infinity}}, \"EndTime\": 1518540687.308386, \"Dimensions\": {\"model\": 16, \"Host\": \"algo-1\", \"Operation\": \"training\", \"Algorithm\": \"Linear Learner\", \"epoch\": 10}, \"StartTime\": 1518540687.308377}\n",
      "\u001b[0m\n",
      "\u001b[31m#metrics {\"Metrics\": {\"training_binary_classification_cross_entropy\": {\"count\": 1, \"max\": 0.011844644571344059, \"sum\": 0.011844644571344059, \"min\": 0.011844644571344059}, \"validation_binary_classification_cross_entropy\": {\"count\": 1, \"max\": -Infinity, \"sum\": NaN, \"min\": Infinity}}, \"EndTime\": 1518540687.308413, \"Dimensions\": {\"model\": 17, \"Host\": \"algo-1\", \"Operation\": \"training\", \"Algorithm\": \"Linear Learner\", \"epoch\": 10}, \"StartTime\": 1518540687.308405}\n",
      "\u001b[0m\n",
      "\u001b[31m#metrics {\"Metrics\": {\"training_binary_classification_cross_entropy\": {\"count\": 1, \"max\": 0.011769445296601358, \"sum\": 0.011769445296601358, \"min\": 0.011769445296601358}, \"validation_binary_classification_cross_entropy\": {\"count\": 1, \"max\": -Infinity, \"sum\": NaN, \"min\": Infinity}}, \"EndTime\": 1518540687.308442, \"Dimensions\": {\"model\": 18, \"Host\": \"algo-1\", \"Operation\": \"training\", \"Algorithm\": \"Linear Learner\", \"epoch\": 10}, \"StartTime\": 1518540687.308433}\n",
      "\u001b[0m\n",
      "\u001b[31m#metrics {\"Metrics\": {\"training_binary_classification_cross_entropy\": {\"count\": 1, \"max\": 0.011844643962431145, \"sum\": 0.011844643962431145, \"min\": 0.011844643962431145}, \"validation_binary_classification_cross_entropy\": {\"count\": 1, \"max\": -Infinity, \"sum\": NaN, \"min\": Infinity}}, \"EndTime\": 1518540687.308471, \"Dimensions\": {\"model\": 19, \"Host\": \"algo-1\", \"Operation\": \"training\", \"Algorithm\": \"Linear Learner\", \"epoch\": 10}, \"StartTime\": 1518540687.308462}\n",
      "\u001b[0m\n",
      "\u001b[31m#metrics {\"Metrics\": {\"training_binary_classification_cross_entropy\": {\"count\": 1, \"max\": 0.011761395003960793, \"sum\": 0.011761395003960793, \"min\": 0.011761395003960793}, \"validation_binary_classification_cross_entropy\": {\"count\": 1, \"max\": -Infinity, \"sum\": NaN, \"min\": Infinity}}, \"EndTime\": 1518540687.308499, \"Dimensions\": {\"model\": 20, \"Host\": \"algo-1\", \"Operation\": \"training\", \"Algorithm\": \"Linear Learner\", \"epoch\": 10}, \"StartTime\": 1518540687.30849}\n",
      "\u001b[0m\n",
      "\u001b[31m#metrics {\"Metrics\": {\"training_binary_classification_cross_entropy\": {\"count\": 1, \"max\": 0.012047038233416327, \"sum\": 0.012047038233416327, \"min\": 0.012047038233416327}, \"validation_binary_classification_cross_entropy\": {\"count\": 1, \"max\": -Infinity, \"sum\": NaN, \"min\": Infinity}}, \"EndTime\": 1518540687.308527, \"Dimensions\": {\"model\": 21, \"Host\": \"algo-1\", \"Operation\": \"training\", \"Algorithm\": \"Linear Learner\", \"epoch\": 10}, \"StartTime\": 1518540687.308519}\n",
      "\u001b[0m\n",
      "\u001b[31m#metrics {\"Metrics\": {\"training_binary_classification_cross_entropy\": {\"count\": 1, \"max\": 0.011769212809611995, \"sum\": 0.011769212809611995, \"min\": 0.011769212809611995}, \"validation_binary_classification_cross_entropy\": {\"count\": 1, \"max\": -Infinity, \"sum\": NaN, \"min\": Infinity}}, \"EndTime\": 1518540687.308555, \"Dimensions\": {\"model\": 22, \"Host\": \"algo-1\", \"Operation\": \"training\", \"Algorithm\": \"Linear Learner\", \"epoch\": 10}, \"StartTime\": 1518540687.308547}\n",
      "\u001b[0m\n",
      "\u001b[31m#metrics {\"Metrics\": {\"training_binary_classification_cross_entropy\": {\"count\": 1, \"max\": 0.012047040044745229, \"sum\": 0.012047040044745229, \"min\": 0.012047040044745229}, \"validation_binary_classification_cross_entropy\": {\"count\": 1, \"max\": -Infinity, \"sum\": NaN, \"min\": Infinity}}, \"EndTime\": 1518540687.308583, \"Dimensions\": {\"model\": 23, \"Host\": \"algo-1\", \"Operation\": \"training\", \"Algorithm\": \"Linear Learner\", \"epoch\": 10}, \"StartTime\": 1518540687.308575}\n",
      "\u001b[0m\n",
      "\u001b[31m#metrics {\"Metrics\": {\"training_binary_classification_cross_entropy\": {\"count\": 1, \"max\": 0.012720975050156614, \"sum\": 0.012720975050156614, \"min\": 0.012720975050156614}, \"validation_binary_classification_cross_entropy\": {\"count\": 1, \"max\": -Infinity, \"sum\": NaN, \"min\": Infinity}}, \"EndTime\": 1518540687.308611, \"Dimensions\": {\"model\": 24, \"Host\": \"algo-1\", \"Operation\": \"training\", \"Algorithm\": \"Linear Learner\", \"epoch\": 10}, \"StartTime\": 1518540687.308603}\n",
      "\u001b[0m\n",
      "\u001b[31m#metrics {\"Metrics\": {\"training_binary_classification_cross_entropy\": {\"count\": 1, \"max\": 0.012720586984571684, \"sum\": 0.012720586984571684, \"min\": 0.012720586984571684}, \"validation_binary_classification_cross_entropy\": {\"count\": 1, \"max\": -Infinity, \"sum\": NaN, \"min\": Infinity}}, \"EndTime\": 1518540687.308639, \"Dimensions\": {\"model\": 25, \"Host\": \"algo-1\", \"Operation\": \"training\", \"Algorithm\": \"Linear Learner\", \"epoch\": 10}, \"StartTime\": 1518540687.308631}\n",
      "\u001b[0m\n",
      "\u001b[31m#metrics {\"Metrics\": {\"training_binary_classification_cross_entropy\": {\"count\": 1, \"max\": 0.012703913864810543, \"sum\": 0.012703913864810543, \"min\": 0.012703913864810543}, \"validation_binary_classification_cross_entropy\": {\"count\": 1, \"max\": -Infinity, \"sum\": NaN, \"min\": Infinity}}, \"EndTime\": 1518540687.308667, \"Dimensions\": {\"model\": 26, \"Host\": \"algo-1\", \"Operation\": \"training\", \"Algorithm\": \"Linear Learner\", \"epoch\": 10}, \"StartTime\": 1518540687.308659}\n",
      "\u001b[0m\n",
      "\u001b[31m#metrics {\"Metrics\": {\"training_binary_classification_cross_entropy\": {\"count\": 1, \"max\": 0.012720593931864064, \"sum\": 0.012720593931864064, \"min\": 0.012720593931864064}, \"validation_binary_classification_cross_entropy\": {\"count\": 1, \"max\": -Infinity, \"sum\": NaN, \"min\": Infinity}}, \"EndTime\": 1518540687.308696, \"Dimensions\": {\"model\": 27, \"Host\": \"algo-1\", \"Operation\": \"training\", \"Algorithm\": \"Linear Learner\", \"epoch\": 10}, \"StartTime\": 1518540687.308687}\n",
      "\u001b[0m\n",
      "\u001b[31m#metrics {\"Metrics\": {\"training_binary_classification_cross_entropy\": {\"count\": 1, \"max\": 0.01270207726362958, \"sum\": 0.01270207726362958, \"min\": 0.01270207726362958}, \"validation_binary_classification_cross_entropy\": {\"count\": 1, \"max\": -Infinity, \"sum\": NaN, \"min\": Infinity}}, \"EndTime\": 1518540687.308724, \"Dimensions\": {\"model\": 28, \"Host\": \"algo-1\", \"Operation\": \"training\", \"Algorithm\": \"Linear Learner\", \"epoch\": 10}, \"StartTime\": 1518540687.308715}\n",
      "\u001b[0m\n",
      "\u001b[31m#metrics {\"Metrics\": {\"training_binary_classification_cross_entropy\": {\"count\": 1, \"max\": 0.013001564804008268, \"sum\": 0.013001564804008268, \"min\": 0.013001564804008268}, \"validation_binary_classification_cross_entropy\": {\"count\": 1, \"max\": -Infinity, \"sum\": NaN, \"min\": Infinity}}, \"EndTime\": 1518540687.308752, \"Dimensions\": {\"model\": 29, \"Host\": \"algo-1\", \"Operation\": \"training\", \"Algorithm\": \"Linear Learner\", \"epoch\": 10}, \"StartTime\": 1518540687.308744}\n",
      "\u001b[0m\n",
      "\u001b[31m#metrics {\"Metrics\": {\"training_binary_classification_cross_entropy\": {\"count\": 1, \"max\": 0.012703781923705556, \"sum\": 0.012703781923705556, \"min\": 0.012703781923705556}, \"validation_binary_classification_cross_entropy\": {\"count\": 1, \"max\": -Infinity, \"sum\": NaN, \"min\": Infinity}}, \"EndTime\": 1518540687.308781, \"Dimensions\": {\"model\": 30, \"Host\": \"algo-1\", \"Operation\": \"training\", \"Algorithm\": \"Linear Learner\", \"epoch\": 10}, \"StartTime\": 1518540687.308772}\n",
      "\u001b[0m\n",
      "\u001b[31m#metrics {\"Metrics\": {\"training_binary_classification_cross_entropy\": {\"count\": 1, \"max\": 0.013001554854902397, \"sum\": 0.013001554854902397, \"min\": 0.013001554854902397}, \"validation_binary_classification_cross_entropy\": {\"count\": 1, \"max\": -Infinity, \"sum\": NaN, \"min\": Infinity}}, \"EndTime\": 1518540687.308809, \"Dimensions\": {\"model\": 31, \"Host\": \"algo-1\", \"Operation\": \"training\", \"Algorithm\": \"Linear Learner\", \"epoch\": 10}, \"StartTime\": 1518540687.3088}\n",
      "\u001b[0m\n",
      "\u001b[31m[02/13/2018 16:51:27 WARNING 140683661657920] wait_for_all_workers will not sync workers since the kv store is not running distributed\u001b[0m\n",
      "\u001b[31m[02/13/2018 16:51:27 INFO 140683661657920] Update[9961]: now learning rate arrived at 1.00000e-05, will not change in the future\u001b[0m\n",
      "\u001b[31m[02/13/2018 16:51:27 INFO 140683661657920] Update[9961]: now learning rate arrived at 1.00000e-04, will not change in the future\u001b[0m\n",
      "\u001b[31m[02/13/2018 16:51:27 INFO 140683661657920] Update[9961]: now learning rate arrived at 1.00000e-05, will not change in the future\u001b[0m\n",
      "\u001b[31m[02/13/2018 16:51:27 INFO 140683661657920] Update[9961]: now learning rate arrived at 1.00000e-04, will not change in the future\u001b[0m\n",
      "\u001b[31m[02/13/2018 16:51:27 INFO 140683661657920] Update[9961]: now learning rate arrived at 1.00000e-05, will not change in the future\u001b[0m\n",
      "\u001b[31m[02/13/2018 16:51:27 INFO 140683661657920] Update[9961]: now learning rate arrived at 1.00000e-04, will not change in the future\u001b[0m\n",
      "\u001b[31m[02/13/2018 16:51:27 INFO 140683661657920] Update[9961]: now learning rate arrived at 1.00000e-05, will not change in the future\u001b[0m\n",
      "\u001b[31m[02/13/2018 16:51:27 INFO 140683661657920] Update[9961]: now learning rate arrived at 1.00000e-04, will not change in the future\u001b[0m\n",
      "\u001b[31m[02/13/2018 16:51:27 INFO 140683661657920] Update[9961]: now learning rate arrived at 1.00000e-05, will not change in the future\u001b[0m\n",
      "\u001b[31m[02/13/2018 16:51:27 INFO 140683661657920] Update[9961]: now learning rate arrived at 1.00000e-04, will not change in the future\u001b[0m\n",
      "\u001b[31m[02/13/2018 16:51:27 INFO 140683661657920] Update[9961]: now learning rate arrived at 1.00000e-05, will not change in the future\u001b[0m\n",
      "\u001b[31m[02/13/2018 16:51:27 INFO 140683661657920] Update[9961]: now learning rate arrived at 1.00000e-04, will not change in the future\u001b[0m\n",
      "\u001b[31m[02/13/2018 16:51:27 INFO 140683661657920] Update[9961]: now learning rate arrived at 1.00000e-05, will not change in the future\u001b[0m\n",
      "\u001b[31m[02/13/2018 16:51:27 INFO 140683661657920] Update[9961]: now learning rate arrived at 1.00000e-04, will not change in the future\u001b[0m\n",
      "\u001b[31m[02/13/2018 16:51:27 INFO 140683661657920] Update[9961]: now learning rate arrived at 1.00000e-05, will not change in the future\u001b[0m\n",
      "\u001b[31m[02/13/2018 16:51:27 INFO 140683661657920] Update[9961]: now learning rate arrived at 1.00000e-04, will not change in the future\u001b[0m\n",
      "\u001b[31m#metrics {\"Metrics\": {\"f1\": {\"count\": 1, \"max\": 0.8033707865168539, \"sum\": 0.8033707865168539, \"min\": 0.8033707865168539}, \"threshold_for_accuracy\": {\"count\": 1, \"max\": 0.12957419455051422, \"sum\": 0.12957419455051422, \"min\": 0.12957419455051422}, \"threshold_for_precision_at_target_recall\": {\"count\": 1, \"max\": 0.06492823362350464, \"sum\": 0.06492823362350464, \"min\": 0.06492823362350464}, \"threshold_for_recall_at_target_precision\": {\"count\": 1, \"max\": 0.0820397362112999, \"sum\": 0.0820397362112999, \"min\": 0.0820397362112999}, \"recall_at_precision\": {\"count\": 1, \"max\": 0.7971014492754211, \"sum\": 0.7971014492754211, \"min\": 0.7971014492754211}, \"precision_at_target_recall\": {\"count\": 1, \"max\": 0.798270893371816, \"sum\": 0.798270893371816, \"min\": 0.798270893371816}, \"accuracy\": {\"count\": 1, \"max\": 0.999332878553801, \"sum\": 0.999332878553801, \"min\": 0.999332878553801}, \"threshold_for_f1\": {\"count\": 1, \"max\": 0.038537416607141495, \"sum\": 0.038537416607141495, \"min\": 0.038537416607141495}}, \"EndTime\": 1518540690.808755, \"Dimensions\": {\"model\": 0, \"Host\": \"algo-1\", \"Operation\": \"training\", \"Algorithm\": \"Linear Learner\"}, \"StartTime\": 1518540690.800809}\n",
      "\u001b[0m\n",
      "\u001b[31m#metrics {\"Metrics\": {\"f1\": {\"count\": 1, \"max\": 0.8, \"sum\": 0.8, \"min\": 0.8}, \"threshold_for_accuracy\": {\"count\": 1, \"max\": 0.1048601046204567, \"sum\": 0.1048601046204567, \"min\": 0.1048601046204567}, \"threshold_for_precision_at_target_recall\": {\"count\": 1, \"max\": 0.06992629915475845, \"sum\": 0.06992629915475845, \"min\": 0.06992629915475845}, \"threshold_for_recall_at_target_precision\": {\"count\": 1, \"max\": 0.1048601046204567, \"sum\": 0.1048601046204567, \"min\": 0.1048601046204567}, \"recall_at_precision\": {\"count\": 1, \"max\": 0.7826086956522369, \"sum\": 0.7826086956522369, \"min\": 0.7826086956522369}, \"precision_at_target_recall\": {\"count\": 1, \"max\": 0.789772727272787, \"sum\": 0.789772727272787, \"min\": 0.789772727272787}, \"accuracy\": {\"count\": 1, \"max\": 0.9993027828494613, \"sum\": 0.9993027828494613, \"min\": 0.9993027828494613}, \"threshold_for_f1\": {\"count\": 1, \"max\": 0.05500459298491478, \"sum\": 0.05500459298491478, \"min\": 0.05500459298491478}}, \"EndTime\": 1518540690.816887, \"Dimensions\": {\"model\": 1, \"Host\": \"algo-1\", \"Operation\": \"training\", \"Algorithm\": \"Linear Learner\"}, \"StartTime\": 1518540690.808869}\n",
      "\u001b[0m\n",
      "\u001b[31m#metrics {\"Metrics\": {\"f1\": {\"count\": 1, \"max\": 0.7982583454281568, \"sum\": 0.7982583454281568, \"min\": 0.7982583454281568}, \"threshold_for_accuracy\": {\"count\": 1, \"max\": 0.06907884776592255, \"sum\": 0.06907884776592255, \"min\": 0.06907884776592255}, \"threshold_for_precision_at_target_recall\": {\"count\": 1, \"max\": 0.05102934688329697, \"sum\": 0.05102934688329697, \"min\": 0.05102934688329697}, \"threshold_for_recall_at_target_precision\": {\"count\": 1, \"max\": 0.11330948770046234, \"sum\": 0.11330948770046234, \"min\": 0.11330948770046234}, \"recall_at_precision\": {\"count\": 1, \"max\": 0.7594202898551422, \"sum\": 0.7594202898551422, \"min\": 0.7594202898551422}, \"precision_at_target_recall\": {\"count\": 1, \"max\": 0.789772727272787, \"sum\": 0.789772727272787, \"min\": 0.789772727272787}, \"accuracy\": {\"count\": 1, \"max\": 0.9993027828494613, \"sum\": 0.9993027828494613, \"min\": 0.9993027828494613}, \"threshold_for_f1\": {\"count\": 1, \"max\": 0.06907884776592255, \"sum\": 0.06907884776592255, \"min\": 0.06907884776592255}}, \"EndTime\": 1518540690.82502, \"Dimensions\": {\"model\": 2, \"Host\": \"algo-1\", \"Operation\": \"training\", \"Algorithm\": \"Linear Learner\"}, \"StartTime\": 1518540690.816955}\n",
      "\u001b[0m\n",
      "\u001b[31m#metrics {\"Metrics\": {\"f1\": {\"count\": 1, \"max\": 0.8, \"sum\": 0.8, \"min\": 0.8}, \"threshold_for_accuracy\": {\"count\": 1, \"max\": 0.10471097379922867, \"sum\": 0.10471097379922867, \"min\": 0.10471097379922867}, \"threshold_for_precision_at_target_recall\": {\"count\": 1, \"max\": 0.07017122954130173, \"sum\": 0.07017122954130173, \"min\": 0.07017122954130173}, \"threshold_for_recall_at_target_precision\": {\"count\": 1, \"max\": 0.10471097379922867, \"sum\": 0.10471097379922867, \"min\": 0.10471097379922867}, \"recall_at_precision\": {\"count\": 1, \"max\": 0.7826086956522369, \"sum\": 0.7826086956522369, \"min\": 0.7826086956522369}, \"precision_at_target_recall\": {\"count\": 1, \"max\": 0.789772727272787, \"sum\": 0.789772727272787, \"min\": 0.789772727272787}, \"accuracy\": {\"count\": 1, \"max\": 0.9993027828494613, \"sum\": 0.9993027828494613, \"min\": 0.9993027828494613}, \"threshold_for_f1\": {\"count\": 1, \"max\": 0.054946474730968475, \"sum\": 0.054946474730968475, \"min\": 0.054946474730968475}}, \"EndTime\": 1518540690.832974, \"Dimensions\": {\"model\": 3, \"Host\": \"algo-1\", \"Operation\": \"training\", \"Algorithm\": \"Linear Learner\"}, \"StartTime\": 1518540690.825085}\n",
      "\u001b[0m\n",
      "\u001b[31m#metrics {\"Metrics\": {\"f1\": {\"count\": 1, \"max\": 0.7947598253275109, \"sum\": 0.7947598253275109, \"min\": 0.7947598253275109}, \"threshold_for_accuracy\": {\"count\": 1, \"max\": 0.11456543952226639, \"sum\": 0.11456543952226639, \"min\": 0.11456543952226639}, \"threshold_for_precision_at_target_recall\": {\"count\": 1, \"max\": 0.0626147910952568, \"sum\": 0.0626147910952568, \"min\": 0.0626147910952568}, \"threshold_for_recall_at_target_precision\": {\"count\": 1, \"max\": 0.11456543952226639, \"sum\": 0.11456543952226639, \"min\": 0.11456543952226639}, \"recall_at_precision\": {\"count\": 1, \"max\": 0.7739130434783263, \"sum\": 0.7739130434783263, \"min\": 0.7739130434783263}, \"precision_at_target_recall\": {\"count\": 1, \"max\": 0.7793296089386091, \"sum\": 0.7793296089386091, \"min\": 0.7793296089386091}, \"accuracy\": {\"count\": 1, \"max\": 0.9992927509480147, \"sum\": 0.9992927509480147, \"min\": 0.9992927509480147}, \"threshold_for_f1\": {\"count\": 1, \"max\": 0.09089983254671097, \"sum\": 0.09089983254671097, \"min\": 0.09089983254671097}}, \"EndTime\": 1518540690.840953, \"Dimensions\": {\"model\": 4, \"Host\": \"algo-1\", \"Operation\": \"training\", \"Algorithm\": \"Linear Learner\"}, \"StartTime\": 1518540690.83304}\n",
      "\u001b[0m\n",
      "\u001b[31m#metrics {\"Metrics\": {\"f1\": {\"count\": 1, \"max\": 0.8288288288288288, \"sum\": 0.8288288288288288, \"min\": 0.8288288288288288}, \"threshold_for_accuracy\": {\"count\": 1, \"max\": 0.4824974536895752, \"sum\": 0.4824974536895752, \"min\": 0.4824974536895752}, \"threshold_for_precision_at_target_recall\": {\"count\": 1, \"max\": 0.4824974536895752, \"sum\": 0.4824974536895752, \"min\": 0.4824974536895752}, \"threshold_for_recall_at_target_precision\": {\"count\": 1, \"max\": 0.4080454409122467, \"sum\": 0.4080454409122467, \"min\": 0.4080454409122467}, \"recall_at_precision\": {\"count\": 1, \"max\": 0.8057971014493317, \"sum\": 0.8057971014493317, \"min\": 0.8057971014493317}, \"precision_at_target_recall\": {\"count\": 1, \"max\": 0.8598130841121931, \"sum\": 0.8598130841121931, \"min\": 0.8598130841121931}, \"accuracy\": {\"count\": 1, \"max\": 0.9994281816175438, \"sum\": 0.9994281816175438, \"min\": 0.9994281816175438}, \"threshold_for_f1\": {\"count\": 1, \"max\": 0.4824974536895752, \"sum\": 0.4824974536895752, \"min\": 0.4824974536895752}}, \"EndTime\": 1518540690.848625, \"Dimensions\": {\"model\": 5, \"Host\": \"algo-1\", \"Operation\": \"training\", \"Algorithm\": \"Linear Learner\"}, \"StartTime\": 1518540690.841032}\n",
      "\u001b[0m\n",
      "\u001b[31m#metrics {\"Metrics\": {\"f1\": {\"count\": 1, \"max\": 0.7965116279069767, \"sum\": 0.7965116279069767, \"min\": 0.7965116279069767}, \"threshold_for_accuracy\": {\"count\": 1, \"max\": 0.09965548664331436, \"sum\": 0.09965548664331436, \"min\": 0.09965548664331436}, \"threshold_for_precision_at_target_recall\": {\"count\": 1, \"max\": 0.0655875951051712, \"sum\": 0.0655875951051712, \"min\": 0.0655875951051712}, \"threshold_for_recall_at_target_precision\": {\"count\": 1, \"max\": 0.09965548664331436, \"sum\": 0.09965548664331436, \"min\": 0.09965548664331436}, \"recall_at_precision\": {\"count\": 1, \"max\": 0.7826086956522369, \"sum\": 0.7826086956522369, \"min\": 0.7826086956522369}, \"precision_at_target_recall\": {\"count\": 1, \"max\": 0.7787114845938995, \"sum\": 0.7787114845938995, \"min\": 0.7787114845938995}, \"accuracy\": {\"count\": 1, \"max\": 0.9993027828494613, \"sum\": 0.9993027828494613, \"min\": 0.9993027828494613}, \"threshold_for_f1\": {\"count\": 1, \"max\": 0.08783532679080963, \"sum\": 0.08783532679080963, \"min\": 0.08783532679080963}}, \"EndTime\": 1518540690.856638, \"Dimensions\": {\"model\": 6, \"Host\": \"algo-1\", \"Operation\": \"training\", \"Algorithm\": \"Linear Learner\"}, \"StartTime\": 1518540690.848692}\n",
      "\u001b[0m\n",
      "\u001b[31m#metrics {\"Metrics\": {\"f1\": {\"count\": 1, \"max\": 0.8111273792093704, \"sum\": 0.8111273792093704, \"min\": 0.8111273792093704}, \"threshold_for_accuracy\": {\"count\": 1, \"max\": 0.35106074810028076, \"sum\": 0.35106074810028076, \"min\": 0.35106074810028076}, \"threshold_for_precision_at_target_recall\": {\"count\": 1, \"max\": 0.35106074810028076, \"sum\": 0.35106074810028076, \"min\": 0.35106074810028076}, \"threshold_for_recall_at_target_precision\": {\"count\": 1, \"max\": 0.35106074810028076, \"sum\": 0.35106074810028076, \"min\": 0.35106074810028076}, \"recall_at_precision\": {\"count\": 1, \"max\": 0.8028985507246948, \"sum\": 0.8028985507246948, \"min\": 0.8028985507246948}, \"precision_at_target_recall\": {\"count\": 1, \"max\": 0.8195266272189883, \"sum\": 0.8195266272189883, \"min\": 0.8195266272189883}, \"accuracy\": {\"count\": 1, \"max\": 0.9993529423566943, \"sum\": 0.9993529423566943, \"min\": 0.9993529423566943}, \"threshold_for_f1\": {\"count\": 1, \"max\": 0.35106074810028076, \"sum\": 0.35106074810028076, \"min\": 0.35106074810028076}}, \"EndTime\": 1518540690.864431, \"Dimensions\": {\"model\": 7, \"Host\": \"algo-1\", \"Operation\": \"training\", \"Algorithm\": \"Linear Learner\"}, \"StartTime\": 1518540690.856706}\n",
      "\u001b[0m\n",
      "\u001b[31m#metrics {\"Metrics\": {\"f1\": {\"count\": 1, \"max\": 0.8184615384615385, \"sum\": 0.8184615384615385, \"min\": 0.8184615384615385}, \"threshold_for_accuracy\": {\"count\": 1, \"max\": 0.03788495063781738, \"sum\": 0.03788495063781738, \"min\": 0.03788495063781738}, \"threshold_for_precision_at_target_recall\": {\"count\": 1, \"max\": 0.019479040056467056, \"sum\": 0.019479040056467056, \"min\": 0.019479040056467056}, \"threshold_for_recall_at_target_precision\": {\"count\": 1, \"max\": 0.019479040056467056, \"sum\": 0.019479040056467056, \"min\": 0.019479040056467056}, \"recall_at_precision\": {\"count\": 1, \"max\": 0.8086956521739684, \"sum\": 0.8086956521739684, \"min\": 0.8086956521739684}, \"precision_at_target_recall\": {\"count\": 1, \"max\": 0.8086956521739684, \"sum\": 0.8086956521739684, \"min\": 0.8086956521739684}, \"accuracy\": {\"count\": 1, \"max\": 0.9994081178146506, \"sum\": 0.9994081178146506, \"min\": 0.9994081178146506}, \"threshold_for_f1\": {\"count\": 1, \"max\": 0.03788495063781738, \"sum\": 0.03788495063781738, \"min\": 0.03788495063781738}}, \"EndTime\": 1518540690.872124, \"Dimensions\": {\"model\": 8, \"Host\": \"algo-1\", \"Operation\": \"training\", \"Algorithm\": \"Linear Learner\"}, \"StartTime\": 1518540690.8645}\n",
      "\u001b[0m\n",
      "\u001b[31m#metrics {\"Metrics\": {\"f1\": {\"count\": 1, \"max\": 0.8040345821325648, \"sum\": 0.8040345821325648, \"min\": 0.8040345821325648}, \"threshold_for_accuracy\": {\"count\": 1, \"max\": 0.06382371485233307, \"sum\": 0.06382371485233307, \"min\": 0.06382371485233307}, \"threshold_for_precision_at_target_recall\": {\"count\": 1, \"max\": 0.01665862649679184, \"sum\": 0.01665862649679184, \"min\": 0.01665862649679184}, \"threshold_for_recall_at_target_precision\": {\"count\": 1, \"max\": 0.06382371485233307, \"sum\": 0.06382371485233307, \"min\": 0.06382371485233307}, \"recall_at_precision\": {\"count\": 1, \"max\": 0.7362318840580475, \"sum\": 0.7362318840580475, \"min\": 0.7362318840580475}, \"precision_at_target_recall\": {\"count\": 1, \"max\": 0.7994269340974787, \"sum\": 0.7994269340974787, \"min\": 0.7994269340974787}, \"accuracy\": {\"count\": 1, \"max\": 0.9993529423566943, \"sum\": 0.9993529423566943, \"min\": 0.9993529423566943}, \"threshold_for_f1\": {\"count\": 1, \"max\": 0.01665862649679184, \"sum\": 0.01665862649679184, \"min\": 0.01665862649679184}}, \"EndTime\": 1518540690.880119, \"Dimensions\": {\"model\": 9, \"Host\": \"algo-1\", \"Operation\": \"training\", \"Algorithm\": \"Linear Learner\"}, \"StartTime\": 1518540690.872185}\n",
      "\u001b[0m\n",
      "\u001b[31m#metrics {\"Metrics\": {\"f1\": {\"count\": 1, \"max\": 0.8184615384615385, \"sum\": 0.8184615384615385, \"min\": 0.8184615384615385}, \"threshold_for_accuracy\": {\"count\": 1, \"max\": 0.032136838883161545, \"sum\": 0.032136838883161545, \"min\": 0.032136838883161545}, \"threshold_for_precision_at_target_recall\": {\"count\": 1, \"max\": 0.017181508243083954, \"sum\": 0.017181508243083954, \"min\": 0.017181508243083954}, \"threshold_for_recall_at_target_precision\": {\"count\": 1, \"max\": 0.017181508243083954, \"sum\": 0.017181508243083954, \"min\": 0.017181508243083954}, \"recall_at_precision\": {\"count\": 1, \"max\": 0.8028985507246948, \"sum\": 0.8028985507246948, \"min\": 0.8028985507246948}, \"precision_at_target_recall\": {\"count\": 1, \"max\": 0.8195266272189883, \"sum\": 0.8195266272189883, \"min\": 0.8195266272189883}, \"accuracy\": {\"count\": 1, \"max\": 0.9994081178146506, \"sum\": 0.9994081178146506, \"min\": 0.9994081178146506}, \"threshold_for_f1\": {\"count\": 1, \"max\": 0.032136838883161545, \"sum\": 0.032136838883161545, \"min\": 0.032136838883161545}}, \"EndTime\": 1518540690.887795, \"Dimensions\": {\"model\": 10, \"Host\": \"algo-1\", \"Operation\": \"training\", \"Algorithm\": \"Linear Learner\"}, \"StartTime\": 1518540690.880182}\n",
      "\u001b[0m\n",
      "\u001b[31m#metrics {\"Metrics\": {\"f1\": {\"count\": 1, \"max\": 0.8040345821325648, \"sum\": 0.8040345821325648, \"min\": 0.8040345821325648}, \"threshold_for_accuracy\": {\"count\": 1, \"max\": 0.06382371485233307, \"sum\": 0.06382371485233307, \"min\": 0.06382371485233307}, \"threshold_for_precision_at_target_recall\": {\"count\": 1, \"max\": 0.016658587381243706, \"sum\": 0.016658587381243706, \"min\": 0.016658587381243706}, \"threshold_for_recall_at_target_precision\": {\"count\": 1, \"max\": 0.06382371485233307, \"sum\": 0.06382371485233307, \"min\": 0.06382371485233307}, \"recall_at_precision\": {\"count\": 1, \"max\": 0.7362318840580475, \"sum\": 0.7362318840580475, \"min\": 0.7362318840580475}, \"precision_at_target_recall\": {\"count\": 1, \"max\": 0.7994269340974787, \"sum\": 0.7994269340974787, \"min\": 0.7994269340974787}, \"accuracy\": {\"count\": 1, \"max\": 0.9993529423566943, \"sum\": 0.9993529423566943, \"min\": 0.9993529423566943}, \"threshold_for_f1\": {\"count\": 1, \"max\": 0.016658587381243706, \"sum\": 0.016658587381243706, \"min\": 0.016658587381243706}}, \"EndTime\": 1518540690.89576, \"Dimensions\": {\"model\": 11, \"Host\": \"algo-1\", \"Operation\": \"training\", \"Algorithm\": \"Linear Learner\"}, \"StartTime\": 1518540690.887861}\n",
      "\u001b[0m\n",
      "\u001b[31m#metrics {\"Metrics\": {\"f1\": {\"count\": 1, \"max\": 0.8220858895705522, \"sum\": 0.8220858895705522, \"min\": 0.8220858895705522}, \"threshold_for_accuracy\": {\"count\": 1, \"max\": 0.028892118483781815, \"sum\": 0.028892118483781815, \"min\": 0.028892118483781815}, \"threshold_for_precision_at_target_recall\": {\"count\": 1, \"max\": 0.018361518159508705, \"sum\": 0.018361518159508705, \"min\": 0.018361518159508705}, \"threshold_for_recall_at_target_precision\": {\"count\": 1, \"max\": 0.01731589436531067, \"sum\": 0.01731589436531067, \"min\": 0.01731589436531067}, \"recall_at_precision\": {\"count\": 1, \"max\": 0.8086956521739684, \"sum\": 0.8086956521739684, \"min\": 0.8086956521739684}, \"precision_at_target_recall\": {\"count\": 1, \"max\": 0.8195266272189883, \"sum\": 0.8195266272189883, \"min\": 0.8195266272189883}, \"accuracy\": {\"count\": 1, \"max\": 0.9994181497160972, \"sum\": 0.9994181497160972, \"min\": 0.9994181497160972}, \"threshold_for_f1\": {\"count\": 1, \"max\": 0.028892118483781815, \"sum\": 0.028892118483781815, \"min\": 0.028892118483781815}}, \"EndTime\": 1518540690.903334, \"Dimensions\": {\"model\": 12, \"Host\": \"algo-1\", \"Operation\": \"training\", \"Algorithm\": \"Linear Learner\"}, \"StartTime\": 1518540690.89582}\n",
      "\u001b[0m\n",
      "\u001b[31m#metrics {\"Metrics\": {\"f1\": {\"count\": 1, \"max\": 0.8100890207715133, \"sum\": 0.8100890207715133, \"min\": 0.8100890207715133}, \"threshold_for_accuracy\": {\"count\": 1, \"max\": 0.04669858515262604, \"sum\": 0.04669858515262604, \"min\": 0.04669858515262604}, \"threshold_for_precision_at_target_recall\": {\"count\": 1, \"max\": 0.010824635624885559, \"sum\": 0.010824635624885559, \"min\": 0.010824635624885559}, \"threshold_for_recall_at_target_precision\": {\"count\": 1, \"max\": 0.010824635624885559, \"sum\": 0.010824635624885559, \"min\": 0.010824635624885559}, \"recall_at_precision\": {\"count\": 1, \"max\": 0.8028985507246948, \"sum\": 0.8028985507246948, \"min\": 0.8028985507246948}, \"precision_at_target_recall\": {\"count\": 1, \"max\": 0.8099415204678918, \"sum\": 0.8099415204678918, \"min\": 0.8099415204678918}, \"accuracy\": {\"count\": 1, \"max\": 0.9993679902088642, \"sum\": 0.9993679902088642, \"min\": 0.9993679902088642}, \"threshold_for_f1\": {\"count\": 1, \"max\": 0.02074562758207321, \"sum\": 0.02074562758207321, \"min\": 0.02074562758207321}}, \"EndTime\": 1518540690.911125, \"Dimensions\": {\"model\": 13, \"Host\": \"algo-1\", \"Operation\": \"training\", \"Algorithm\": \"Linear Learner\"}, \"StartTime\": 1518540690.903398}\n",
      "\u001b[0m\n",
      "\u001b[31m#metrics {\"Metrics\": {\"f1\": {\"count\": 1, \"max\": 0.8220858895705522, \"sum\": 0.8220858895705522, \"min\": 0.8220858895705522}, \"threshold_for_accuracy\": {\"count\": 1, \"max\": 0.02958529442548752, \"sum\": 0.02958529442548752, \"min\": 0.02958529442548752}, \"threshold_for_precision_at_target_recall\": {\"count\": 1, \"max\": 0.018386855721473694, \"sum\": 0.018386855721473694, \"min\": 0.018386855721473694}, \"threshold_for_recall_at_target_precision\": {\"count\": 1, \"max\": 0.01735616847872734, \"sum\": 0.01735616847872734, \"min\": 0.01735616847872734}, \"recall_at_precision\": {\"count\": 1, \"max\": 0.8086956521739684, \"sum\": 0.8086956521739684, \"min\": 0.8086956521739684}, \"precision_at_target_recall\": {\"count\": 1, \"max\": 0.8195266272189883, \"sum\": 0.8195266272189883, \"min\": 0.8195266272189883}, \"accuracy\": {\"count\": 1, \"max\": 0.9994181497160972, \"sum\": 0.9994181497160972, \"min\": 0.9994181497160972}, \"threshold_for_f1\": {\"count\": 1, \"max\": 0.02958529442548752, \"sum\": 0.02958529442548752, \"min\": 0.02958529442548752}}, \"EndTime\": 1518540690.918687, \"Dimensions\": {\"model\": 14, \"Host\": \"algo-1\", \"Operation\": \"training\", \"Algorithm\": \"Linear Learner\"}, \"StartTime\": 1518540690.911202}\n",
      "\u001b[0m\n",
      "\u001b[31m#metrics {\"Metrics\": {\"f1\": {\"count\": 1, \"max\": 0.8100890207715133, \"sum\": 0.8100890207715133, \"min\": 0.8100890207715133}, \"threshold_for_accuracy\": {\"count\": 1, \"max\": 0.04669898748397827, \"sum\": 0.04669898748397827, \"min\": 0.04669898748397827}, \"threshold_for_precision_at_target_recall\": {\"count\": 1, \"max\": 0.01082556415349245, \"sum\": 0.01082556415349245, \"min\": 0.01082556415349245}, \"threshold_for_recall_at_target_precision\": {\"count\": 1, \"max\": 0.01082556415349245, \"sum\": 0.01082556415349245, \"min\": 0.01082556415349245}, \"recall_at_precision\": {\"count\": 1, \"max\": 0.8028985507246948, \"sum\": 0.8028985507246948, \"min\": 0.8028985507246948}, \"precision_at_target_recall\": {\"count\": 1, \"max\": 0.8099415204678918, \"sum\": 0.8099415204678918, \"min\": 0.8099415204678918}, \"accuracy\": {\"count\": 1, \"max\": 0.9993679902088642, \"sum\": 0.9993679902088642, \"min\": 0.9993679902088642}, \"threshold_for_f1\": {\"count\": 1, \"max\": 0.020745830610394478, \"sum\": 0.020745830610394478, \"min\": 0.020745830610394478}}, \"EndTime\": 1518540690.926627, \"Dimensions\": {\"model\": 15, \"Host\": \"algo-1\", \"Operation\": \"training\", \"Algorithm\": \"Linear Learner\"}, \"StartTime\": 1518540690.918748}\n",
      "\u001b[0m\n",
      "\u001b[31m#metrics {\"Metrics\": {\"f1\": {\"count\": 1, \"max\": 0.8176470588235294, \"sum\": 0.8176470588235294, \"min\": 0.8176470588235294}, \"threshold_for_accuracy\": {\"count\": 1, \"max\": 0.0024112367536872625, \"sum\": 0.0024112367536872625, \"min\": 0.0024112367536872625}, \"threshold_for_precision_at_target_recall\": {\"count\": 1, \"max\": 0.0024112367536872625, \"sum\": 0.0024112367536872625, \"min\": 0.0024112367536872625}, \"threshold_for_recall_at_target_precision\": {\"count\": 1, \"max\": 0.0024112367536872625, \"sum\": 0.0024112367536872625, \"min\": 0.0024112367536872625}, \"recall_at_precision\": {\"count\": 1, \"max\": 0.8057971014493317, \"sum\": 0.8057971014493317, \"min\": 0.8057971014493317}, \"precision_at_target_recall\": {\"count\": 1, \"max\": 0.8298507462687075, \"sum\": 0.8298507462687075, \"min\": 0.8298507462687075}, \"accuracy\": {\"count\": 1, \"max\": 0.9993780221103108, \"sum\": 0.9993780221103108, \"min\": 0.9993780221103108}, \"threshold_for_f1\": {\"count\": 1, \"max\": 0.0024112367536872625, \"sum\": 0.0024112367536872625, \"min\": 0.0024112367536872625}}, \"EndTime\": 1518540690.93452, \"Dimensions\": {\"model\": 16, \"Host\": \"algo-1\", \"Operation\": \"training\", \"Algorithm\": \"Linear Learner\"}, \"StartTime\": 1518540690.926698}\n",
      "\u001b[0m\n",
      "\u001b[31m#metrics {\"Metrics\": {\"f1\": {\"count\": 1, \"max\": 0.8023088023088023, \"sum\": 0.8023088023088023, \"min\": 0.8023088023088023}, \"threshold_for_accuracy\": {\"count\": 1, \"max\": 0.0016964733367785811, \"sum\": 0.0016964733367785811, \"min\": 0.0016964733367785811}, \"threshold_for_precision_at_target_recall\": {\"count\": 1, \"max\": 0.0016964733367785811, \"sum\": 0.0016964733367785811, \"min\": 0.0016964733367785811}, \"threshold_for_recall_at_target_precision\": {\"count\": 1, \"max\": 0.0018729860894382, \"sum\": 0.0018729860894382, \"min\": 0.0018729860894382}, \"recall_at_precision\": {\"count\": 1, \"max\": 0.7043478260870422, \"sum\": 0.7043478260870422, \"min\": 0.7043478260870422}, \"precision_at_target_recall\": {\"count\": 1, \"max\": 0.7988505747127015, \"sum\": 0.7988505747127015, \"min\": 0.7988505747127015}, \"accuracy\": {\"count\": 1, \"max\": 0.9993128147509079, \"sum\": 0.9993128147509079, \"min\": 0.9993128147509079}, \"threshold_for_f1\": {\"count\": 1, \"max\": 0.0016964733367785811, \"sum\": 0.0016964733367785811, \"min\": 0.0016964733367785811}}, \"EndTime\": 1518540690.942396, \"Dimensions\": {\"model\": 17, \"Host\": \"algo-1\", \"Operation\": \"training\", \"Algorithm\": \"Linear Learner\"}, \"StartTime\": 1518540690.934587}\n",
      "\u001b[0m\n",
      "\u001b[31m#metrics {\"Metrics\": {\"f1\": {\"count\": 1, \"max\": 0.8176470588235294, \"sum\": 0.8176470588235294, \"min\": 0.8176470588235294}, \"threshold_for_accuracy\": {\"count\": 1, \"max\": 0.0020974252838641405, \"sum\": 0.0020974252838641405, \"min\": 0.0020974252838641405}, \"threshold_for_precision_at_target_recall\": {\"count\": 1, \"max\": 0.0020974252838641405, \"sum\": 0.0020974252838641405, \"min\": 0.0020974252838641405}, \"threshold_for_recall_at_target_precision\": {\"count\": 1, \"max\": 0.0020974252838641405, \"sum\": 0.0020974252838641405, \"min\": 0.0020974252838641405}, \"recall_at_precision\": {\"count\": 1, \"max\": 0.8057971014493317, \"sum\": 0.8057971014493317, \"min\": 0.8057971014493317}, \"precision_at_target_recall\": {\"count\": 1, \"max\": 0.8298507462687075, \"sum\": 0.8298507462687075, \"min\": 0.8298507462687075}, \"accuracy\": {\"count\": 1, \"max\": 0.9993780221103108, \"sum\": 0.9993780221103108, \"min\": 0.9993780221103108}, \"threshold_for_f1\": {\"count\": 1, \"max\": 0.0020974252838641405, \"sum\": 0.0020974252838641405, \"min\": 0.0020974252838641405}}, \"EndTime\": 1518540690.95016, \"Dimensions\": {\"model\": 18, \"Host\": \"algo-1\", \"Operation\": \"training\", \"Algorithm\": \"Linear Learner\"}, \"StartTime\": 1518540690.94247}\n",
      "\u001b[0m\n",
      "\u001b[31m#metrics {\"Metrics\": {\"f1\": {\"count\": 1, \"max\": 0.8023088023088023, \"sum\": 0.8023088023088023, \"min\": 0.8023088023088023}, \"threshold_for_accuracy\": {\"count\": 1, \"max\": 0.0016964742681011558, \"sum\": 0.0016964742681011558, \"min\": 0.0016964742681011558}, \"threshold_for_precision_at_target_recall\": {\"count\": 1, \"max\": 0.0016964742681011558, \"sum\": 0.0016964742681011558, \"min\": 0.0016964742681011558}, \"threshold_for_recall_at_target_precision\": {\"count\": 1, \"max\": 0.0018729888834059238, \"sum\": 0.0018729888834059238, \"min\": 0.0018729888834059238}, \"recall_at_precision\": {\"count\": 1, \"max\": 0.7043478260870422, \"sum\": 0.7043478260870422, \"min\": 0.7043478260870422}, \"precision_at_target_recall\": {\"count\": 1, \"max\": 0.7988505747127015, \"sum\": 0.7988505747127015, \"min\": 0.7988505747127015}, \"accuracy\": {\"count\": 1, \"max\": 0.9993128147509079, \"sum\": 0.9993128147509079, \"min\": 0.9993128147509079}, \"threshold_for_f1\": {\"count\": 1, \"max\": 0.0016964742681011558, \"sum\": 0.0016964742681011558, \"min\": 0.0016964742681011558}}, \"EndTime\": 1518540690.958084, \"Dimensions\": {\"model\": 19, \"Host\": \"algo-1\", \"Operation\": \"training\", \"Algorithm\": \"Linear Learner\"}, \"StartTime\": 1518540690.950219}\n",
      "\u001b[0m\n",
      "\u001b[31m#metrics {\"Metrics\": {\"f1\": {\"count\": 1, \"max\": 0.8176470588235294, \"sum\": 0.8176470588235294, \"min\": 0.8176470588235294}, \"threshold_for_accuracy\": {\"count\": 1, \"max\": 0.0022685942240059376, \"sum\": 0.0022685942240059376, \"min\": 0.0022685942240059376}, \"threshold_for_precision_at_target_recall\": {\"count\": 1, \"max\": 0.002094701398164034, \"sum\": 0.002094701398164034, \"min\": 0.002094701398164034}, \"threshold_for_recall_at_target_precision\": {\"count\": 1, \"max\": 0.002094701398164034, \"sum\": 0.002094701398164034, \"min\": 0.002094701398164034}, \"recall_at_precision\": {\"count\": 1, \"max\": 0.8057971014493317, \"sum\": 0.8057971014493317, \"min\": 0.8057971014493317}, \"precision_at_target_recall\": {\"count\": 1, \"max\": 0.8298507462687075, \"sum\": 0.8298507462687075, \"min\": 0.8298507462687075}, \"accuracy\": {\"count\": 1, \"max\": 0.9993780221103108, \"sum\": 0.9993780221103108, \"min\": 0.9993780221103108}, \"threshold_for_f1\": {\"count\": 1, \"max\": 0.002094701398164034, \"sum\": 0.002094701398164034, \"min\": 0.002094701398164034}}, \"EndTime\": 1518540690.966036, \"Dimensions\": {\"model\": 20, \"Host\": \"algo-1\", \"Operation\": \"training\", \"Algorithm\": \"Linear Learner\"}, \"StartTime\": 1518540690.958145}\n",
      "\u001b[0m\n",
      "\u001b[31m#metrics {\"Metrics\": {\"f1\": {\"count\": 1, \"max\": 0.003455027064378671, \"sum\": 0.003455027064378671, \"min\": 0.003455027064378671}, \"threshold_for_accuracy\": {\"count\": 1, \"max\": Infinity, \"sum\": Infinity, \"min\": Infinity}, \"threshold_for_precision_at_target_recall\": {\"count\": 1, \"max\": -Infinity, \"sum\": -Infinity, \"min\": -Infinity}, \"threshold_for_recall_at_target_precision\": {\"count\": 1, \"max\": 0.0011913338676095009, \"sum\": 0.0011913338676095009, \"min\": 0.0011913338676095009}, \"recall_at_precision\": {\"count\": 1, \"max\": 0.0, \"sum\": 0.0, \"min\": 0.0}, \"precision_at_target_recall\": {\"count\": 1, \"max\": 0.0017305029995390332, \"sum\": 0.0017305029995390332, \"min\": 0.0017305029995390332}, \"accuracy\": {\"count\": 1, \"max\": 0.9982694970004614, \"sum\": 0.9982694970004614, \"min\": 0.9982694970004614}, \"threshold_for_f1\": {\"count\": 1, \"max\": -Infinity, \"sum\": -Infinity, \"min\": -Infinity}}, \"EndTime\": 1518540690.971418, \"Dimensions\": {\"model\": 21, \"Host\": \"algo-1\", \"Operation\": \"training\", \"Algorithm\": \"Linear Learner\"}, \"StartTime\": 1518540690.966095}\n",
      "\u001b[0m\n",
      "\u001b[31m#metrics {\"Metrics\": {\"f1\": {\"count\": 1, \"max\": 0.8176470588235294, \"sum\": 0.8176470588235294, \"min\": 0.8176470588235294}, \"threshold_for_accuracy\": {\"count\": 1, \"max\": 0.002227543853223324, \"sum\": 0.002227543853223324, \"min\": 0.002227543853223324}, \"threshold_for_precision_at_target_recall\": {\"count\": 1, \"max\": 0.002067966153845191, \"sum\": 0.002067966153845191, \"min\": 0.002067966153845191}, \"threshold_for_recall_at_target_precision\": {\"count\": 1, \"max\": 0.002067966153845191, \"sum\": 0.002067966153845191, \"min\": 0.002067966153845191}, \"recall_at_precision\": {\"count\": 1, \"max\": 0.8057971014493317, \"sum\": 0.8057971014493317, \"min\": 0.8057971014493317}, \"precision_at_target_recall\": {\"count\": 1, \"max\": 0.8298507462687075, \"sum\": 0.8298507462687075, \"min\": 0.8298507462687075}, \"accuracy\": {\"count\": 1, \"max\": 0.9993780221103108, \"sum\": 0.9993780221103108, \"min\": 0.9993780221103108}, \"threshold_for_f1\": {\"count\": 1, \"max\": 0.002067966153845191, \"sum\": 0.002067966153845191, \"min\": 0.002067966153845191}}, \"EndTime\": 1518540690.979269, \"Dimensions\": {\"model\": 22, \"Host\": \"algo-1\", \"Operation\": \"training\", \"Algorithm\": \"Linear Learner\"}, \"StartTime\": 1518540690.971474}\n",
      "\u001b[0m\n",
      "\u001b[31m#metrics {\"Metrics\": {\"f1\": {\"count\": 1, \"max\": 0.003455027064378671, \"sum\": 0.003455027064378671, \"min\": 0.003455027064378671}, \"threshold_for_accuracy\": {\"count\": 1, \"max\": Infinity, \"sum\": Infinity, \"min\": Infinity}, \"threshold_for_precision_at_target_recall\": {\"count\": 1, \"max\": -Infinity, \"sum\": -Infinity, \"min\": -Infinity}, \"threshold_for_recall_at_target_precision\": {\"count\": 1, \"max\": 0.0011913338676095009, \"sum\": 0.0011913338676095009, \"min\": 0.0011913338676095009}, \"recall_at_precision\": {\"count\": 1, \"max\": 0.0, \"sum\": 0.0, \"min\": 0.0}, \"precision_at_target_recall\": {\"count\": 1, \"max\": 0.0017305029995390332, \"sum\": 0.0017305029995390332, \"min\": 0.0017305029995390332}, \"accuracy\": {\"count\": 1, \"max\": 0.9982694970004614, \"sum\": 0.9982694970004614, \"min\": 0.9982694970004614}, \"threshold_for_f1\": {\"count\": 1, \"max\": -Infinity, \"sum\": -Infinity, \"min\": -Infinity}}, \"EndTime\": 1518540690.984585, \"Dimensions\": {\"model\": 23, \"Host\": \"algo-1\", \"Operation\": \"training\", \"Algorithm\": \"Linear Learner\"}, \"StartTime\": 1518540690.979329}\n",
      "\u001b[0m\n",
      "\u001b[31m#metrics {\"Metrics\": {\"f1\": {\"count\": 1, \"max\": 0.8100890207715133, \"sum\": 0.8100890207715133, \"min\": 0.8100890207715133}, \"threshold_for_accuracy\": {\"count\": 1, \"max\": 0.0019895401783287525, \"sum\": 0.0019895401783287525, \"min\": 0.0019895401783287525}, \"threshold_for_precision_at_target_recall\": {\"count\": 1, \"max\": 0.001987702213227749, \"sum\": 0.001987702213227749, \"min\": 0.001987702213227749}, \"threshold_for_recall_at_target_precision\": {\"count\": 1, \"max\": 0.0019895401783287525, \"sum\": 0.0019895401783287525, \"min\": 0.0019895401783287525}, \"recall_at_precision\": {\"count\": 1, \"max\": 0.7913043478261474, \"sum\": 0.7913043478261474, \"min\": 0.7913043478261474}, \"precision_at_target_recall\": {\"count\": 1, \"max\": 0.7988505747127015, \"sum\": 0.7988505747127015, \"min\": 0.7988505747127015}, \"accuracy\": {\"count\": 1, \"max\": 0.9993579583074176, \"sum\": 0.9993579583074176, \"min\": 0.9993579583074176}, \"threshold_for_f1\": {\"count\": 1, \"max\": 0.0019895401783287525, \"sum\": 0.0019895401783287525, \"min\": 0.0019895401783287525}}, \"EndTime\": 1518540690.992336, \"Dimensions\": {\"model\": 24, \"Host\": \"algo-1\", \"Operation\": \"training\", \"Algorithm\": \"Linear Learner\"}, \"StartTime\": 1518540690.984651}\n",
      "\u001b[0m\n",
      "\u001b[31m#metrics {\"Metrics\": {\"f1\": {\"count\": 1, \"max\": 0.6228070175438597, \"sum\": 0.6228070175438597, \"min\": 0.6228070175438597}, \"threshold_for_accuracy\": {\"count\": 1, \"max\": 0.0015430650673806667, \"sum\": 0.0015430650673806667, \"min\": 0.0015430650673806667}, \"threshold_for_precision_at_target_recall\": {\"count\": 1, \"max\": 0.0015389843611046672, \"sum\": 0.0015389843611046672, \"min\": 0.0015389843611046672}, \"threshold_for_recall_at_target_precision\": {\"count\": 1, \"max\": 0.0015602688072249293, \"sum\": 0.0015602688072249293, \"min\": 0.0015602688072249293}, \"recall_at_precision\": {\"count\": 1, \"max\": 0.07246376811621087, \"sum\": 0.07246376811621087, \"min\": 0.07246376811621087}, \"precision_at_target_recall\": {\"count\": 1, \"max\": 0.269794721407696, \"sum\": 0.269794721407696, \"min\": 0.269794721407696}, \"accuracy\": {\"count\": 1, \"max\": 0.9987058847133886, \"sum\": 0.9987058847133886, \"min\": 0.9987058847133886}, \"threshold_for_f1\": {\"count\": 1, \"max\": 0.0015430650673806667, \"sum\": 0.0015430650673806667, \"min\": 0.0015430650673806667}}, \"EndTime\": 1518540690.999852, \"Dimensions\": {\"model\": 25, \"Host\": \"algo-1\", \"Operation\": \"training\", \"Algorithm\": \"Linear Learner\"}, \"StartTime\": 1518540690.992396}\n",
      "\u001b[0m\n",
      "\u001b[31m#metrics {\"Metrics\": {\"f1\": {\"count\": 1, \"max\": 0.260343087790111, \"sum\": 0.260343087790111, \"min\": 0.260343087790111}, \"threshold_for_accuracy\": {\"count\": 1, \"max\": Infinity, \"sum\": Infinity, \"min\": Infinity}, \"threshold_for_precision_at_target_recall\": {\"count\": 1, \"max\": 0.0017423316603526473, \"sum\": 0.0017423316603526473, \"min\": 0.0017423316603526473}, \"threshold_for_recall_at_target_precision\": {\"count\": 1, \"max\": 0.0017420090734958649, \"sum\": 0.0017420090734958649, \"min\": 0.0017420090734958649}, \"recall_at_precision\": {\"count\": 1, \"max\": 0.0, \"sum\": 0.0, \"min\": 0.0}, \"precision_at_target_recall\": {\"count\": 1, \"max\": 0.01949468646633106, \"sum\": 0.01949468646633106, \"min\": 0.01949468646633106}, \"accuracy\": {\"count\": 1, \"max\": 0.9982694970004614, \"sum\": 0.9982694970004614, \"min\": 0.9982694970004614}, \"threshold_for_f1\": {\"count\": 1, \"max\": 0.0017436194466426969, \"sum\": 0.0017436194466426969, \"min\": 0.0017436194466426969}}, \"EndTime\": 1518540691.005698, \"Dimensions\": {\"model\": 26, \"Host\": \"algo-1\", \"Operation\": \"training\", \"Algorithm\": \"Linear Learner\"}, \"StartTime\": 1518540690.999919}\n",
      "\u001b[0m\n",
      "\u001b[31m#metrics {\"Metrics\": {\"f1\": {\"count\": 1, \"max\": 0.622478386167147, \"sum\": 0.622478386167147, \"min\": 0.622478386167147}, \"threshold_for_accuracy\": {\"count\": 1, \"max\": 0.0015434162924066186, \"sum\": 0.0015434162924066186, \"min\": 0.0015434162924066186}, \"threshold_for_precision_at_target_recall\": {\"count\": 1, \"max\": 0.001538927317596972, \"sum\": 0.001538927317596972, \"min\": 0.001538927317596972}, \"threshold_for_recall_at_target_precision\": {\"count\": 1, \"max\": 0.0015602539060637355, \"sum\": 0.0015602539060637355, \"min\": 0.0015602539060637355}, \"recall_at_precision\": {\"count\": 1, \"max\": 0.07246376811621087, \"sum\": 0.07246376811621087, \"min\": 0.07246376811621087}, \"precision_at_target_recall\": {\"count\": 1, \"max\": 0.2598870056497872, \"sum\": 0.2598870056497872, \"min\": 0.2598870056497872}, \"accuracy\": {\"count\": 1, \"max\": 0.9987259485162818, \"sum\": 0.9987259485162818, \"min\": 0.9987259485162818}, \"threshold_for_f1\": {\"count\": 1, \"max\": 0.001542861689813435, \"sum\": 0.001542861689813435, \"min\": 0.001542861689813435}}, \"EndTime\": 1518540691.013223, \"Dimensions\": {\"model\": 27, \"Host\": \"algo-1\", \"Operation\": \"training\", \"Algorithm\": \"Linear Learner\"}, \"StartTime\": 1518540691.005766}\n",
      "\u001b[0m\n",
      "\u001b[31m#metrics {\"Metrics\": {\"f1\": {\"count\": 1, \"max\": 0.8023088023088023, \"sum\": 0.8023088023088023, \"min\": 0.8023088023088023}, \"threshold_for_accuracy\": {\"count\": 1, \"max\": 0.0017262108158320189, \"sum\": 0.0017262108158320189, \"min\": 0.0017262108158320189}, \"threshold_for_precision_at_target_recall\": {\"count\": 1, \"max\": 0.0017262108158320189, \"sum\": 0.0017262108158320189, \"min\": 0.0017262108158320189}, \"threshold_for_recall_at_target_precision\": {\"count\": 1, \"max\": 0.0017295452998951077, \"sum\": 0.0017295452998951077, \"min\": 0.0017295452998951077}, \"recall_at_precision\": {\"count\": 1, \"max\": 0.6579710144928528, \"sum\": 0.6579710144928528, \"min\": 0.6579710144928528}, \"precision_at_target_recall\": {\"count\": 1, \"max\": 0.7988505747127015, \"sum\": 0.7988505747127015, \"min\": 0.7988505747127015}, \"accuracy\": {\"count\": 1, \"max\": 0.9993128147509079, \"sum\": 0.9993128147509079, \"min\": 0.9993128147509079}, \"threshold_for_f1\": {\"count\": 1, \"max\": 0.0017262108158320189, \"sum\": 0.0017262108158320189, \"min\": 0.0017262108158320189}}, \"EndTime\": 1518540691.020876, \"Dimensions\": {\"model\": 28, \"Host\": \"algo-1\", \"Operation\": \"training\", \"Algorithm\": \"Linear Learner\"}, \"StartTime\": 1518540691.013284}\n",
      "\u001b[0m\n",
      "\u001b[31m#metrics {\"Metrics\": {\"f1\": {\"count\": 1, \"max\": 0.008113590263691683, \"sum\": 0.008113590263691683, \"min\": 0.008113590263691683}, \"threshold_for_accuracy\": {\"count\": 1, \"max\": Infinity, \"sum\": Infinity, \"min\": Infinity}, \"threshold_for_precision_at_target_recall\": {\"count\": 1, \"max\": 0.0012073565740138292, \"sum\": 0.0012073565740138292, \"min\": 0.0012073565740138292}, \"threshold_for_recall_at_target_precision\": {\"count\": 1, \"max\": 0.0012675486505031586, \"sum\": 0.0012675486505031586, \"min\": 0.0012675486505031586}, \"recall_at_precision\": {\"count\": 1, \"max\": 0.0, \"sum\": 0.0, \"min\": 0.0}, \"precision_at_target_recall\": {\"count\": 1, \"max\": 0.0017308329068967412, \"sum\": 0.0017308329068967412, \"min\": 0.0017308329068967412}, \"accuracy\": {\"count\": 1, \"max\": 0.9982694970004614, \"sum\": 0.9982694970004614, \"min\": 0.9982694970004614}, \"threshold_for_f1\": {\"count\": 1, \"max\": 0.0012906865449622273, \"sum\": 0.0012906865449622273, \"min\": 0.0012906865449622273}}, \"EndTime\": 1518540691.026466, \"Dimensions\": {\"model\": 29, \"Host\": \"algo-1\", \"Operation\": \"training\", \"Algorithm\": \"Linear Learner\"}, \"StartTime\": 1518540691.020949}\n",
      "\u001b[0m\n",
      "\u001b[31m#metrics {\"Metrics\": {\"f1\": {\"count\": 1, \"max\": 0.2680628272251309, \"sum\": 0.2680628272251309, \"min\": 0.2680628272251309}, \"threshold_for_accuracy\": {\"count\": 1, \"max\": Infinity, \"sum\": Infinity, \"min\": Infinity}, \"threshold_for_precision_at_target_recall\": {\"count\": 1, \"max\": 0.001717681298032403, \"sum\": 0.001717681298032403, \"min\": 0.001717681298032403}, \"threshold_for_recall_at_target_precision\": {\"count\": 1, \"max\": 0.001717191655188799, \"sum\": 0.001717191655188799, \"min\": 0.001717191655188799}, \"recall_at_precision\": {\"count\": 1, \"max\": 0.0, \"sum\": 0.0, \"min\": 0.0}, \"precision_at_target_recall\": {\"count\": 1, \"max\": 0.019632678910709873, \"sum\": 0.019632678910709873, \"min\": 0.019632678910709873}, \"accuracy\": {\"count\": 1, \"max\": 0.9982694970004614, \"sum\": 0.9982694970004614, \"min\": 0.9982694970004614}, \"threshold_for_f1\": {\"count\": 1, \"max\": 0.0017188951605930924, \"sum\": 0.0017188951605930924, \"min\": 0.0017188951605930924}}, \"EndTime\": 1518540691.032458, \"Dimensions\": {\"model\": 30, \"Host\": \"algo-1\", \"Operation\": \"training\", \"Algorithm\": \"Linear Learner\"}, \"StartTime\": 1518540691.026525}\n",
      "\u001b[0m\n",
      "\u001b[31m#metrics {\"Metrics\": {\"f1\": {\"count\": 1, \"max\": 0.008113590263691683, \"sum\": 0.008113590263691683, \"min\": 0.008113590263691683}, \"threshold_for_accuracy\": {\"count\": 1, \"max\": Infinity, \"sum\": Infinity, \"min\": Infinity}, \"threshold_for_precision_at_target_recall\": {\"count\": 1, \"max\": 0.0012073577381670475, \"sum\": 0.0012073577381670475, \"min\": 0.0012073577381670475}, \"threshold_for_recall_at_target_precision\": {\"count\": 1, \"max\": 0.0012722215615212917, \"sum\": 0.0012722215615212917, \"min\": 0.0012722215615212917}, \"recall_at_precision\": {\"count\": 1, \"max\": 0.0, \"sum\": 0.0, \"min\": 0.0}, \"precision_at_target_recall\": {\"count\": 1, \"max\": 0.0017308329068967412, \"sum\": 0.0017308329068967412, \"min\": 0.0017308329068967412}, \"accuracy\": {\"count\": 1, \"max\": 0.9982694970004614, \"sum\": 0.9982694970004614, \"min\": 0.9982694970004614}, \"threshold_for_f1\": {\"count\": 1, \"max\": 0.0012906878255307674, \"sum\": 0.0012906878255307674, \"min\": 0.0012906878255307674}}, \"EndTime\": 1518540691.037749, \"Dimensions\": {\"model\": 31, \"Host\": \"algo-1\", \"Operation\": \"training\", \"Algorithm\": \"Linear Learner\"}, \"StartTime\": 1518540691.032517}\n",
      "\u001b[0m\n",
      "\u001b[31m[02/13/2018 16:51:31 INFO 140683661657920] Selection criteria: recall_at_target_precision\u001b[0m\n",
      "\u001b[31mmodel: 8\u001b[0m\n",
      "\u001b[31mthreshold: 0.019479\u001b[0m\n",
      "\u001b[31mscore: 0.808696\u001b[0m\n",
      "\u001b[31m[02/13/2018 16:51:31 INFO 140683661657920] Saved checkpoint to \"/tmp/tmpfC1fX4/mx-mod-0000.params\"\u001b[0m\n",
      "\u001b[31m#metrics {\"Metrics\": {\"totaltime\": {\"count\": 1, \"max\": 207464.8380279541, \"sum\": 207464.8380279541, \"min\": 207464.8380279541}, \"finalize.time\": {\"count\": 1, \"max\": 3735.667943954468, \"sum\": 3735.667943954468, \"min\": 3735.667943954468}, \"initialize.time\": {\"count\": 1, \"max\": 149.23810958862305, \"sum\": 149.23810958862305, \"min\": 149.23810958862305}, \"setuptime\": {\"count\": 1, \"max\": 21.6519832611084, \"sum\": 21.6519832611084, \"min\": 21.6519832611084}, \"update.time\": {\"count\": 10, \"max\": 21761.237144470215, \"sum\": 203505.94902038574, \"min\": 19731.756925582886}, \"epochs\": {\"count\": 1, \"max\": 10, \"sum\": 10.0, \"min\": 10}}, \"EndTime\": 1518540691.049207, \"Dimensions\": {\"Host\": \"algo-1\", \"Operation\": \"training\", \"Algorithm\": \"Linear Learner\"}, \"StartTime\": 1518540483.653044}\n",
      "\u001b[0m\n"
     ]
    },
    {
     "name": "stdout",
     "output_type": "stream",
     "text": [
      "===== Job Complete =====\n"
     ]
    }
   ],
   "source": [
    "sess = sagemaker.Session()\n",
    "\n",
    "linear = sagemaker.estimator.Estimator(containers[boto3.Session().region_name],\n",
    "                                       role, #S3 role, so the notebook can read the data and upload the model\n",
    "                                       train_instance_count=1, #number of instances for training\n",
    "                                       train_instance_type='ml.c4.8xlarge', # type of training instance\n",
    "                                       output_path=output_location, #s3 location for uploading trained mdoel\n",
    "                                       sagemaker_session=sess)\n",
    "\n",
    "linear.set_hyperparameters(feature_dim=30, #dataset has 30 columns (features)\n",
    "                           predictor_type='binary_classifier', # we predict a binary value. it could have been regressor\n",
    "                           mini_batch_size=200,\n",
    "                           #making recall the selection criteria and changin calibration samples that are used for threshold setting\n",
    "                           binary_classifier_model_selection_criteria='recall_at_target_precision')\n",
    "\n",
    "linear.fit({'train': s3_train_data})"
   ]
  },
  {
   "cell_type": "markdown",
   "metadata": {},
   "source": [
    "# Hosting"
   ]
  },
  {
   "cell_type": "code",
   "execution_count": 285,
   "metadata": {
    "nbpresent": {
     "id": "2d9a143f-c309-4634-a8a4-98bd2dea8678"
    }
   },
   "outputs": [
    {
     "name": "stderr",
     "output_type": "stream",
     "text": [
      "INFO:sagemaker:Creating model with name: linear-learner-2018-02-13-17-03-24-734\n",
      "INFO:sagemaker:Creating endpoint with name linear-learner-2018-02-13-16-42-33-379\n"
     ]
    },
    {
     "name": "stdout",
     "output_type": "stream",
     "text": [
      "-----------------------------------------------------------------------------------------------------------------------------------------!"
     ]
    }
   ],
   "source": [
    "linear_predictor = linear.deploy(initial_instance_count=1, #Initial number of instances. \n",
    "                                                           #Autoscaling can increase the number of instances.\n",
    "                                 instance_type='ml.m4.xlarge') # instance type"
   ]
  },
  {
   "cell_type": "code",
   "execution_count": 286,
   "metadata": {},
   "outputs": [
    {
     "data": {
      "text/plain": [
       "sagemaker.predictor.RealTimePredictor"
      ]
     },
     "execution_count": 286,
     "metadata": {},
     "output_type": "execute_result"
    }
   ],
   "source": [
    "type(linear_predictor)"
   ]
  },
  {
   "cell_type": "markdown",
   "metadata": {},
   "source": [
    "# Prediction"
   ]
  },
  {
   "cell_type": "code",
   "execution_count": 287,
   "metadata": {
    "collapsed": true,
    "nbpresent": {
     "id": "ccabbb87-c916-47c3-90b3-2fbb8b5e2fd4"
    }
   },
   "outputs": [],
   "source": [
    "linear_predictor.content_type = 'text/csv'\n",
    "linear_predictor.serializer = csv_serializer\n",
    "linear_predictor.deserializer = json_deserializer"
   ]
  },
  {
   "cell_type": "code",
   "execution_count": 288,
   "metadata": {
    "collapsed": true,
    "nbpresent": {
     "id": "79f4f9a3-e64b-4223-b09c-9a1133a9d55d"
    }
   },
   "outputs": [],
   "source": [
    "predictions = []\n",
    "for array in np.array_split(test_set[0], 100):\n",
    "    result = linear_predictor.predict(array)\n",
    "    predictions += [r['predicted_label'] for r in result['predictions']]\n",
    "\n",
    "predictions = np.array(predictions)"
   ]
  },
  {
   "cell_type": "code",
   "execution_count": 289,
   "metadata": {
    "nbpresent": {
     "id": "a59cccae-fced-4008-b5a8-fbd2d4deaa61"
    }
   },
   "outputs": [
    {
     "data": {
      "text/html": [
       "<div>\n",
       "<style>\n",
       "    .dataframe thead tr:only-child th {\n",
       "        text-align: right;\n",
       "    }\n",
       "\n",
       "    .dataframe thead th {\n",
       "        text-align: left;\n",
       "    }\n",
       "\n",
       "    .dataframe tbody tr th {\n",
       "        vertical-align: top;\n",
       "    }\n",
       "</style>\n",
       "<table border=\"1\" class=\"dataframe\">\n",
       "  <thead>\n",
       "    <tr style=\"text-align: right;\">\n",
       "      <th>predictions</th>\n",
       "      <th>0.0</th>\n",
       "      <th>1.0</th>\n",
       "    </tr>\n",
       "    <tr>\n",
       "      <th>actuals</th>\n",
       "      <th></th>\n",
       "      <th></th>\n",
       "    </tr>\n",
       "  </thead>\n",
       "  <tbody>\n",
       "    <tr>\n",
       "      <th>0.0</th>\n",
       "      <td>85268</td>\n",
       "      <td>28</td>\n",
       "    </tr>\n",
       "    <tr>\n",
       "      <th>1.0</th>\n",
       "      <td>28</td>\n",
       "      <td>119</td>\n",
       "    </tr>\n",
       "  </tbody>\n",
       "</table>\n",
       "</div>"
      ],
      "text/plain": [
       "predictions    0.0  1.0\n",
       "actuals                \n",
       "0.0          85268   28\n",
       "1.0             28  119"
      ]
     },
     "execution_count": 289,
     "metadata": {},
     "output_type": "execute_result"
    }
   ],
   "source": [
    "import pandas as pd\n",
    "\n",
    "pd.crosstab(test_set[1], predictions, rownames=['actuals'], colnames=['predictions'])"
   ]
  },
  {
   "cell_type": "code",
   "execution_count": 291,
   "metadata": {},
   "outputs": [
    {
     "name": "stdout",
     "output_type": "stream",
     "text": [
      "false positive after Hyper-Parameter change = 0.8095238095238095\n",
      "false positive before Hyper-Parameter change = 0.8027210884353742\n"
     ]
    }
   ],
   "source": [
    "print(\"false positive after Hyper-Parameter change = {}\".format(119/(28+119)))\n",
    "print(\"false positive before Hyper-Parameter change = {}\".format(118/(29+118)))\n"
   ]
  },
  {
   "attachments": {},
   "cell_type": "markdown",
   "metadata": {
    "nbpresent": {
     "id": "1258c01b-c2f7-484b-a824-04123115c4e0"
    }
   },
   "source": [
    "# Analyzing the Results\n",
    "recall on fraud is this mode is about 81% as opposed to 80% with default parameters. The improvement is less that 1% while we lost about 10% in terms of accuracy as it is also evident from the confusion matrix below.\n",
    "An important fact to notice is that from parallel models, in this model, model #8 and in the model with default values model #12, yielded the results. This is testament to the power of HPO, which SageMaker provides out of the box. Running 32 models in parallel has produced better result compared to my attempts to improve the results based on manual tuning.\n",
    "\n",
    "| After Changing Hyper-Parameters | Before Changing Hyper-Parameters|\n",
    "|:--------------------------------|:--------------------------------|\n",
    "| model: 8                        | model: 12                       |\n",
    "| threshold: 0.019479             | threshold: 0.028                |\n",
    "| score: 0.808696                 | score: 0.999418                 |\n",
    "\n",
    "\n",
    "# Concolusions\n",
    "There are strong benefits in using Amazon SageMaker and out-of-the-box algorithms. \n",
    "\n",
    "We have observed how easily we can build an end-to-end data science pipeline without worrying about operational issues. \n",
    "\n",
    "pre-trained algorithms provide you with benefits of transfer learning and the ability to start from a trained model and improve the model for your data. This will reduce training time and thus reducing cost of training.\n",
    "\n",
    "HPO (Hyper-Parameter Optimizer) permits running several models in parallel and picking the best one automatically. This significantly redues experiment time by taking over tedious tasks of tweaking parameters and comparing results.\n"
   ]
  },
  {
   "cell_type": "markdown",
   "metadata": {
    "nbpresent": {
     "id": "94a82f75-6c54-49bd-8e92-fce009ac4422"
    }
   },
   "source": [
    "# (optional) Delete the endpoint\n",
    "f you're ready to be done with this notebook, please run the delete_endpoint line in the cell below. This will remove the hosted endpoint you created and avoid any charges from a stray instance being left on."
   ]
  },
  {
   "cell_type": "code",
   "execution_count": null,
   "metadata": {
    "collapsed": true
   },
   "outputs": [],
   "source": [
    "linear.delete_endpoint()"
   ]
  }
 ],
 "metadata": {
  "kernelspec": {
   "display_name": "conda_python3",
   "language": "python",
   "name": "conda_python3"
  },
  "language_info": {
   "codemirror_mode": {
    "name": "ipython",
    "version": 3
   },
   "file_extension": ".py",
   "mimetype": "text/x-python",
   "name": "python",
   "nbconvert_exporter": "python",
   "pygments_lexer": "ipython3",
   "version": "3.6.2"
  }
 },
 "nbformat": 4,
 "nbformat_minor": 2
}
