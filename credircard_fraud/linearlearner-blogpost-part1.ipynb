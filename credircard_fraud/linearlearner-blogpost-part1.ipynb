{
 "cells": [
  {
   "cell_type": "markdown",
   "metadata": {},
   "source": [
    "# Linear Regression and Binary Classification, a Friendly Introduction"
   ]
  },
  {
   "cell_type": "markdown",
   "metadata": {},
   "source": [
    "# Assumptions and Disclaimers\n",
    "This blogpost assumes that you have already completed the following tutorials from Amazon SageMaker docuemntation:\n",
    "- [Setting up](https://docs.aws.amazon.com/sagemaker/latest/dg/gs-set-up.html)\n",
    "- [Create am Amazon SageMaker Notebook Instance](https://docs.aws.amazon.com/sagemaker/latest/dg/gs-setup-working-env.html)\n",
    "- I have included 'sagemaker' in the name of my S3 bucket, \"cyrusmv-sagemaker-demos' and have chosen to let any SageMaker notebook instance to access any S3 bucket with the term 'sagemaker' included in the name. This is however is not a recommended security option for production and is only useful for simplifying the flow of the blog.\n",
    "- In this blog I am using [Titanic dataset from Kaggle](https://www.kaggle.com/c/titanic/data). I have put the dataset in an S3 bucket. You should also download the dataset and upload the data onto S3 otherwide you shall receive errors.\n",
    "\n"
   ]
  },
  {
   "cell_type": "markdown",
   "metadata": {},
   "source": [
    "# Introduction\n",
    "Surprisingly, many problems in the real-world can be approximated to a linear problem, meaning that a linear polynomial can provide a good output approximation to an n-dimensional input vector. Linear regression is perhaps the most applied and simplest of all machine learning models.\n",
    "\n",
    "With this in mind, we have implemented a scalable linear regression model as a part of Amazon Algorithms that can be used in Amazon SageMaker.\n",
    "\n",
    "In first part of this post I intend to provide an easy and intuitive introduction to linear regression as well as providing references to implement your own linear regression, both from scratch and using MXNet and Gluon.\n",
    "\n",
    "In part 2, Getting Hands-On with Linear Learner and Amazon SageMaker, I use the Visa Credit Card Fraud dataset from Kaggle, pre-process the data, and use Amazon LinearLearner to predict fraudulent transactions. During the course of Part 2 of the blog I walk through an entire processes of data pre-processing, training, and deployment of a model as a live endpoint. \n",
    "\n",
    "In part 2 of the blog, we observe that using default values of LinearLeaner yields an impressive precision of near certainty. However, the recall on the fraudulent transactions is 80%. In part 3 of the blog, Excel in tuning models using Amazon LinearLearner Algorithm, I attempt to fine-tune the model on the Visa dataset to see whether or not the recall could be improved. \n"
   ]
  },
  {
   "cell_type": "markdown",
   "metadata": {},
   "source": [
    "# An Introduction to Linear Regression\n",
    "## The Theory:\n",
    "Let us consider a dataset composed of discrete values scattered around in a way that a straight line can pass through them, meaning most of the data are within a certain distance from the line.\n",
    "\n",
    "Remembering from high-school math, we know that in a two-dimensional space a straight line can be represented a function, formalized as:\n",
    "$$f:\\mathcal{D} \\rightarrow \\mathcal{R}$$\n",
    "$$y = f(x) = ax + b$$\n",
    "Now if $\\mathcal{D}=\\left\\{0, 2, 3, ..., 49\\right\\}$, then for $a=2$ and $b=1$, $\\mathcal{R}$ is a set including all positive odd numbers that are less than $100$.\n",
    "\n",
    "Below we create such data and plot the function."
   ]
  },
  {
   "cell_type": "code",
   "execution_count": 1,
   "metadata": {
    "collapsed": true
   },
   "outputs": [],
   "source": [
    "import numpy as np #a library for array operations\n",
    "import matplotlib.pyplot as plt #Python 2D plotting library\n",
    "import random as rnd\n",
    "import seaborn as sns           #Plotting library based on matplotlib that can take pandas.DataFrame inputs\n",
    "import pandas as pd             #tabular data structure with SQL-like function support\n",
    "import boto3                    #Python SDK for AWS services"
   ]
  },
  {
   "cell_type": "code",
   "execution_count": 2,
   "metadata": {
    "collapsed": true
   },
   "outputs": [],
   "source": [
    "range_start = 0\n",
    "range_end = 49"
   ]
  },
  {
   "cell_type": "code",
   "execution_count": 3,
   "metadata": {},
   "outputs": [
    {
     "data": {
      "image/png": "[encoded data removed]",
      "text/plain": [
       "<matplotlib.figure.Figure at 0x7f62d8cfc940>"
      ]
     },
     "metadata": {},
     "output_type": "display_data"
    }
   ],
   "source": [
    "d = np.arange(range_start, range_end)\n",
    "r = list(map(lambda x: 2 * x + 1, d)) #function y = 2x+1 for domain d, returning the range as a list\n",
    "plt.scatter(d, r, )\n",
    "plt.show()"
   ]
  },
  {
   "cell_type": "markdown",
   "metadata": {},
   "source": [
    "**Adding Noise**\n",
    "The problem is that the data in real life is noisy and almost never follows a perfect line. In many cases, however the distribution of data permits us to approximate the data to a line that represents the distribution with some error. Below we synthesize a dataset based on the same function, except that, the domain will be a random normal distribution with some random noise between 0 and 1."
   ]
  },
  {
   "cell_type": "code",
   "execution_count": 4,
   "metadata": {},
   "outputs": [
    {
     "data": {
      "image/png": "[encoded data removed]",
      "text/plain": [
       "<matplotlib.figure.Figure at 0x7f62d8ca9cc0>"
      ]
     },
     "metadata": {},
     "output_type": "display_data"
    }
   ],
   "source": [
    "noise_factor = 2\n",
    "rnd.seed(42)\n",
    "np.random.seed(13)\n",
    "d = np.random.normal(loc=range_start, scale=1, size=range_end + 1)\n",
    "r = list(map(lambda x: 2 * x + 1 + rnd.random()* noise_factor, d))\n",
    "plt.scatter(d, r, )\n",
    "plt.show()"
   ]
  },
  {
   "cell_type": "markdown",
   "metadata": {},
   "source": [
    "It is noticeable that a straight line can provide a good approximation for the data distribution. in a multi-dimensional world, where the function variable is a vector such as <age, income, postal district, ...>, our function would be:\n",
    "$$f:{V} \\subseteq \\mathbb{R}^n  \\rightarrow \\mathcal{R} \\subseteq \\mathbb{R}\n",
    "\\\\ \n",
    "y = f(V) = V.W + b\n",
    "$$\n",
    "in which V is the input feature vector, w is a parameter or weight vector and b is bias. The task of linear regression is to find optimal w and b in order to approximate the data to a line.\n",
    "\n",
    "In the graph below we are using seaborn library in order to find the optimal line that approximates our distribution (the green line).\n",
    "\n",
    "\n",
    "Suppose we have a 4D input space $$V=\\{inv_1=gender, v_2=age, v_3=education, v_4=postal\\_district\\}$$ and would like to predict income. Since the range of the function is $\\mathbb {R}$ and $V$ has a dimention of $1 \\times 4$, we should find $W_{4 \\times 1}$ and scalar $d$ to solve the linear regression problem.\n",
    "\n",
    "$$\n",
    "f: \\mathbb{R^4} \\rightarrow \\mathbb{R} \\\\ \n",
    "f(V) = \\left[\\begin{array}{cc} v_1 & v_2 & v_3 & v_4 \\end{array}\\right]_{1 \\times 4} \\ \n",
    "\\left[\\begin{array}{cc} w_1\\\\ w_2\\\\ w_3\\\\ w_4 \\end{array}\\right]_{4 \\times 1} \\\n",
    "+ d \\ \\epsilon \\ \\mathbb {R}  = y \\ \\epsilon \\ \\mathbb {R}\n",
    "$$\n",
    "\n",
    "In machine learning the input space is always multi-dimensional, but in our examples and plots we have used 1D synthetic data in order to simplify the presentation.\n",
    "\n",
    "*Challenge: You can change shape and noise of the data and check the results.*\n"
   ]
  },
  {
   "cell_type": "code",
   "execution_count": 5,
   "metadata": {},
   "outputs": [
    {
     "data": {
      "image/png": "[encoded data removed]",
      "text/plain": [
       "<matplotlib.figure.Figure at 0x7f630caaadd8>"
      ]
     },
     "metadata": {},
     "output_type": "display_data"
    }
   ],
   "source": [
    "noisy_data = pd.DataFrame(np.column_stack((d, r)), columns=['x', 'y'])\n",
    "sns.set(color_codes=True)\n",
    "sns.regplot('x', 'y', data=noisy_data, line_kws={'color': 'g'}, scatter_kws={'color':'b'})\n",
    "plt.show()\n"
   ]
  },
  {
   "cell_type": "code",
   "execution_count": 6,
   "metadata": {},
   "outputs": [
    {
     "name": "stdout",
     "output_type": "stream",
     "text": [
      "in the perfect world f(d[5]) = f(0.5323378882945463) = 2.064675776589093\n",
      "in the reality f(d[5]) = f(0.5323378882945463) = 3.4180747514349155\n"
     ]
    }
   ],
   "source": [
    "print(\"in the perfect world f(d[5]) = f({}) = {}\".format(d[5], 2*d[5]+1))\n",
    "print(\"in the reality f(d[5]) = f({}) = {}\".format(d[5], r[5]))\n"
   ]
  },
  {
   "cell_type": "markdown",
   "metadata": {},
   "source": [
    "## Model Error\n",
    "In the perfect world f(d[5]) = f(0.5323378882945463) = __2.064675776589093__. \n",
    "In the reality f(d[5]) = f(0.5323378882945463) = **3.4180747514349155**.\n",
    "\n",
    "The first number is passing a number to our linear function, calculating the results based on its formula and printing the results. The second is the actual number. There is a distance between the two numbers. The delta between the two numbers is resulted from error in the model. As we approximated out data points to a line, we introduced a delta between actual position of a point and its projected position on the regression line.\n",
    "\n",
    "This might look like loss of accuracy, but in fact this approximation is the source of generalization power of machine learning for as long as the error is within acceptable threshold.\n",
    "\n",
    "There are many methods of calculating error. One of the most common for linear regression is MSE or Mean Squared Error.\n",
    "\n",
    "Mean Squared Error is the average of Euclidean distance between observed values (values collected from real-world) and projected valued from our regression line.\n",
    "\n",
    "\n",
    "![Model Error or Loss](https://github.com/zackchase/mxnet-the-straight-dope/raw/dc1822005027d63eb9a20cde1a6276c7714050f4/img/linear-regression.png)\n",
    "\n",
    "*reference: https://github.com/zackchase/mxnet-the-straight-dope/blob/master/chapter02_supervised-learning/linear-regression-scratch.ipynb*\n",
    "\n",
    "We can observe in thed below diagram that every point has a distance to the line. MSE is averaring distances of all the datapoint to our regression lin or formally:\n",
    "\n",
    "Assume that $N$ is the number of data points and $d_i$ is the euclidean distance of data point $p_i$ to the regression line $l$, then: \n",
    "$$\n",
    "MSE = \\frac{1}{n}\\sum_{i=1}^{N}d_i\n",
    "$$\n",
    "if $y_i$ is the the observed value for a particular input $x_i$ and $\\hat{y_i}$ is the predicted value, then their euclidean distance is calculated as:\n",
    "\n",
    "$$\n",
    "d^2 = (y_i - \\hat{y_i})^2 \\\\\n",
    "\\therefore \\\\\n",
    "\\mathcal{L} = MSE = \\frac{1}{n}\\sum_{i=1}^{N}{(y_i - \\hat{y_i})^2}\n",
    "$$\n",
    "\n",
    "RMSE is a varint of MSE and is very popular for calculation of model error:\n",
    "$$\n",
    "\\mathcal{L} = RMSE = \\sqrt{\\frac{1}{n}\\sum_{i=1}^{N}{(y_i - \\hat{y_i})^2}}\n",
    "$$"
   ]
  },
  {
   "attachments": {},
   "cell_type": "markdown",
   "metadata": {},
   "source": [
    "## An Example\n",
    "A classic example of linear regression is survival score for a passenger in Titanic's infamous maiden voyage. Titanic dataset in Kaggle has captured this data.for more information on the dataset please chekout [!this link](https://www.kaggle.com/c/titanic). \n",
    "\n",
    "In Titanic dataset there are several inputs such as class, ticket price, gender, age, and others. We would like to project a probability for survival of a passenger, given features representeting the passenger.\n",
    "\n",
    "are several inputs such as class, ticket price, gender, age, and others. We would like to project a probability for survival of a passenger, given features representing the passenger.\n",
    "\n",
    "One final twist is that we would like to make a binary prediction as to whether or not a passenger will survive. Regression models always make a real-valued prediction. If that value is bounded between 0 and 1, then that would be a probability value from a distribution. We can then use a threshold or project the output value to a binary projection. \n",
    "\n",
    "For instance, we can set the threshold to 0.5, anything above indicating a passenger has survived, and below indicates otherwise.\n",
    "\n",
    "Since models do approximate, they necessarily produce errors. A model can predict false positives, true positive, false negative, and true negative. \n",
    "\n",
    "-\tA false positive prediction in our example is when the model predicts survival when the person has not survived.\n",
    "\n",
    "-\tA true positive prediction in our example is when the model predicts survival correctly.\n",
    "\n",
    "-\tA false negative prediction in our example is when the model predicts not-survived while the person has survived.\n",
    "\n",
    "-\tA true negative prediction in out example is when the model correctly predicts that a passenger has not survived.\n",
    "\n",
    "Based on what is important for us we might want to adjust the threshold in order to reduce false positives or false negatives at the expense of a model’s total precision or accuracy.\n",
    "\n",
    "Let us take a look at another example. In the case of a cancer diagnosis algorithm, we would like to have no-false negatives, if at all possible. It is always better to flag a healthy patient as suspect and perform further tests, as opposed to letting a patient with cancer leaves the clinic unchecked.\n",
    "\n",
    "*Note that I have already uploaded titaic train.csv from the kaggle website onto an S3 bucket.*\n"
   ]
  },
  {
   "cell_type": "code",
   "execution_count": 7,
   "metadata": {
    "collapsed": true
   },
   "outputs": [],
   "source": [
    "#Downloading data files from S3 to the notebook instance\n",
    "bucket = 'cyrusmv-sagemaker-demos' \n",
    "protocol = 's3://'\n",
    "\n",
    "#titanic dataset\n",
    "titanic_train_prefix = 'titanic-kaggle/train.csv'\n",
    "titanic_train_datafile = 'data/titanic_train.csv'\n",
    "\n",
    "\n",
    "#Downloading the file to a local folder\n",
    "client = boto3.client('s3')\n",
    "with open(titanic_train_datafile, 'wb') as f:\n",
    "    client.download_fileobj(bucket, titanic_train_prefix, f)\n",
    "    \n",
    "    \n"
   ]
  },
  {
   "cell_type": "code",
   "execution_count": 8,
   "metadata": {},
   "outputs": [
    {
     "data": {
      "text/html": [
       "<div>\n",
       "<style>\n",
       "    .dataframe thead tr:only-child th {\n",
       "        text-align: right;\n",
       "    }\n",
       "\n",
       "    .dataframe thead th {\n",
       "        text-align: left;\n",
       "    }\n",
       "\n",
       "    .dataframe tbody tr th {\n",
       "        vertical-align: top;\n",
       "    }\n",
       "</style>\n",
       "<table border=\"1\" class=\"dataframe\">\n",
       "  <thead>\n",
       "    <tr style=\"text-align: right;\">\n",
       "      <th></th>\n",
       "      <th>PassengerId</th>\n",
       "      <th>Survived</th>\n",
       "      <th>Pclass</th>\n",
       "      <th>Name</th>\n",
       "      <th>Sex</th>\n",
       "      <th>Age</th>\n",
       "      <th>SibSp</th>\n",
       "      <th>Parch</th>\n",
       "      <th>Ticket</th>\n",
       "      <th>Fare</th>\n",
       "      <th>Cabin</th>\n",
       "      <th>Embarked</th>\n",
       "    </tr>\n",
       "  </thead>\n",
       "  <tbody>\n",
       "    <tr>\n",
       "      <th>0</th>\n",
       "      <td>1</td>\n",
       "      <td>0</td>\n",
       "      <td>3</td>\n",
       "      <td>Braund, Mr. Owen Harris</td>\n",
       "      <td>male</td>\n",
       "      <td>22.0</td>\n",
       "      <td>1</td>\n",
       "      <td>0</td>\n",
       "      <td>A/5 21171</td>\n",
       "      <td>7.2500</td>\n",
       "      <td>NaN</td>\n",
       "      <td>S</td>\n",
       "    </tr>\n",
       "    <tr>\n",
       "      <th>1</th>\n",
       "      <td>2</td>\n",
       "      <td>1</td>\n",
       "      <td>1</td>\n",
       "      <td>Cumings, Mrs. John Bradley (Florence Briggs Th...</td>\n",
       "      <td>female</td>\n",
       "      <td>38.0</td>\n",
       "      <td>1</td>\n",
       "      <td>0</td>\n",
       "      <td>PC 17599</td>\n",
       "      <td>71.2833</td>\n",
       "      <td>C85</td>\n",
       "      <td>C</td>\n",
       "    </tr>\n",
       "    <tr>\n",
       "      <th>2</th>\n",
       "      <td>3</td>\n",
       "      <td>1</td>\n",
       "      <td>3</td>\n",
       "      <td>Heikkinen, Miss. Laina</td>\n",
       "      <td>female</td>\n",
       "      <td>26.0</td>\n",
       "      <td>0</td>\n",
       "      <td>0</td>\n",
       "      <td>STON/O2. 3101282</td>\n",
       "      <td>7.9250</td>\n",
       "      <td>NaN</td>\n",
       "      <td>S</td>\n",
       "    </tr>\n",
       "    <tr>\n",
       "      <th>3</th>\n",
       "      <td>4</td>\n",
       "      <td>1</td>\n",
       "      <td>1</td>\n",
       "      <td>Futrelle, Mrs. Jacques Heath (Lily May Peel)</td>\n",
       "      <td>female</td>\n",
       "      <td>35.0</td>\n",
       "      <td>1</td>\n",
       "      <td>0</td>\n",
       "      <td>113803</td>\n",
       "      <td>53.1000</td>\n",
       "      <td>C123</td>\n",
       "      <td>S</td>\n",
       "    </tr>\n",
       "    <tr>\n",
       "      <th>4</th>\n",
       "      <td>5</td>\n",
       "      <td>0</td>\n",
       "      <td>3</td>\n",
       "      <td>Allen, Mr. William Henry</td>\n",
       "      <td>male</td>\n",
       "      <td>35.0</td>\n",
       "      <td>0</td>\n",
       "      <td>0</td>\n",
       "      <td>373450</td>\n",
       "      <td>8.0500</td>\n",
       "      <td>NaN</td>\n",
       "      <td>S</td>\n",
       "    </tr>\n",
       "  </tbody>\n",
       "</table>\n",
       "</div>"
      ],
      "text/plain": [
       "   PassengerId  Survived  Pclass  \\\n",
       "0            1         0       3   \n",
       "1            2         1       1   \n",
       "2            3         1       3   \n",
       "3            4         1       1   \n",
       "4            5         0       3   \n",
       "\n",
       "                                                Name     Sex   Age  SibSp  \\\n",
       "0                            Braund, Mr. Owen Harris    male  22.0      1   \n",
       "1  Cumings, Mrs. John Bradley (Florence Briggs Th...  female  38.0      1   \n",
       "2                             Heikkinen, Miss. Laina  female  26.0      0   \n",
       "3       Futrelle, Mrs. Jacques Heath (Lily May Peel)  female  35.0      1   \n",
       "4                           Allen, Mr. William Henry    male  35.0      0   \n",
       "\n",
       "   Parch            Ticket     Fare Cabin Embarked  \n",
       "0      0         A/5 21171   7.2500   NaN        S  \n",
       "1      0          PC 17599  71.2833   C85        C  \n",
       "2      0  STON/O2. 3101282   7.9250   NaN        S  \n",
       "3      0            113803  53.1000  C123        S  \n",
       "4      0            373450   8.0500   NaN        S  "
      ]
     },
     "execution_count": 8,
     "metadata": {},
     "output_type": "execute_result"
    }
   ],
   "source": [
    "#Inspecting Data\n",
    "df = pd.read_csv(titanic_train_datafile)\n",
    "df.head(5)"
   ]
  },
  {
   "attachments": {},
   "cell_type": "markdown",
   "metadata": {},
   "source": [
    "All columns, other than *survived* are called *features*. The goal of regression task is to predicta *target* based on learning patterns from *features*. Column *survived* is our *target*.\n",
    "The regression task predicts a probability of survival. As mentioned before in a binary prediction task, we use a threshold function to make a binary decision based on a probability score. For example, using a step function to set the threshold.\n",
    "\n",
    "$$ \n",
    "f(x) = \\begin{cases} \n",
    "      1 & x\\geqq 0.5, \\\\\n",
    "      0 & x< 0.5 \n",
    "   \\end{cases}\n",
    "$$\n",
    "We can indeed change the threshold in order to tune the model for precision or recall as mentionef before.\n",
    "\n",
    "__***Note:***__ for logistic regression or Binary Classification Binary Cross Entropy Loss is being used. A binary decision could also be solved a classification problems with two classes, and apply SoftMaxCrossEntropy loss function. This is outside of the scoped of this blog. For more information plase refer to: [logistic regression using gluon](https://github.com/zackchase/mxnet-the-straight-dope/blob/master/chapter02_supervised-learning/logistic-regression-gluon.ipynb)\n",
    "\n",
    "\n",
    "\n",
    "We shall now depart from the Titanic example, because the data requires pre-processing. Pre-processing of data is a crucial task in developing machine learning models and requires a separate post. We now use the credit card data set from Kaggle, where data is pre-processed, meaning:\n",
    "- All data is numeric\n",
    "- All data is factorized, meaning that ranges are transformed to *\"one-of-N* form.\n",
    "- All data is normalized, meaning that the ranges have become comparable.\n"
   ]
  },
  {
   "cell_type": "markdown",
   "metadata": {},
   "source": [
    "For more information and learning how to write your own linear regression and binary classification models please refer to:\n",
    "- [linear regression from scratch](https://github.com/zackchase/mxnet-the-straight-dope/blob/master/chapter02_supervised-learning/linear-regression-scratch.ipynb)\n",
    "- [linear regression using gluon](https://github.com/zackchase/mxnet-the-straight-dope/blob/master/chapter02_supervised-learning/linear-regression-gluon.ipynb)\n",
    "\n",
    "for the binary variant or logistic regression please refer to:\n",
    "- [logistic regression using gluon](https://github.com/zackchase/mxnet-the-straight-dope/blob/master/chapter02_supervised-learning/logistic-regression-gluon.ipynb)\n"
   ]
  },
  {
   "cell_type": "markdown",
   "metadata": {},
   "source": [
    "# End of Part 1.\n",
    "for learning about linear learner pleased read part 2 of this blog"
   ]
  }
 ],
 "metadata": {
  "kernelspec": {
   "display_name": "conda_python3",
   "language": "python",
   "name": "conda_python3"
  },
  "language_info": {
   "codemirror_mode": {
    "name": "ipython",
    "version": 3
   },
   "file_extension": ".py",
   "mimetype": "text/x-python",
   "name": "python",
   "nbconvert_exporter": "python",
   "pygments_lexer": "ipython3",
   "version": "3.6.2"
  }
 },
 "nbformat": 4,
 "nbformat_minor": 2
}
